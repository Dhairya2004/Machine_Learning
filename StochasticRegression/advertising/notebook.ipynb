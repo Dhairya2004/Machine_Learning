{
 "cells": [
  {
   "cell_type": "code",
   "metadata": {
    "tags": [],
    "cell_id": "00000-7e613931-5a53-4304-b2f5-c1af6710ab45",
    "deepnote_to_be_reexecuted": false,
    "source_hash": "cebd8e59",
    "execution_start": 1629824789117,
    "execution_millis": 839,
    "deepnote_cell_type": "code"
   },
   "source": "import numpy as np\nimport pandas\nimport matplotlib.pyplot as plt\nimport random",
   "execution_count": 1,
   "outputs": []
  },
  {
   "cell_type": "code",
   "metadata": {
    "tags": [],
    "cell_id": "00001-501b8847-f387-4938-b0ae-e0f7f7a1ab1d",
    "deepnote_to_be_reexecuted": false,
    "source_hash": "5c1cb750",
    "execution_start": 1629824789958,
    "execution_millis": 44,
    "deepnote_cell_type": "code"
   },
   "source": "df = pandas.read_csv('advertising.csv')\ndf",
   "execution_count": 2,
   "outputs": [
    {
     "output_type": "execute_result",
     "execution_count": 2,
     "data": {
      "application/vnd.deepnote.dataframe.v2+json": {
       "row_count": 200,
       "column_count": 4,
       "columns": [
        {
         "name": "TV",
         "dtype": "float64",
         "stats": {
          "unique_count": 190,
          "nan_count": 0,
          "min": "0.7",
          "max": "296.4",
          "histogram": [
           {
            "bin_start": 0.7,
            "bin_end": 30.27,
            "count": 26
           },
           {
            "bin_start": 30.27,
            "bin_end": 59.84,
            "count": 15
           },
           {
            "bin_start": 59.84,
            "bin_end": 89.41000000000001,
            "count": 21
           },
           {
            "bin_start": 89.41000000000001,
            "bin_end": 118.98,
            "count": 18
           },
           {
            "bin_start": 118.98,
            "bin_end": 148.54999999999998,
            "count": 19
           },
           {
            "bin_start": 148.54999999999998,
            "bin_end": 178.12,
            "count": 17
           },
           {
            "bin_start": 178.12,
            "bin_end": 207.69,
            "count": 22
           },
           {
            "bin_start": 207.69,
            "bin_end": 237.26,
            "count": 26
           },
           {
            "bin_start": 237.26,
            "bin_end": 266.83,
            "count": 20
           },
           {
            "bin_start": 266.83,
            "bin_end": 296.4,
            "count": 16
           }
          ]
         }
        },
        {
         "name": "Radio",
         "dtype": "float64",
         "stats": {
          "unique_count": 167,
          "nan_count": 0,
          "min": "0.0",
          "max": "49.6",
          "histogram": [
           {
            "bin_start": 0,
            "bin_end": 4.96,
            "count": 30
           },
           {
            "bin_start": 4.96,
            "bin_end": 9.92,
            "count": 20
           },
           {
            "bin_start": 9.92,
            "bin_end": 14.879999999999999,
            "count": 21
           },
           {
            "bin_start": 14.879999999999999,
            "bin_end": 19.84,
            "count": 17
           },
           {
            "bin_start": 19.84,
            "bin_end": 24.8,
            "count": 18
           },
           {
            "bin_start": 24.8,
            "bin_end": 29.759999999999998,
            "count": 23
           },
           {
            "bin_start": 29.759999999999998,
            "bin_end": 34.72,
            "count": 14
           },
           {
            "bin_start": 34.72,
            "bin_end": 39.68,
            "count": 21
           },
           {
            "bin_start": 39.68,
            "bin_end": 44.64,
            "count": 21
           },
           {
            "bin_start": 44.64,
            "bin_end": 49.6,
            "count": 15
           }
          ]
         }
        },
        {
         "name": "Newspaper",
         "dtype": "float64",
         "stats": {
          "unique_count": 172,
          "nan_count": 0,
          "min": "0.3",
          "max": "114.0",
          "histogram": [
           {
            "bin_start": 0.3,
            "bin_end": 11.670000000000002,
            "count": 47
           },
           {
            "bin_start": 11.670000000000002,
            "bin_end": 23.040000000000003,
            "count": 41
           },
           {
            "bin_start": 23.040000000000003,
            "bin_end": 34.41,
            "count": 35
           },
           {
            "bin_start": 34.41,
            "bin_end": 45.78,
            "count": 30
           },
           {
            "bin_start": 45.78,
            "bin_end": 57.150000000000006,
            "count": 21
           },
           {
            "bin_start": 57.150000000000006,
            "bin_end": 68.52,
            "count": 13
           },
           {
            "bin_start": 68.52,
            "bin_end": 79.89,
            "count": 9
           },
           {
            "bin_start": 79.89,
            "bin_end": 91.26,
            "count": 2
           },
           {
            "bin_start": 91.26,
            "bin_end": 102.63000000000001,
            "count": 1
           },
           {
            "bin_start": 102.63000000000001,
            "bin_end": 114,
            "count": 1
           }
          ]
         }
        },
        {
         "name": "Sales",
         "dtype": "float64",
         "stats": {
          "unique_count": 121,
          "nan_count": 0,
          "min": "1.6",
          "max": "27.0",
          "histogram": [
           {
            "bin_start": 1.6,
            "bin_end": 4.140000000000001,
            "count": 2
           },
           {
            "bin_start": 4.140000000000001,
            "bin_end": 6.68,
            "count": 9
           },
           {
            "bin_start": 6.68,
            "bin_end": 9.22,
            "count": 17
           },
           {
            "bin_start": 9.22,
            "bin_end": 11.76,
            "count": 30
           },
           {
            "bin_start": 11.76,
            "bin_end": 14.299999999999999,
            "count": 29
           },
           {
            "bin_start": 14.299999999999999,
            "bin_end": 16.84,
            "count": 30
           },
           {
            "bin_start": 16.84,
            "bin_end": 19.380000000000003,
            "count": 34
           },
           {
            "bin_start": 19.380000000000003,
            "bin_end": 21.92,
            "count": 30
           },
           {
            "bin_start": 21.92,
            "bin_end": 24.46,
            "count": 12
           },
           {
            "bin_start": 24.46,
            "bin_end": 27,
            "count": 7
           }
          ]
         }
        },
        {
         "name": "_deepnote_index_column",
         "dtype": "int64"
        }
       ],
       "rows_top": [
        {
         "TV": 230.1,
         "Radio": 37.8,
         "Newspaper": 69.2,
         "Sales": 22.1,
         "_deepnote_index_column": 0
        },
        {
         "TV": 44.5,
         "Radio": 39.3,
         "Newspaper": 45.1,
         "Sales": 10.4,
         "_deepnote_index_column": 1
        },
        {
         "TV": 17.2,
         "Radio": 45.9,
         "Newspaper": 69.3,
         "Sales": 12,
         "_deepnote_index_column": 2
        },
        {
         "TV": 151.5,
         "Radio": 41.3,
         "Newspaper": 58.5,
         "Sales": 16.5,
         "_deepnote_index_column": 3
        },
        {
         "TV": 180.8,
         "Radio": 10.8,
         "Newspaper": 58.4,
         "Sales": 17.9,
         "_deepnote_index_column": 4
        },
        {
         "TV": 8.7,
         "Radio": 48.9,
         "Newspaper": 75,
         "Sales": 7.2,
         "_deepnote_index_column": 5
        },
        {
         "TV": 57.5,
         "Radio": 32.8,
         "Newspaper": 23.5,
         "Sales": 11.8,
         "_deepnote_index_column": 6
        },
        {
         "TV": 120.2,
         "Radio": 19.6,
         "Newspaper": 11.6,
         "Sales": 13.2,
         "_deepnote_index_column": 7
        },
        {
         "TV": 8.6,
         "Radio": 2.1,
         "Newspaper": 1,
         "Sales": 4.8,
         "_deepnote_index_column": 8
        },
        {
         "TV": 199.8,
         "Radio": 2.6,
         "Newspaper": 21.2,
         "Sales": 15.6,
         "_deepnote_index_column": 9
        },
        {
         "TV": 66.1,
         "Radio": 5.8,
         "Newspaper": 24.2,
         "Sales": 12.6,
         "_deepnote_index_column": 10
        },
        {
         "TV": 214.7,
         "Radio": 24,
         "Newspaper": 4,
         "Sales": 17.4,
         "_deepnote_index_column": 11
        },
        {
         "TV": 23.8,
         "Radio": 35.1,
         "Newspaper": 65.9,
         "Sales": 9.2,
         "_deepnote_index_column": 12
        },
        {
         "TV": 97.5,
         "Radio": 7.6,
         "Newspaper": 7.2,
         "Sales": 13.7,
         "_deepnote_index_column": 13
        },
        {
         "TV": 204.1,
         "Radio": 32.9,
         "Newspaper": 46,
         "Sales": 19,
         "_deepnote_index_column": 14
        },
        {
         "TV": 195.4,
         "Radio": 47.7,
         "Newspaper": 52.9,
         "Sales": 22.4,
         "_deepnote_index_column": 15
        },
        {
         "TV": 67.8,
         "Radio": 36.6,
         "Newspaper": 114,
         "Sales": 12.5,
         "_deepnote_index_column": 16
        },
        {
         "TV": 281.4,
         "Radio": 39.6,
         "Newspaper": 55.8,
         "Sales": 24.4,
         "_deepnote_index_column": 17
        },
        {
         "TV": 69.2,
         "Radio": 20.5,
         "Newspaper": 18.3,
         "Sales": 11.3,
         "_deepnote_index_column": 18
        },
        {
         "TV": 147.3,
         "Radio": 23.9,
         "Newspaper": 19.1,
         "Sales": 14.6,
         "_deepnote_index_column": 19
        },
        {
         "TV": 218.4,
         "Radio": 27.7,
         "Newspaper": 53.4,
         "Sales": 18,
         "_deepnote_index_column": 20
        },
        {
         "TV": 237.4,
         "Radio": 5.1,
         "Newspaper": 23.5,
         "Sales": 17.5,
         "_deepnote_index_column": 21
        },
        {
         "TV": 13.2,
         "Radio": 15.9,
         "Newspaper": 49.6,
         "Sales": 5.6,
         "_deepnote_index_column": 22
        },
        {
         "TV": 228.3,
         "Radio": 16.9,
         "Newspaper": 26.2,
         "Sales": 20.5,
         "_deepnote_index_column": 23
        },
        {
         "TV": 62.3,
         "Radio": 12.6,
         "Newspaper": 18.3,
         "Sales": 9.7,
         "_deepnote_index_column": 24
        },
        {
         "TV": 262.9,
         "Radio": 3.5,
         "Newspaper": 19.5,
         "Sales": 17,
         "_deepnote_index_column": 25
        },
        {
         "TV": 142.9,
         "Radio": 29.3,
         "Newspaper": 12.6,
         "Sales": 15,
         "_deepnote_index_column": 26
        },
        {
         "TV": 240.1,
         "Radio": 16.7,
         "Newspaper": 22.9,
         "Sales": 20.9,
         "_deepnote_index_column": 27
        },
        {
         "TV": 248.8,
         "Radio": 27.1,
         "Newspaper": 22.9,
         "Sales": 18.9,
         "_deepnote_index_column": 28
        },
        {
         "TV": 70.6,
         "Radio": 16,
         "Newspaper": 40.8,
         "Sales": 10.5,
         "_deepnote_index_column": 29
        },
        {
         "TV": 292.9,
         "Radio": 28.3,
         "Newspaper": 43.2,
         "Sales": 21.4,
         "_deepnote_index_column": 30
        },
        {
         "TV": 112.9,
         "Radio": 17.4,
         "Newspaper": 38.6,
         "Sales": 11.9,
         "_deepnote_index_column": 31
        },
        {
         "TV": 97.2,
         "Radio": 1.5,
         "Newspaper": 30,
         "Sales": 13.2,
         "_deepnote_index_column": 32
        },
        {
         "TV": 265.6,
         "Radio": 20,
         "Newspaper": 0.3,
         "Sales": 17.4,
         "_deepnote_index_column": 33
        },
        {
         "TV": 95.7,
         "Radio": 1.4,
         "Newspaper": 7.4,
         "Sales": 11.9,
         "_deepnote_index_column": 34
        },
        {
         "TV": 290.7,
         "Radio": 4.1,
         "Newspaper": 8.5,
         "Sales": 17.8,
         "_deepnote_index_column": 35
        },
        {
         "TV": 266.9,
         "Radio": 43.8,
         "Newspaper": 5,
         "Sales": 25.4,
         "_deepnote_index_column": 36
        },
        {
         "TV": 74.7,
         "Radio": 49.4,
         "Newspaper": 45.7,
         "Sales": 14.7,
         "_deepnote_index_column": 37
        },
        {
         "TV": 43.1,
         "Radio": 26.7,
         "Newspaper": 35.1,
         "Sales": 10.1,
         "_deepnote_index_column": 38
        },
        {
         "TV": 228,
         "Radio": 37.7,
         "Newspaper": 32,
         "Sales": 21.5,
         "_deepnote_index_column": 39
        },
        {
         "TV": 202.5,
         "Radio": 22.3,
         "Newspaper": 31.6,
         "Sales": 16.6,
         "_deepnote_index_column": 40
        },
        {
         "TV": 177,
         "Radio": 33.4,
         "Newspaper": 38.7,
         "Sales": 17.1,
         "_deepnote_index_column": 41
        },
        {
         "TV": 293.6,
         "Radio": 27.7,
         "Newspaper": 1.8,
         "Sales": 20.7,
         "_deepnote_index_column": 42
        },
        {
         "TV": 206.9,
         "Radio": 8.4,
         "Newspaper": 26.4,
         "Sales": 17.9,
         "_deepnote_index_column": 43
        },
        {
         "TV": 25.1,
         "Radio": 25.7,
         "Newspaper": 43.3,
         "Sales": 8.5,
         "_deepnote_index_column": 44
        },
        {
         "TV": 175.1,
         "Radio": 22.5,
         "Newspaper": 31.5,
         "Sales": 16.1,
         "_deepnote_index_column": 45
        },
        {
         "TV": 89.7,
         "Radio": 9.9,
         "Newspaper": 35.7,
         "Sales": 10.6,
         "_deepnote_index_column": 46
        },
        {
         "TV": 239.9,
         "Radio": 41.5,
         "Newspaper": 18.5,
         "Sales": 23.2,
         "_deepnote_index_column": 47
        },
        {
         "TV": 227.2,
         "Radio": 15.8,
         "Newspaper": 49.9,
         "Sales": 19.8,
         "_deepnote_index_column": 48
        },
        {
         "TV": 66.9,
         "Radio": 11.7,
         "Newspaper": 36.8,
         "Sales": 9.7,
         "_deepnote_index_column": 49
        },
        {
         "TV": 199.8,
         "Radio": 3.1,
         "Newspaper": 34.6,
         "Sales": 16.4,
         "_deepnote_index_column": 50
        },
        {
         "TV": 100.4,
         "Radio": 9.6,
         "Newspaper": 3.6,
         "Sales": 10.7,
         "_deepnote_index_column": 51
        },
        {
         "TV": 216.4,
         "Radio": 41.7,
         "Newspaper": 39.6,
         "Sales": 22.6,
         "_deepnote_index_column": 52
        },
        {
         "TV": 182.6,
         "Radio": 46.2,
         "Newspaper": 58.7,
         "Sales": 21.2,
         "_deepnote_index_column": 53
        },
        {
         "TV": 262.7,
         "Radio": 28.8,
         "Newspaper": 15.9,
         "Sales": 20.2,
         "_deepnote_index_column": 54
        },
        {
         "TV": 198.9,
         "Radio": 49.4,
         "Newspaper": 60,
         "Sales": 23.7,
         "_deepnote_index_column": 55
        },
        {
         "TV": 7.3,
         "Radio": 28.1,
         "Newspaper": 41.4,
         "Sales": 5.5,
         "_deepnote_index_column": 56
        },
        {
         "TV": 136.2,
         "Radio": 19.2,
         "Newspaper": 16.6,
         "Sales": 13.2,
         "_deepnote_index_column": 57
        },
        {
         "TV": 210.8,
         "Radio": 49.6,
         "Newspaper": 37.7,
         "Sales": 23.8,
         "_deepnote_index_column": 58
        },
        {
         "TV": 210.7,
         "Radio": 29.5,
         "Newspaper": 9.3,
         "Sales": 18.4,
         "_deepnote_index_column": 59
        },
        {
         "TV": 53.5,
         "Radio": 2,
         "Newspaper": 21.4,
         "Sales": 8.1,
         "_deepnote_index_column": 60
        },
        {
         "TV": 261.3,
         "Radio": 42.7,
         "Newspaper": 54.7,
         "Sales": 24.2,
         "_deepnote_index_column": 61
        },
        {
         "TV": 239.3,
         "Radio": 15.5,
         "Newspaper": 27.3,
         "Sales": 20.7,
         "_deepnote_index_column": 62
        },
        {
         "TV": 102.7,
         "Radio": 29.6,
         "Newspaper": 8.4,
         "Sales": 14,
         "_deepnote_index_column": 63
        },
        {
         "TV": 131.1,
         "Radio": 42.8,
         "Newspaper": 28.9,
         "Sales": 16,
         "_deepnote_index_column": 64
        },
        {
         "TV": 69,
         "Radio": 9.3,
         "Newspaper": 0.9,
         "Sales": 11.3,
         "_deepnote_index_column": 65
        },
        {
         "TV": 31.5,
         "Radio": 24.6,
         "Newspaper": 2.2,
         "Sales": 11,
         "_deepnote_index_column": 66
        },
        {
         "TV": 139.3,
         "Radio": 14.5,
         "Newspaper": 10.2,
         "Sales": 13.4,
         "_deepnote_index_column": 67
        },
        {
         "TV": 237.4,
         "Radio": 27.5,
         "Newspaper": 11,
         "Sales": 18.9,
         "_deepnote_index_column": 68
        },
        {
         "TV": 216.8,
         "Radio": 43.9,
         "Newspaper": 27.2,
         "Sales": 22.3,
         "_deepnote_index_column": 69
        },
        {
         "TV": 199.1,
         "Radio": 30.6,
         "Newspaper": 38.7,
         "Sales": 18.3,
         "_deepnote_index_column": 70
        },
        {
         "TV": 109.8,
         "Radio": 14.3,
         "Newspaper": 31.7,
         "Sales": 12.4,
         "_deepnote_index_column": 71
        },
        {
         "TV": 26.8,
         "Radio": 33,
         "Newspaper": 19.3,
         "Sales": 8.8,
         "_deepnote_index_column": 72
        },
        {
         "TV": 129.4,
         "Radio": 5.7,
         "Newspaper": 31.3,
         "Sales": 11,
         "_deepnote_index_column": 73
        },
        {
         "TV": 213.4,
         "Radio": 24.6,
         "Newspaper": 13.1,
         "Sales": 17,
         "_deepnote_index_column": 74
        },
        {
         "TV": 16.9,
         "Radio": 43.7,
         "Newspaper": 89.4,
         "Sales": 8.7,
         "_deepnote_index_column": 75
        },
        {
         "TV": 27.5,
         "Radio": 1.6,
         "Newspaper": 20.7,
         "Sales": 6.9,
         "_deepnote_index_column": 76
        },
        {
         "TV": 120.5,
         "Radio": 28.5,
         "Newspaper": 14.2,
         "Sales": 14.2,
         "_deepnote_index_column": 77
        },
        {
         "TV": 5.4,
         "Radio": 29.9,
         "Newspaper": 9.4,
         "Sales": 5.3,
         "_deepnote_index_column": 78
        },
        {
         "TV": 116,
         "Radio": 7.7,
         "Newspaper": 23.1,
         "Sales": 11,
         "_deepnote_index_column": 79
        },
        {
         "TV": 76.4,
         "Radio": 26.7,
         "Newspaper": 22.3,
         "Sales": 11.8,
         "_deepnote_index_column": 80
        },
        {
         "TV": 239.8,
         "Radio": 4.1,
         "Newspaper": 36.9,
         "Sales": 17.3,
         "_deepnote_index_column": 81
        },
        {
         "TV": 75.3,
         "Radio": 20.3,
         "Newspaper": 32.5,
         "Sales": 11.3,
         "_deepnote_index_column": 82
        },
        {
         "TV": 68.4,
         "Radio": 44.5,
         "Newspaper": 35.6,
         "Sales": 13.6,
         "_deepnote_index_column": 83
        },
        {
         "TV": 213.5,
         "Radio": 43,
         "Newspaper": 33.8,
         "Sales": 21.7,
         "_deepnote_index_column": 84
        },
        {
         "TV": 193.2,
         "Radio": 18.4,
         "Newspaper": 65.7,
         "Sales": 20.2,
         "_deepnote_index_column": 85
        },
        {
         "TV": 76.3,
         "Radio": 27.5,
         "Newspaper": 16,
         "Sales": 12,
         "_deepnote_index_column": 86
        },
        {
         "TV": 110.7,
         "Radio": 40.6,
         "Newspaper": 63.2,
         "Sales": 16,
         "_deepnote_index_column": 87
        },
        {
         "TV": 88.3,
         "Radio": 25.5,
         "Newspaper": 73.4,
         "Sales": 12.9,
         "_deepnote_index_column": 88
        },
        {
         "TV": 109.8,
         "Radio": 47.8,
         "Newspaper": 51.4,
         "Sales": 16.7,
         "_deepnote_index_column": 89
        },
        {
         "TV": 134.3,
         "Radio": 4.9,
         "Newspaper": 9.3,
         "Sales": 14,
         "_deepnote_index_column": 90
        },
        {
         "TV": 28.6,
         "Radio": 1.5,
         "Newspaper": 33,
         "Sales": 7.3,
         "_deepnote_index_column": 91
        },
        {
         "TV": 217.7,
         "Radio": 33.5,
         "Newspaper": 59,
         "Sales": 19.4,
         "_deepnote_index_column": 92
        },
        {
         "TV": 250.9,
         "Radio": 36.5,
         "Newspaper": 72.3,
         "Sales": 22.2,
         "_deepnote_index_column": 93
        },
        {
         "TV": 107.4,
         "Radio": 14,
         "Newspaper": 10.9,
         "Sales": 11.5,
         "_deepnote_index_column": 94
        },
        {
         "TV": 163.3,
         "Radio": 31.6,
         "Newspaper": 52.9,
         "Sales": 16.9,
         "_deepnote_index_column": 95
        },
        {
         "TV": 197.6,
         "Radio": 3.5,
         "Newspaper": 5.9,
         "Sales": 16.7,
         "_deepnote_index_column": 96
        },
        {
         "TV": 184.9,
         "Radio": 21,
         "Newspaper": 22,
         "Sales": 20.5,
         "_deepnote_index_column": 97
        },
        {
         "TV": 289.7,
         "Radio": 42.3,
         "Newspaper": 51.2,
         "Sales": 25.4,
         "_deepnote_index_column": 98
        },
        {
         "TV": 135.2,
         "Radio": 41.7,
         "Newspaper": 45.9,
         "Sales": 17.2,
         "_deepnote_index_column": 99
        },
        {
         "TV": 222.4,
         "Radio": 4.3,
         "Newspaper": 49.8,
         "Sales": 16.7,
         "_deepnote_index_column": 100
        },
        {
         "TV": 296.4,
         "Radio": 36.3,
         "Newspaper": 100.9,
         "Sales": 23.8,
         "_deepnote_index_column": 101
        },
        {
         "TV": 280.2,
         "Radio": 10.1,
         "Newspaper": 21.4,
         "Sales": 19.8,
         "_deepnote_index_column": 102
        },
        {
         "TV": 187.9,
         "Radio": 17.2,
         "Newspaper": 17.9,
         "Sales": 19.7,
         "_deepnote_index_column": 103
        },
        {
         "TV": 238.2,
         "Radio": 34.3,
         "Newspaper": 5.3,
         "Sales": 20.7,
         "_deepnote_index_column": 104
        },
        {
         "TV": 137.9,
         "Radio": 46.4,
         "Newspaper": 59,
         "Sales": 15,
         "_deepnote_index_column": 105
        },
        {
         "TV": 25,
         "Radio": 11,
         "Newspaper": 29.7,
         "Sales": 7.2,
         "_deepnote_index_column": 106
        },
        {
         "TV": 90.4,
         "Radio": 0.3,
         "Newspaper": 23.2,
         "Sales": 12,
         "_deepnote_index_column": 107
        },
        {
         "TV": 13.1,
         "Radio": 0.4,
         "Newspaper": 25.6,
         "Sales": 5.3,
         "_deepnote_index_column": 108
        },
        {
         "TV": 255.4,
         "Radio": 26.9,
         "Newspaper": 5.5,
         "Sales": 19.8,
         "_deepnote_index_column": 109
        },
        {
         "TV": 225.8,
         "Radio": 8.2,
         "Newspaper": 56.5,
         "Sales": 18.4,
         "_deepnote_index_column": 110
        },
        {
         "TV": 241.7,
         "Radio": 38,
         "Newspaper": 23.2,
         "Sales": 21.8,
         "_deepnote_index_column": 111
        },
        {
         "TV": 175.7,
         "Radio": 15.4,
         "Newspaper": 2.4,
         "Sales": 17.1,
         "_deepnote_index_column": 112
        },
        {
         "TV": 209.6,
         "Radio": 20.6,
         "Newspaper": 10.7,
         "Sales": 20.9,
         "_deepnote_index_column": 113
        },
        {
         "TV": 78.2,
         "Radio": 46.8,
         "Newspaper": 34.5,
         "Sales": 14.6,
         "_deepnote_index_column": 114
        },
        {
         "TV": 75.1,
         "Radio": 35,
         "Newspaper": 52.7,
         "Sales": 12.6,
         "_deepnote_index_column": 115
        },
        {
         "TV": 139.2,
         "Radio": 14.3,
         "Newspaper": 25.6,
         "Sales": 12.2,
         "_deepnote_index_column": 116
        },
        {
         "TV": 76.4,
         "Radio": 0.8,
         "Newspaper": 14.8,
         "Sales": 9.4,
         "_deepnote_index_column": 117
        },
        {
         "TV": 125.7,
         "Radio": 36.9,
         "Newspaper": 79.2,
         "Sales": 15.9,
         "_deepnote_index_column": 118
        },
        {
         "TV": 19.4,
         "Radio": 16,
         "Newspaper": 22.3,
         "Sales": 6.6,
         "_deepnote_index_column": 119
        },
        {
         "TV": 141.3,
         "Radio": 26.8,
         "Newspaper": 46.2,
         "Sales": 15.5,
         "_deepnote_index_column": 120
        },
        {
         "TV": 18.8,
         "Radio": 21.7,
         "Newspaper": 50.4,
         "Sales": 7,
         "_deepnote_index_column": 121
        },
        {
         "TV": 224,
         "Radio": 2.4,
         "Newspaper": 15.6,
         "Sales": 16.6,
         "_deepnote_index_column": 122
        },
        {
         "TV": 123.1,
         "Radio": 34.6,
         "Newspaper": 12.4,
         "Sales": 15.2,
         "_deepnote_index_column": 123
        },
        {
         "TV": 229.5,
         "Radio": 32.3,
         "Newspaper": 74.2,
         "Sales": 19.7,
         "_deepnote_index_column": 124
        },
        {
         "TV": 87.2,
         "Radio": 11.8,
         "Newspaper": 25.9,
         "Sales": 10.6,
         "_deepnote_index_column": 125
        },
        {
         "TV": 7.8,
         "Radio": 38.9,
         "Newspaper": 50.6,
         "Sales": 6.6,
         "_deepnote_index_column": 126
        },
        {
         "TV": 80.2,
         "Radio": 0,
         "Newspaper": 9.2,
         "Sales": 11.9,
         "_deepnote_index_column": 127
        },
        {
         "TV": 220.3,
         "Radio": 49,
         "Newspaper": 3.2,
         "Sales": 24.7,
         "_deepnote_index_column": 128
        },
        {
         "TV": 59.6,
         "Radio": 12,
         "Newspaper": 43.1,
         "Sales": 9.7,
         "_deepnote_index_column": 129
        },
        {
         "TV": 0.7,
         "Radio": 39.6,
         "Newspaper": 8.7,
         "Sales": 1.6,
         "_deepnote_index_column": 130
        },
        {
         "TV": 265.2,
         "Radio": 2.9,
         "Newspaper": 43,
         "Sales": 17.7,
         "_deepnote_index_column": 131
        },
        {
         "TV": 8.4,
         "Radio": 27.2,
         "Newspaper": 2.1,
         "Sales": 5.7,
         "_deepnote_index_column": 132
        },
        {
         "TV": 219.8,
         "Radio": 33.5,
         "Newspaper": 45.1,
         "Sales": 19.6,
         "_deepnote_index_column": 133
        },
        {
         "TV": 36.9,
         "Radio": 38.6,
         "Newspaper": 65.6,
         "Sales": 10.8,
         "_deepnote_index_column": 134
        },
        {
         "TV": 48.3,
         "Radio": 47,
         "Newspaper": 8.5,
         "Sales": 11.6,
         "_deepnote_index_column": 135
        },
        {
         "TV": 25.6,
         "Radio": 39,
         "Newspaper": 9.3,
         "Sales": 9.5,
         "_deepnote_index_column": 136
        },
        {
         "TV": 273.7,
         "Radio": 28.9,
         "Newspaper": 59.7,
         "Sales": 20.8,
         "_deepnote_index_column": 137
        },
        {
         "TV": 43,
         "Radio": 25.9,
         "Newspaper": 20.5,
         "Sales": 9.6,
         "_deepnote_index_column": 138
        },
        {
         "TV": 184.9,
         "Radio": 43.9,
         "Newspaper": 1.7,
         "Sales": 20.7,
         "_deepnote_index_column": 139
        },
        {
         "TV": 73.4,
         "Radio": 17,
         "Newspaper": 12.9,
         "Sales": 10.9,
         "_deepnote_index_column": 140
        },
        {
         "TV": 193.7,
         "Radio": 35.4,
         "Newspaper": 75.6,
         "Sales": 19.2,
         "_deepnote_index_column": 141
        },
        {
         "TV": 220.5,
         "Radio": 33.2,
         "Newspaper": 37.9,
         "Sales": 20.1,
         "_deepnote_index_column": 142
        },
        {
         "TV": 104.6,
         "Radio": 5.7,
         "Newspaper": 34.4,
         "Sales": 10.4,
         "_deepnote_index_column": 143
        },
        {
         "TV": 96.2,
         "Radio": 14.8,
         "Newspaper": 38.9,
         "Sales": 12.3,
         "_deepnote_index_column": 144
        },
        {
         "TV": 140.3,
         "Radio": 1.9,
         "Newspaper": 9,
         "Sales": 10.3,
         "_deepnote_index_column": 145
        },
        {
         "TV": 240.1,
         "Radio": 7.3,
         "Newspaper": 8.7,
         "Sales": 18.2,
         "_deepnote_index_column": 146
        },
        {
         "TV": 243.2,
         "Radio": 49,
         "Newspaper": 44.3,
         "Sales": 25.4,
         "_deepnote_index_column": 147
        },
        {
         "TV": 38,
         "Radio": 40.3,
         "Newspaper": 11.9,
         "Sales": 10.9,
         "_deepnote_index_column": 148
        },
        {
         "TV": 44.7,
         "Radio": 25.8,
         "Newspaper": 20.6,
         "Sales": 10.1,
         "_deepnote_index_column": 149
        },
        {
         "TV": 280.7,
         "Radio": 13.9,
         "Newspaper": 37,
         "Sales": 16.1,
         "_deepnote_index_column": 150
        },
        {
         "TV": 121,
         "Radio": 8.4,
         "Newspaper": 48.7,
         "Sales": 11.6,
         "_deepnote_index_column": 151
        },
        {
         "TV": 197.6,
         "Radio": 23.3,
         "Newspaper": 14.2,
         "Sales": 16.6,
         "_deepnote_index_column": 152
        },
        {
         "TV": 171.3,
         "Radio": 39.7,
         "Newspaper": 37.7,
         "Sales": 16,
         "_deepnote_index_column": 153
        },
        {
         "TV": 187.8,
         "Radio": 21.1,
         "Newspaper": 9.5,
         "Sales": 20.6,
         "_deepnote_index_column": 154
        },
        {
         "TV": 4.1,
         "Radio": 11.6,
         "Newspaper": 5.7,
         "Sales": 3.2,
         "_deepnote_index_column": 155
        },
        {
         "TV": 93.9,
         "Radio": 43.5,
         "Newspaper": 50.5,
         "Sales": 15.3,
         "_deepnote_index_column": 156
        },
        {
         "TV": 149.8,
         "Radio": 1.3,
         "Newspaper": 24.3,
         "Sales": 10.1,
         "_deepnote_index_column": 157
        },
        {
         "TV": 11.7,
         "Radio": 36.9,
         "Newspaper": 45.2,
         "Sales": 7.3,
         "_deepnote_index_column": 158
        },
        {
         "TV": 131.7,
         "Radio": 18.4,
         "Newspaper": 34.6,
         "Sales": 12.9,
         "_deepnote_index_column": 159
        },
        {
         "TV": 172.5,
         "Radio": 18.1,
         "Newspaper": 30.7,
         "Sales": 16.4,
         "_deepnote_index_column": 160
        },
        {
         "TV": 85.7,
         "Radio": 35.8,
         "Newspaper": 49.3,
         "Sales": 13.3,
         "_deepnote_index_column": 161
        },
        {
         "TV": 188.4,
         "Radio": 18.1,
         "Newspaper": 25.6,
         "Sales": 19.9,
         "_deepnote_index_column": 162
        },
        {
         "TV": 163.5,
         "Radio": 36.8,
         "Newspaper": 7.4,
         "Sales": 18,
         "_deepnote_index_column": 163
        },
        {
         "TV": 117.2,
         "Radio": 14.7,
         "Newspaper": 5.4,
         "Sales": 11.9,
         "_deepnote_index_column": 164
        },
        {
         "TV": 234.5,
         "Radio": 3.4,
         "Newspaper": 84.8,
         "Sales": 16.9,
         "_deepnote_index_column": 165
        },
        {
         "TV": 17.9,
         "Radio": 37.6,
         "Newspaper": 21.6,
         "Sales": 8,
         "_deepnote_index_column": 166
        },
        {
         "TV": 206.8,
         "Radio": 5.2,
         "Newspaper": 19.4,
         "Sales": 17.2,
         "_deepnote_index_column": 167
        },
        {
         "TV": 215.4,
         "Radio": 23.6,
         "Newspaper": 57.6,
         "Sales": 17.1,
         "_deepnote_index_column": 168
        },
        {
         "TV": 284.3,
         "Radio": 10.6,
         "Newspaper": 6.4,
         "Sales": 20,
         "_deepnote_index_column": 169
        },
        {
         "TV": 50,
         "Radio": 11.6,
         "Newspaper": 18.4,
         "Sales": 8.4,
         "_deepnote_index_column": 170
        },
        {
         "TV": 164.5,
         "Radio": 20.9,
         "Newspaper": 47.4,
         "Sales": 17.5,
         "_deepnote_index_column": 171
        },
        {
         "TV": 19.6,
         "Radio": 20.1,
         "Newspaper": 17,
         "Sales": 7.6,
         "_deepnote_index_column": 172
        },
        {
         "TV": 168.4,
         "Radio": 7.1,
         "Newspaper": 12.8,
         "Sales": 16.7,
         "_deepnote_index_column": 173
        },
        {
         "TV": 222.4,
         "Radio": 3.4,
         "Newspaper": 13.1,
         "Sales": 16.5,
         "_deepnote_index_column": 174
        },
        {
         "TV": 276.9,
         "Radio": 48.9,
         "Newspaper": 41.8,
         "Sales": 27,
         "_deepnote_index_column": 175
        },
        {
         "TV": 248.4,
         "Radio": 30.2,
         "Newspaper": 20.3,
         "Sales": 20.2,
         "_deepnote_index_column": 176
        },
        {
         "TV": 170.2,
         "Radio": 7.8,
         "Newspaper": 35.2,
         "Sales": 16.7,
         "_deepnote_index_column": 177
        },
        {
         "TV": 276.7,
         "Radio": 2.3,
         "Newspaper": 23.7,
         "Sales": 16.8,
         "_deepnote_index_column": 178
        },
        {
         "TV": 165.6,
         "Radio": 10,
         "Newspaper": 17.6,
         "Sales": 17.6,
         "_deepnote_index_column": 179
        },
        {
         "TV": 156.6,
         "Radio": 2.6,
         "Newspaper": 8.3,
         "Sales": 15.5,
         "_deepnote_index_column": 180
        },
        {
         "TV": 218.5,
         "Radio": 5.4,
         "Newspaper": 27.4,
         "Sales": 17.2,
         "_deepnote_index_column": 181
        },
        {
         "TV": 56.2,
         "Radio": 5.7,
         "Newspaper": 29.7,
         "Sales": 8.7,
         "_deepnote_index_column": 182
        },
        {
         "TV": 287.6,
         "Radio": 43,
         "Newspaper": 71.8,
         "Sales": 26.2,
         "_deepnote_index_column": 183
        },
        {
         "TV": 253.8,
         "Radio": 21.3,
         "Newspaper": 30,
         "Sales": 17.6,
         "_deepnote_index_column": 184
        },
        {
         "TV": 205,
         "Radio": 45.1,
         "Newspaper": 19.6,
         "Sales": 22.6,
         "_deepnote_index_column": 185
        },
        {
         "TV": 139.5,
         "Radio": 2.1,
         "Newspaper": 26.6,
         "Sales": 10.3,
         "_deepnote_index_column": 186
        },
        {
         "TV": 191.1,
         "Radio": 28.7,
         "Newspaper": 18.2,
         "Sales": 17.3,
         "_deepnote_index_column": 187
        },
        {
         "TV": 286,
         "Radio": 13.9,
         "Newspaper": 3.7,
         "Sales": 20.9,
         "_deepnote_index_column": 188
        },
        {
         "TV": 18.7,
         "Radio": 12.1,
         "Newspaper": 23.4,
         "Sales": 6.7,
         "_deepnote_index_column": 189
        },
        {
         "TV": 39.5,
         "Radio": 41.1,
         "Newspaper": 5.8,
         "Sales": 10.8,
         "_deepnote_index_column": 190
        },
        {
         "TV": 75.5,
         "Radio": 10.8,
         "Newspaper": 6,
         "Sales": 11.9,
         "_deepnote_index_column": 191
        },
        {
         "TV": 17.2,
         "Radio": 4.1,
         "Newspaper": 31.6,
         "Sales": 5.9,
         "_deepnote_index_column": 192
        },
        {
         "TV": 166.8,
         "Radio": 42,
         "Newspaper": 3.6,
         "Sales": 19.6,
         "_deepnote_index_column": 193
        },
        {
         "TV": 149.7,
         "Radio": 35.6,
         "Newspaper": 6,
         "Sales": 17.3,
         "_deepnote_index_column": 194
        },
        {
         "TV": 38.2,
         "Radio": 3.7,
         "Newspaper": 13.8,
         "Sales": 7.6,
         "_deepnote_index_column": 195
        },
        {
         "TV": 94.2,
         "Radio": 4.9,
         "Newspaper": 8.1,
         "Sales": 14,
         "_deepnote_index_column": 196
        },
        {
         "TV": 177,
         "Radio": 9.3,
         "Newspaper": 6.4,
         "Sales": 14.8,
         "_deepnote_index_column": 197
        },
        {
         "TV": 283.6,
         "Radio": 42,
         "Newspaper": 66.2,
         "Sales": 25.5,
         "_deepnote_index_column": 198
        },
        {
         "TV": 232.1,
         "Radio": 8.6,
         "Newspaper": 8.7,
         "Sales": 18.4,
         "_deepnote_index_column": 199
        }
       ],
       "rows_bottom": null
      },
      "text/plain": "        TV  Radio  Newspaper  Sales\n0    230.1   37.8       69.2   22.1\n1     44.5   39.3       45.1   10.4\n2     17.2   45.9       69.3   12.0\n3    151.5   41.3       58.5   16.5\n4    180.8   10.8       58.4   17.9\n..     ...    ...        ...    ...\n195   38.2    3.7       13.8    7.6\n196   94.2    4.9        8.1   14.0\n197  177.0    9.3        6.4   14.8\n198  283.6   42.0       66.2   25.5\n199  232.1    8.6        8.7   18.4\n\n[200 rows x 4 columns]",
      "text/html": "<div>\n<style scoped>\n    .dataframe tbody tr th:only-of-type {\n        vertical-align: middle;\n    }\n\n    .dataframe tbody tr th {\n        vertical-align: top;\n    }\n\n    .dataframe thead th {\n        text-align: right;\n    }\n</style>\n<table border=\"1\" class=\"dataframe\">\n  <thead>\n    <tr style=\"text-align: right;\">\n      <th></th>\n      <th>TV</th>\n      <th>Radio</th>\n      <th>Newspaper</th>\n      <th>Sales</th>\n    </tr>\n  </thead>\n  <tbody>\n    <tr>\n      <th>0</th>\n      <td>230.1</td>\n      <td>37.8</td>\n      <td>69.2</td>\n      <td>22.1</td>\n    </tr>\n    <tr>\n      <th>1</th>\n      <td>44.5</td>\n      <td>39.3</td>\n      <td>45.1</td>\n      <td>10.4</td>\n    </tr>\n    <tr>\n      <th>2</th>\n      <td>17.2</td>\n      <td>45.9</td>\n      <td>69.3</td>\n      <td>12.0</td>\n    </tr>\n    <tr>\n      <th>3</th>\n      <td>151.5</td>\n      <td>41.3</td>\n      <td>58.5</td>\n      <td>16.5</td>\n    </tr>\n    <tr>\n      <th>4</th>\n      <td>180.8</td>\n      <td>10.8</td>\n      <td>58.4</td>\n      <td>17.9</td>\n    </tr>\n    <tr>\n      <th>...</th>\n      <td>...</td>\n      <td>...</td>\n      <td>...</td>\n      <td>...</td>\n    </tr>\n    <tr>\n      <th>195</th>\n      <td>38.2</td>\n      <td>3.7</td>\n      <td>13.8</td>\n      <td>7.6</td>\n    </tr>\n    <tr>\n      <th>196</th>\n      <td>94.2</td>\n      <td>4.9</td>\n      <td>8.1</td>\n      <td>14.0</td>\n    </tr>\n    <tr>\n      <th>197</th>\n      <td>177.0</td>\n      <td>9.3</td>\n      <td>6.4</td>\n      <td>14.8</td>\n    </tr>\n    <tr>\n      <th>198</th>\n      <td>283.6</td>\n      <td>42.0</td>\n      <td>66.2</td>\n      <td>25.5</td>\n    </tr>\n    <tr>\n      <th>199</th>\n      <td>232.1</td>\n      <td>8.6</td>\n      <td>8.7</td>\n      <td>18.4</td>\n    </tr>\n  </tbody>\n</table>\n<p>200 rows × 4 columns</p>\n</div>"
     },
     "metadata": {}
    }
   ]
  },
  {
   "cell_type": "code",
   "metadata": {
    "tags": [],
    "cell_id": "00002-844d71c5-ee15-4028-ae5d-8e8b9fbdc131",
    "deepnote_to_be_reexecuted": false,
    "source_hash": "174f3c37",
    "execution_start": 1629824791269,
    "execution_millis": 7,
    "deepnote_cell_type": "code"
   },
   "source": "a = np.array(df['TV'])\na",
   "execution_count": 3,
   "outputs": [
    {
     "output_type": "execute_result",
     "execution_count": 3,
     "data": {
      "text/plain": "array([230.1,  44.5,  17.2, 151.5, 180.8,   8.7,  57.5, 120.2,   8.6,\n       199.8,  66.1, 214.7,  23.8,  97.5, 204.1, 195.4,  67.8, 281.4,\n        69.2, 147.3, 218.4, 237.4,  13.2, 228.3,  62.3, 262.9, 142.9,\n       240.1, 248.8,  70.6, 292.9, 112.9,  97.2, 265.6,  95.7, 290.7,\n       266.9,  74.7,  43.1, 228. , 202.5, 177. , 293.6, 206.9,  25.1,\n       175.1,  89.7, 239.9, 227.2,  66.9, 199.8, 100.4, 216.4, 182.6,\n       262.7, 198.9,   7.3, 136.2, 210.8, 210.7,  53.5, 261.3, 239.3,\n       102.7, 131.1,  69. ,  31.5, 139.3, 237.4, 216.8, 199.1, 109.8,\n        26.8, 129.4, 213.4,  16.9,  27.5, 120.5,   5.4, 116. ,  76.4,\n       239.8,  75.3,  68.4, 213.5, 193.2,  76.3, 110.7,  88.3, 109.8,\n       134.3,  28.6, 217.7, 250.9, 107.4, 163.3, 197.6, 184.9, 289.7,\n       135.2, 222.4, 296.4, 280.2, 187.9, 238.2, 137.9,  25. ,  90.4,\n        13.1, 255.4, 225.8, 241.7, 175.7, 209.6,  78.2,  75.1, 139.2,\n        76.4, 125.7,  19.4, 141.3,  18.8, 224. , 123.1, 229.5,  87.2,\n         7.8,  80.2, 220.3,  59.6,   0.7, 265.2,   8.4, 219.8,  36.9,\n        48.3,  25.6, 273.7,  43. , 184.9,  73.4, 193.7, 220.5, 104.6,\n        96.2, 140.3, 240.1, 243.2,  38. ,  44.7, 280.7, 121. , 197.6,\n       171.3, 187.8,   4.1,  93.9, 149.8,  11.7, 131.7, 172.5,  85.7,\n       188.4, 163.5, 117.2, 234.5,  17.9, 206.8, 215.4, 284.3,  50. ,\n       164.5,  19.6, 168.4, 222.4, 276.9, 248.4, 170.2, 276.7, 165.6,\n       156.6, 218.5,  56.2, 287.6, 253.8, 205. , 139.5, 191.1, 286. ,\n        18.7,  39.5,  75.5,  17.2, 166.8, 149.7,  38.2,  94.2, 177. ,\n       283.6, 232.1])"
     },
     "metadata": {}
    }
   ]
  },
  {
   "cell_type": "code",
   "metadata": {
    "tags": [],
    "cell_id": "00003-4445c405-939a-4859-b592-c7b87aae8c19",
    "deepnote_to_be_reexecuted": false,
    "source_hash": "18dd3e1f",
    "execution_start": 1629824793513,
    "execution_millis": 12,
    "deepnote_cell_type": "code"
   },
   "source": "b = np.array(df['Sales'])\nb",
   "execution_count": 4,
   "outputs": [
    {
     "output_type": "execute_result",
     "execution_count": 4,
     "data": {
      "text/plain": "array([22.1, 10.4, 12. , 16.5, 17.9,  7.2, 11.8, 13.2,  4.8, 15.6, 12.6,\n       17.4,  9.2, 13.7, 19. , 22.4, 12.5, 24.4, 11.3, 14.6, 18. , 17.5,\n        5.6, 20.5,  9.7, 17. , 15. , 20.9, 18.9, 10.5, 21.4, 11.9, 13.2,\n       17.4, 11.9, 17.8, 25.4, 14.7, 10.1, 21.5, 16.6, 17.1, 20.7, 17.9,\n        8.5, 16.1, 10.6, 23.2, 19.8,  9.7, 16.4, 10.7, 22.6, 21.2, 20.2,\n       23.7,  5.5, 13.2, 23.8, 18.4,  8.1, 24.2, 20.7, 14. , 16. , 11.3,\n       11. , 13.4, 18.9, 22.3, 18.3, 12.4,  8.8, 11. , 17. ,  8.7,  6.9,\n       14.2,  5.3, 11. , 11.8, 17.3, 11.3, 13.6, 21.7, 20.2, 12. , 16. ,\n       12.9, 16.7, 14. ,  7.3, 19.4, 22.2, 11.5, 16.9, 16.7, 20.5, 25.4,\n       17.2, 16.7, 23.8, 19.8, 19.7, 20.7, 15. ,  7.2, 12. ,  5.3, 19.8,\n       18.4, 21.8, 17.1, 20.9, 14.6, 12.6, 12.2,  9.4, 15.9,  6.6, 15.5,\n        7. , 16.6, 15.2, 19.7, 10.6,  6.6, 11.9, 24.7,  9.7,  1.6, 17.7,\n        5.7, 19.6, 10.8, 11.6,  9.5, 20.8,  9.6, 20.7, 10.9, 19.2, 20.1,\n       10.4, 12.3, 10.3, 18.2, 25.4, 10.9, 10.1, 16.1, 11.6, 16.6, 16. ,\n       20.6,  3.2, 15.3, 10.1,  7.3, 12.9, 16.4, 13.3, 19.9, 18. , 11.9,\n       16.9,  8. , 17.2, 17.1, 20. ,  8.4, 17.5,  7.6, 16.7, 16.5, 27. ,\n       20.2, 16.7, 16.8, 17.6, 15.5, 17.2,  8.7, 26.2, 17.6, 22.6, 10.3,\n       17.3, 20.9,  6.7, 10.8, 11.9,  5.9, 19.6, 17.3,  7.6, 14. , 14.8,\n       25.5, 18.4])"
     },
     "metadata": {}
    }
   ]
  },
  {
   "cell_type": "code",
   "metadata": {
    "tags": [],
    "cell_id": "00004-8624b221-4845-4eaf-90f8-cf2c49312d60",
    "deepnote_to_be_reexecuted": false,
    "source_hash": "f77a3f3c",
    "execution_start": 1629824794881,
    "execution_millis": 146,
    "deepnote_cell_type": "code"
   },
   "source": "plt.scatter(a, b)",
   "execution_count": 5,
   "outputs": [
    {
     "output_type": "execute_result",
     "execution_count": 5,
     "data": {
      "text/plain": "<matplotlib.collections.PathCollection at 0x7ff8709a37d0>"
     },
     "metadata": {}
    },
    {
     "data": {
      "text/plain": "<Figure size 432x288 with 1 Axes>",
      "image/png": "[encoded data removed]"
     },
     "metadata": {
      "needs_background": "light",
      "image/png": {
       "width": 368,
       "height": 248
      }
     },
     "output_type": "display_data"
    }
   ]
  },
  {
   "cell_type": "code",
   "metadata": {
    "tags": [],
    "cell_id": "00005-8cd44f63-80f0-47a3-9b49-2b329af56a8c",
    "deepnote_to_be_reexecuted": false,
    "source_hash": "f8b37031",
    "execution_start": 1629826900131,
    "execution_millis": 127,
    "deepnote_cell_type": "code"
   },
   "source": "class StochasticRegression:\n\n    def __init__(self, X, Y, lr, iterations):\n        self.x = X\n        self.y = Y\n        self.lr = lr\n        self.iterations = iterations\n        self.m = 1\n        self.c = 2\n        \n    def hypo(self, x):\n        return self.m*x + self.c\n\n    def sgd(self):\n        current_iter = 0\n        # m = 1\n        # c = 2\n        while current_iter<self.iterations:\n            for i, x in enumerate(self.x):\n                hypo = self.m*x + self.c\n                self.m = self.m - self.lr * (hypo - self.y[i])*x\n                self.c = self.c - self.lr * (hypo - self.y[i])\n                current_iter += 1 \n\n        return self.m, self.c\n\n    def graph(self):\n        plt.scatter(self.x, self.y)\n        plt.plot(self.x, [self.m*x + self.c for x in self.x], c='r')\n\nline = StochasticRegression(a, b, 0.00001, 10)\nline.sgd()\nline.graph()",
   "execution_count": 36,
   "outputs": [
    {
     "data": {
      "text/plain": "<Figure size 432x288 with 1 Axes>",
      "image/png": "[encoded data removed]"
     },
     "metadata": {
      "needs_background": "light",
      "image/png": {
       "width": 368,
       "height": 248
      }
     },
     "output_type": "display_data"
    }
   ]
  },
  {
   "cell_type": "code",
   "source": "line.hypo(255.4)",
   "metadata": {
    "tags": [],
    "cell_id": "00006-32cfc55b-d458-490c-8e91-eec3ced9735a",
    "deepnote_to_be_reexecuted": false,
    "source_hash": "e2fd3e85",
    "execution_start": 1629826911881,
    "execution_millis": 6,
    "deepnote_cell_type": "code"
   },
   "outputs": [
    {
     "output_type": "execute_result",
     "execution_count": 37,
     "data": {
      "text/plain": "21.554673817719355"
     },
     "metadata": {}
    }
   ],
   "execution_count": 37
  },
  {
   "cell_type": "code",
   "source": "",
   "metadata": {
    "tags": [],
    "cell_id": "00007-dc428f5c-6fa5-4b44-a941-d0af55cfd138",
    "deepnote_cell_type": "code"
   },
   "outputs": [],
   "execution_count": null
  },
  {
   "cell_type": "markdown",
   "source": "<a style='text-decoration:none;line-height:16px;display:flex;color:#5B5B62;padding:10px;justify-content:end;' href='https://deepnote.com?utm_source=created-in-deepnote-cell&projectId=edbfc57a-f57e-4f51-acf4-9d356fcde791' target=\"_blank\">\n<img alt='Created in deepnote.com' style='display:inline;max-height:16px;margin:0px;margin-right:7.5px;' src='data:image/svg+xml;base64,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' > </img>\nCreated in <span style='font-weight:600;margin-left:4px;'>Deepnote</span></a>",
   "metadata": {
    "tags": [],
    "created_in_deepnote_cell": true,
    "deepnote_cell_type": "markdown"
   }
  }
 ],
 "nbformat": 4,
 "nbformat_minor": 2,
 "metadata": {
  "orig_nbformat": 2,
  "deepnote": {
   "is_reactive": false
  },
  "deepnote_notebook_id": "351044bd-60da-4e40-90b6-6dc7db6e63bb",
  "deepnote_execution_queue": []
 }
}