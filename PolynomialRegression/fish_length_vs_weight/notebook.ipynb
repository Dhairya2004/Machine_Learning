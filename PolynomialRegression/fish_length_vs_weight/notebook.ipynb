{
 "cells": [
  {
   "cell_type": "code",
   "metadata": {
    "tags": [],
    "cell_id": "00000-a847edb1-81e1-4369-bd92-49111e35e24f",
    "deepnote_to_be_reexecuted": false,
    "source_hash": "58eaa532",
    "execution_start": 1628181261391,
    "execution_millis": 933,
    "deepnote_cell_type": "code"
   },
   "source": "import numpy as np\nimport pandas\nimport matplotlib.pyplot as plt",
   "execution_count": 1,
   "outputs": []
  },
  {
   "cell_type": "code",
   "metadata": {
    "tags": [],
    "cell_id": "00001-b9d16164-dbc6-40f5-8f51-a7e777c4248e",
    "deepnote_to_be_reexecuted": false,
    "source_hash": "b032d840",
    "execution_start": 1628181262328,
    "execution_millis": 154,
    "deepnote_cell_type": "code"
   },
   "source": "df = pandas.read_csv('Fish.csv')\ndf",
   "execution_count": 2,
   "outputs": [
    {
     "output_type": "execute_result",
     "execution_count": 2,
     "data": {
      "application/vnd.deepnote.dataframe.v2+json": {
       "row_count": 159,
       "column_count": 7,
       "columns": [
        {
         "name": "Species",
         "dtype": "object",
         "stats": {
          "unique_count": 7,
          "nan_count": 0,
          "categories": [
           {
            "name": "Perch",
            "count": 56
           },
           {
            "name": "Bream",
            "count": 35
           },
           {
            "name": "5 others",
            "count": 68
           }
          ]
         }
        },
        {
         "name": "Weight",
         "dtype": "float64",
         "stats": {
          "unique_count": 101,
          "nan_count": 0,
          "min": "0.0",
          "max": "1650.0",
          "histogram": [
           {
            "bin_start": 0,
            "bin_end": 165,
            "count": 59
           },
           {
            "bin_start": 165,
            "bin_end": 330,
            "count": 31
           },
           {
            "bin_start": 330,
            "bin_end": 495,
            "count": 12
           },
           {
            "bin_start": 495,
            "bin_end": 660,
            "count": 18
           },
           {
            "bin_start": 660,
            "bin_end": 825,
            "count": 16
           },
           {
            "bin_start": 825,
            "bin_end": 990,
            "count": 11
           },
           {
            "bin_start": 990,
            "bin_end": 1155,
            "count": 8
           },
           {
            "bin_start": 1155,
            "bin_end": 1320,
            "count": 1
           },
           {
            "bin_start": 1320,
            "bin_end": 1485,
            "count": 0
           },
           {
            "bin_start": 1485,
            "bin_end": 1650,
            "count": 3
           }
          ]
         }
        },
        {
         "name": "Length1",
         "dtype": "float64",
         "stats": {
          "unique_count": 116,
          "nan_count": 0,
          "min": "7.5",
          "max": "59.0",
          "histogram": [
           {
            "bin_start": 7.5,
            "bin_end": 12.65,
            "count": 14
           },
           {
            "bin_start": 12.65,
            "bin_end": 17.8,
            "count": 15
           },
           {
            "bin_start": 17.8,
            "bin_end": 22.950000000000003,
            "count": 37
           },
           {
            "bin_start": 22.950000000000003,
            "bin_end": 28.1,
            "count": 27
           },
           {
            "bin_start": 28.1,
            "bin_end": 33.25,
            "count": 28
           },
           {
            "bin_start": 33.25,
            "bin_end": 38.400000000000006,
            "count": 22
           },
           {
            "bin_start": 38.400000000000006,
            "bin_end": 43.550000000000004,
            "count": 10
           },
           {
            "bin_start": 43.550000000000004,
            "bin_end": 48.7,
            "count": 2
           },
           {
            "bin_start": 48.7,
            "bin_end": 53.85,
            "count": 1
           },
           {
            "bin_start": 53.85,
            "bin_end": 59,
            "count": 3
           }
          ]
         }
        },
        {
         "name": "Length2",
         "dtype": "float64",
         "stats": {
          "unique_count": 93,
          "nan_count": 0,
          "min": "8.4",
          "max": "63.4",
          "histogram": [
           {
            "bin_start": 8.4,
            "bin_end": 13.9,
            "count": 14
           },
           {
            "bin_start": 13.9,
            "bin_end": 19.4,
            "count": 15
           },
           {
            "bin_start": 19.4,
            "bin_end": 24.9,
            "count": 37
           },
           {
            "bin_start": 24.9,
            "bin_end": 30.4,
            "count": 27
           },
           {
            "bin_start": 30.4,
            "bin_end": 35.9,
            "count": 26
           },
           {
            "bin_start": 35.9,
            "bin_end": 41.4,
            "count": 24
           },
           {
            "bin_start": 41.4,
            "bin_end": 46.9,
            "count": 10
           },
           {
            "bin_start": 46.9,
            "bin_end": 52.4,
            "count": 2
           },
           {
            "bin_start": 52.4,
            "bin_end": 57.9,
            "count": 1
           },
           {
            "bin_start": 57.9,
            "bin_end": 63.4,
            "count": 3
           }
          ]
         }
        },
        {
         "name": "Length3",
         "dtype": "float64",
         "stats": {
          "unique_count": 124,
          "nan_count": 0,
          "min": "8.8",
          "max": "68.0",
          "histogram": [
           {
            "bin_start": 8.8,
            "bin_end": 14.72,
            "count": 14
           },
           {
            "bin_start": 14.72,
            "bin_end": 20.64,
            "count": 13
           },
           {
            "bin_start": 20.64,
            "bin_end": 26.56,
            "count": 37
           },
           {
            "bin_start": 26.56,
            "bin_end": 32.480000000000004,
            "count": 23
           },
           {
            "bin_start": 32.480000000000004,
            "bin_end": 38.400000000000006,
            "count": 22
           },
           {
            "bin_start": 38.400000000000006,
            "bin_end": 44.31999999999999,
            "count": 31
           },
           {
            "bin_start": 44.31999999999999,
            "bin_end": 50.239999999999995,
            "count": 13
           },
           {
            "bin_start": 50.239999999999995,
            "bin_end": 56.16,
            "count": 2
           },
           {
            "bin_start": 56.16,
            "bin_end": 62.08,
            "count": 1
           },
           {
            "bin_start": 62.08,
            "bin_end": 68,
            "count": 3
           }
          ]
         }
        },
        {
         "name": "Height",
         "dtype": "float64",
         "stats": {
          "unique_count": 154,
          "nan_count": 0,
          "min": "1.7284",
          "max": "18.957",
          "histogram": [
           {
            "bin_start": 1.7284,
            "bin_end": 3.45126,
            "count": 15
           },
           {
            "bin_start": 3.45126,
            "bin_end": 5.17412,
            "count": 7
           },
           {
            "bin_start": 5.17412,
            "bin_end": 6.89698,
            "count": 40
           },
           {
            "bin_start": 6.89698,
            "bin_end": 8.61984,
            "count": 26
           },
           {
            "bin_start": 8.61984,
            "bin_end": 10.3427,
            "count": 11
           },
           {
            "bin_start": 10.3427,
            "bin_end": 12.065560000000001,
            "count": 19
           },
           {
            "bin_start": 12.065560000000001,
            "bin_end": 13.78842,
            "count": 14
           },
           {
            "bin_start": 13.78842,
            "bin_end": 15.511280000000001,
            "count": 13
           },
           {
            "bin_start": 15.511280000000001,
            "bin_end": 17.23414,
            "count": 8
           },
           {
            "bin_start": 17.23414,
            "bin_end": 18.957,
            "count": 6
           }
          ]
         }
        },
        {
         "name": "Width",
         "dtype": "float64",
         "stats": {
          "unique_count": 152,
          "nan_count": 0,
          "min": "1.0476",
          "max": "8.142",
          "histogram": [
           {
            "bin_start": 1.0476,
            "bin_end": 1.75704,
            "count": 13
           },
           {
            "bin_start": 1.75704,
            "bin_end": 2.46648,
            "count": 7
           },
           {
            "bin_start": 2.46648,
            "bin_end": 3.17592,
            "count": 12
           },
           {
            "bin_start": 3.17592,
            "bin_end": 3.88536,
            "count": 33
           },
           {
            "bin_start": 3.88536,
            "bin_end": 4.594799999999999,
            "count": 26
           },
           {
            "bin_start": 4.594799999999999,
            "bin_end": 5.30424,
            "count": 23
           },
           {
            "bin_start": 5.30424,
            "bin_end": 6.01368,
            "count": 9
           },
           {
            "bin_start": 6.01368,
            "bin_end": 6.72312,
            "count": 19
           },
           {
            "bin_start": 6.72312,
            "bin_end": 7.43256,
            "count": 11
           },
           {
            "bin_start": 7.43256,
            "bin_end": 8.142,
            "count": 6
           }
          ]
         }
        },
        {
         "name": "_deepnote_index_column",
         "dtype": "int64"
        }
       ],
       "rows_top": [
        {
         "Species": "Bream",
         "Weight": 242,
         "Length1": 23.2,
         "Length2": 25.4,
         "Length3": 30,
         "Height": 11.52,
         "Width": 4.02,
         "_deepnote_index_column": 0
        },
        {
         "Species": "Bream",
         "Weight": 290,
         "Length1": 24,
         "Length2": 26.3,
         "Length3": 31.2,
         "Height": 12.48,
         "Width": 4.3056,
         "_deepnote_index_column": 1
        },
        {
         "Species": "Bream",
         "Weight": 340,
         "Length1": 23.9,
         "Length2": 26.5,
         "Length3": 31.1,
         "Height": 12.3778,
         "Width": 4.6961,
         "_deepnote_index_column": 2
        },
        {
         "Species": "Bream",
         "Weight": 363,
         "Length1": 26.3,
         "Length2": 29,
         "Length3": 33.5,
         "Height": 12.73,
         "Width": 4.4555,
         "_deepnote_index_column": 3
        },
        {
         "Species": "Bream",
         "Weight": 430,
         "Length1": 26.5,
         "Length2": 29,
         "Length3": 34,
         "Height": 12.444,
         "Width": 5.134,
         "_deepnote_index_column": 4
        },
        {
         "Species": "Bream",
         "Weight": 450,
         "Length1": 26.8,
         "Length2": 29.7,
         "Length3": 34.7,
         "Height": 13.6024,
         "Width": 4.9274,
         "_deepnote_index_column": 5
        },
        {
         "Species": "Bream",
         "Weight": 500,
         "Length1": 26.8,
         "Length2": 29.7,
         "Length3": 34.5,
         "Height": 14.1795,
         "Width": 5.2785,
         "_deepnote_index_column": 6
        },
        {
         "Species": "Bream",
         "Weight": 390,
         "Length1": 27.6,
         "Length2": 30,
         "Length3": 35,
         "Height": 12.67,
         "Width": 4.69,
         "_deepnote_index_column": 7
        },
        {
         "Species": "Bream",
         "Weight": 450,
         "Length1": 27.6,
         "Length2": 30,
         "Length3": 35.1,
         "Height": 14.0049,
         "Width": 4.8438,
         "_deepnote_index_column": 8
        },
        {
         "Species": "Bream",
         "Weight": 500,
         "Length1": 28.5,
         "Length2": 30.7,
         "Length3": 36.2,
         "Height": 14.2266,
         "Width": 4.9594,
         "_deepnote_index_column": 9
        },
        {
         "Species": "Bream",
         "Weight": 475,
         "Length1": 28.4,
         "Length2": 31,
         "Length3": 36.2,
         "Height": 14.2628,
         "Width": 5.1042,
         "_deepnote_index_column": 10
        },
        {
         "Species": "Bream",
         "Weight": 500,
         "Length1": 28.7,
         "Length2": 31,
         "Length3": 36.2,
         "Height": 14.3714,
         "Width": 4.8146,
         "_deepnote_index_column": 11
        },
        {
         "Species": "Bream",
         "Weight": 500,
         "Length1": 29.1,
         "Length2": 31.5,
         "Length3": 36.4,
         "Height": 13.7592,
         "Width": 4.368,
         "_deepnote_index_column": 12
        },
        {
         "Species": "Bream",
         "Weight": 340,
         "Length1": 29.5,
         "Length2": 32,
         "Length3": 37.3,
         "Height": 13.9129,
         "Width": 5.0728,
         "_deepnote_index_column": 13
        },
        {
         "Species": "Bream",
         "Weight": 600,
         "Length1": 29.4,
         "Length2": 32,
         "Length3": 37.2,
         "Height": 14.9544,
         "Width": 5.1708,
         "_deepnote_index_column": 14
        },
        {
         "Species": "Bream",
         "Weight": 600,
         "Length1": 29.4,
         "Length2": 32,
         "Length3": 37.2,
         "Height": 15.438,
         "Width": 5.58,
         "_deepnote_index_column": 15
        },
        {
         "Species": "Bream",
         "Weight": 700,
         "Length1": 30.4,
         "Length2": 33,
         "Length3": 38.3,
         "Height": 14.8604,
         "Width": 5.2854,
         "_deepnote_index_column": 16
        },
        {
         "Species": "Bream",
         "Weight": 700,
         "Length1": 30.4,
         "Length2": 33,
         "Length3": 38.5,
         "Height": 14.938,
         "Width": 5.1975,
         "_deepnote_index_column": 17
        },
        {
         "Species": "Bream",
         "Weight": 610,
         "Length1": 30.9,
         "Length2": 33.5,
         "Length3": 38.6,
         "Height": 15.633,
         "Width": 5.1338,
         "_deepnote_index_column": 18
        },
        {
         "Species": "Bream",
         "Weight": 650,
         "Length1": 31,
         "Length2": 33.5,
         "Length3": 38.7,
         "Height": 14.4738,
         "Width": 5.7276,
         "_deepnote_index_column": 19
        },
        {
         "Species": "Bream",
         "Weight": 575,
         "Length1": 31.3,
         "Length2": 34,
         "Length3": 39.5,
         "Height": 15.1285,
         "Width": 5.5695,
         "_deepnote_index_column": 20
        },
        {
         "Species": "Bream",
         "Weight": 685,
         "Length1": 31.4,
         "Length2": 34,
         "Length3": 39.2,
         "Height": 15.9936,
         "Width": 5.3704,
         "_deepnote_index_column": 21
        },
        {
         "Species": "Bream",
         "Weight": 620,
         "Length1": 31.5,
         "Length2": 34.5,
         "Length3": 39.7,
         "Height": 15.5227,
         "Width": 5.2801,
         "_deepnote_index_column": 22
        },
        {
         "Species": "Bream",
         "Weight": 680,
         "Length1": 31.8,
         "Length2": 35,
         "Length3": 40.6,
         "Height": 15.4686,
         "Width": 6.1306,
         "_deepnote_index_column": 23
        },
        {
         "Species": "Bream",
         "Weight": 700,
         "Length1": 31.9,
         "Length2": 35,
         "Length3": 40.5,
         "Height": 16.2405,
         "Width": 5.589,
         "_deepnote_index_column": 24
        },
        {
         "Species": "Bream",
         "Weight": 725,
         "Length1": 31.8,
         "Length2": 35,
         "Length3": 40.9,
         "Height": 16.36,
         "Width": 6.0532,
         "_deepnote_index_column": 25
        },
        {
         "Species": "Bream",
         "Weight": 720,
         "Length1": 32,
         "Length2": 35,
         "Length3": 40.6,
         "Height": 16.3618,
         "Width": 6.09,
         "_deepnote_index_column": 26
        },
        {
         "Species": "Bream",
         "Weight": 714,
         "Length1": 32.7,
         "Length2": 36,
         "Length3": 41.5,
         "Height": 16.517,
         "Width": 5.8515,
         "_deepnote_index_column": 27
        },
        {
         "Species": "Bream",
         "Weight": 850,
         "Length1": 32.8,
         "Length2": 36,
         "Length3": 41.6,
         "Height": 16.8896,
         "Width": 6.1984,
         "_deepnote_index_column": 28
        },
        {
         "Species": "Bream",
         "Weight": 1000,
         "Length1": 33.5,
         "Length2": 37,
         "Length3": 42.6,
         "Height": 18.957,
         "Width": 6.603,
         "_deepnote_index_column": 29
        },
        {
         "Species": "Bream",
         "Weight": 920,
         "Length1": 35,
         "Length2": 38.5,
         "Length3": 44.1,
         "Height": 18.0369,
         "Width": 6.3063,
         "_deepnote_index_column": 30
        },
        {
         "Species": "Bream",
         "Weight": 955,
         "Length1": 35,
         "Length2": 38.5,
         "Length3": 44,
         "Height": 18.084,
         "Width": 6.292,
         "_deepnote_index_column": 31
        },
        {
         "Species": "Bream",
         "Weight": 925,
         "Length1": 36.2,
         "Length2": 39.5,
         "Length3": 45.3,
         "Height": 18.7542,
         "Width": 6.7497,
         "_deepnote_index_column": 32
        },
        {
         "Species": "Bream",
         "Weight": 975,
         "Length1": 37.4,
         "Length2": 41,
         "Length3": 45.9,
         "Height": 18.6354,
         "Width": 6.7473,
         "_deepnote_index_column": 33
        },
        {
         "Species": "Bream",
         "Weight": 950,
         "Length1": 38,
         "Length2": 41,
         "Length3": 46.5,
         "Height": 17.6235,
         "Width": 6.3705,
         "_deepnote_index_column": 34
        },
        {
         "Species": "Roach",
         "Weight": 40,
         "Length1": 12.9,
         "Length2": 14.1,
         "Length3": 16.2,
         "Height": 4.1472,
         "Width": 2.268,
         "_deepnote_index_column": 35
        },
        {
         "Species": "Roach",
         "Weight": 69,
         "Length1": 16.5,
         "Length2": 18.2,
         "Length3": 20.3,
         "Height": 5.2983,
         "Width": 2.8217,
         "_deepnote_index_column": 36
        },
        {
         "Species": "Roach",
         "Weight": 78,
         "Length1": 17.5,
         "Length2": 18.8,
         "Length3": 21.2,
         "Height": 5.5756,
         "Width": 2.9044,
         "_deepnote_index_column": 37
        },
        {
         "Species": "Roach",
         "Weight": 87,
         "Length1": 18.2,
         "Length2": 19.8,
         "Length3": 22.2,
         "Height": 5.6166,
         "Width": 3.1746,
         "_deepnote_index_column": 38
        },
        {
         "Species": "Roach",
         "Weight": 120,
         "Length1": 18.6,
         "Length2": 20,
         "Length3": 22.2,
         "Height": 6.216,
         "Width": 3.5742,
         "_deepnote_index_column": 39
        },
        {
         "Species": "Roach",
         "Weight": 0,
         "Length1": 19,
         "Length2": 20.5,
         "Length3": 22.8,
         "Height": 6.4752,
         "Width": 3.3516,
         "_deepnote_index_column": 40
        },
        {
         "Species": "Roach",
         "Weight": 110,
         "Length1": 19.1,
         "Length2": 20.8,
         "Length3": 23.1,
         "Height": 6.1677,
         "Width": 3.3957,
         "_deepnote_index_column": 41
        },
        {
         "Species": "Roach",
         "Weight": 120,
         "Length1": 19.4,
         "Length2": 21,
         "Length3": 23.7,
         "Height": 6.1146,
         "Width": 3.2943,
         "_deepnote_index_column": 42
        },
        {
         "Species": "Roach",
         "Weight": 150,
         "Length1": 20.4,
         "Length2": 22,
         "Length3": 24.7,
         "Height": 5.8045,
         "Width": 3.7544,
         "_deepnote_index_column": 43
        },
        {
         "Species": "Roach",
         "Weight": 145,
         "Length1": 20.5,
         "Length2": 22,
         "Length3": 24.3,
         "Height": 6.6339,
         "Width": 3.5478,
         "_deepnote_index_column": 44
        },
        {
         "Species": "Roach",
         "Weight": 160,
         "Length1": 20.5,
         "Length2": 22.5,
         "Length3": 25.3,
         "Height": 7.0334,
         "Width": 3.8203,
         "_deepnote_index_column": 45
        },
        {
         "Species": "Roach",
         "Weight": 140,
         "Length1": 21,
         "Length2": 22.5,
         "Length3": 25,
         "Height": 6.55,
         "Width": 3.325,
         "_deepnote_index_column": 46
        },
        {
         "Species": "Roach",
         "Weight": 160,
         "Length1": 21.1,
         "Length2": 22.5,
         "Length3": 25,
         "Height": 6.4,
         "Width": 3.8,
         "_deepnote_index_column": 47
        },
        {
         "Species": "Roach",
         "Weight": 169,
         "Length1": 22,
         "Length2": 24,
         "Length3": 27.2,
         "Height": 7.5344,
         "Width": 3.8352,
         "_deepnote_index_column": 48
        },
        {
         "Species": "Roach",
         "Weight": 161,
         "Length1": 22,
         "Length2": 23.4,
         "Length3": 26.7,
         "Height": 6.9153,
         "Width": 3.6312,
         "_deepnote_index_column": 49
        },
        {
         "Species": "Roach",
         "Weight": 200,
         "Length1": 22.1,
         "Length2": 23.5,
         "Length3": 26.8,
         "Height": 7.3968,
         "Width": 4.1272,
         "_deepnote_index_column": 50
        },
        {
         "Species": "Roach",
         "Weight": 180,
         "Length1": 23.6,
         "Length2": 25.2,
         "Length3": 27.9,
         "Height": 7.0866,
         "Width": 3.906,
         "_deepnote_index_column": 51
        },
        {
         "Species": "Roach",
         "Weight": 290,
         "Length1": 24,
         "Length2": 26,
         "Length3": 29.2,
         "Height": 8.8768,
         "Width": 4.4968,
         "_deepnote_index_column": 52
        },
        {
         "Species": "Roach",
         "Weight": 272,
         "Length1": 25,
         "Length2": 27,
         "Length3": 30.6,
         "Height": 8.568,
         "Width": 4.7736,
         "_deepnote_index_column": 53
        },
        {
         "Species": "Roach",
         "Weight": 390,
         "Length1": 29.5,
         "Length2": 31.7,
         "Length3": 35,
         "Height": 9.485,
         "Width": 5.355,
         "_deepnote_index_column": 54
        },
        {
         "Species": "Whitefish",
         "Weight": 270,
         "Length1": 23.6,
         "Length2": 26,
         "Length3": 28.7,
         "Height": 8.3804,
         "Width": 4.2476,
         "_deepnote_index_column": 55
        },
        {
         "Species": "Whitefish",
         "Weight": 270,
         "Length1": 24.1,
         "Length2": 26.5,
         "Length3": 29.3,
         "Height": 8.1454,
         "Width": 4.2485,
         "_deepnote_index_column": 56
        },
        {
         "Species": "Whitefish",
         "Weight": 306,
         "Length1": 25.6,
         "Length2": 28,
         "Length3": 30.8,
         "Height": 8.778,
         "Width": 4.6816,
         "_deepnote_index_column": 57
        },
        {
         "Species": "Whitefish",
         "Weight": 540,
         "Length1": 28.5,
         "Length2": 31,
         "Length3": 34,
         "Height": 10.744,
         "Width": 6.562,
         "_deepnote_index_column": 58
        },
        {
         "Species": "Whitefish",
         "Weight": 800,
         "Length1": 33.7,
         "Length2": 36.4,
         "Length3": 39.6,
         "Height": 11.7612,
         "Width": 6.5736,
         "_deepnote_index_column": 59
        },
        {
         "Species": "Whitefish",
         "Weight": 1000,
         "Length1": 37.3,
         "Length2": 40,
         "Length3": 43.5,
         "Height": 12.354,
         "Width": 6.525,
         "_deepnote_index_column": 60
        },
        {
         "Species": "Parkki",
         "Weight": 55,
         "Length1": 13.5,
         "Length2": 14.7,
         "Length3": 16.5,
         "Height": 6.8475,
         "Width": 2.3265,
         "_deepnote_index_column": 61
        },
        {
         "Species": "Parkki",
         "Weight": 60,
         "Length1": 14.3,
         "Length2": 15.5,
         "Length3": 17.4,
         "Height": 6.5772,
         "Width": 2.3142,
         "_deepnote_index_column": 62
        },
        {
         "Species": "Parkki",
         "Weight": 90,
         "Length1": 16.3,
         "Length2": 17.7,
         "Length3": 19.8,
         "Height": 7.4052,
         "Width": 2.673,
         "_deepnote_index_column": 63
        },
        {
         "Species": "Parkki",
         "Weight": 120,
         "Length1": 17.5,
         "Length2": 19,
         "Length3": 21.3,
         "Height": 8.3922,
         "Width": 2.9181,
         "_deepnote_index_column": 64
        },
        {
         "Species": "Parkki",
         "Weight": 150,
         "Length1": 18.4,
         "Length2": 20,
         "Length3": 22.4,
         "Height": 8.8928,
         "Width": 3.2928,
         "_deepnote_index_column": 65
        },
        {
         "Species": "Parkki",
         "Weight": 140,
         "Length1": 19,
         "Length2": 20.7,
         "Length3": 23.2,
         "Height": 8.5376,
         "Width": 3.2944,
         "_deepnote_index_column": 66
        },
        {
         "Species": "Parkki",
         "Weight": 170,
         "Length1": 19,
         "Length2": 20.7,
         "Length3": 23.2,
         "Height": 9.396,
         "Width": 3.4104,
         "_deepnote_index_column": 67
        },
        {
         "Species": "Parkki",
         "Weight": 145,
         "Length1": 19.8,
         "Length2": 21.5,
         "Length3": 24.1,
         "Height": 9.7364,
         "Width": 3.1571,
         "_deepnote_index_column": 68
        },
        {
         "Species": "Parkki",
         "Weight": 200,
         "Length1": 21.2,
         "Length2": 23,
         "Length3": 25.8,
         "Height": 10.3458,
         "Width": 3.6636,
         "_deepnote_index_column": 69
        },
        {
         "Species": "Parkki",
         "Weight": 273,
         "Length1": 23,
         "Length2": 25,
         "Length3": 28,
         "Height": 11.088,
         "Width": 4.144,
         "_deepnote_index_column": 70
        }
       ],
       "rows_bottom": [
        {
         "Species": "Perch",
         "Weight": 130,
         "Length1": 20,
         "Length2": 22,
         "Length3": 23.5,
         "Height": 6.11,
         "Width": 3.525,
         "_deepnote_index_column": 88
        },
        {
         "Species": "Perch",
         "Weight": 135,
         "Length1": 20,
         "Length2": 22,
         "Length3": 23.5,
         "Height": 5.875,
         "Width": 3.525,
         "_deepnote_index_column": 89
        },
        {
         "Species": "Perch",
         "Weight": 110,
         "Length1": 20,
         "Length2": 22,
         "Length3": 23.5,
         "Height": 5.5225,
         "Width": 3.995,
         "_deepnote_index_column": 90
        },
        {
         "Species": "Perch",
         "Weight": 130,
         "Length1": 20.5,
         "Length2": 22.5,
         "Length3": 24,
         "Height": 5.856,
         "Width": 3.624,
         "_deepnote_index_column": 91
        },
        {
         "Species": "Perch",
         "Weight": 150,
         "Length1": 20.5,
         "Length2": 22.5,
         "Length3": 24,
         "Height": 6.792,
         "Width": 3.624,
         "_deepnote_index_column": 92
        },
        {
         "Species": "Perch",
         "Weight": 145,
         "Length1": 20.7,
         "Length2": 22.7,
         "Length3": 24.2,
         "Height": 5.9532,
         "Width": 3.63,
         "_deepnote_index_column": 93
        },
        {
         "Species": "Perch",
         "Weight": 150,
         "Length1": 21,
         "Length2": 23,
         "Length3": 24.5,
         "Height": 5.2185,
         "Width": 3.626,
         "_deepnote_index_column": 94
        },
        {
         "Species": "Perch",
         "Weight": 170,
         "Length1": 21.5,
         "Length2": 23.5,
         "Length3": 25,
         "Height": 6.275,
         "Width": 3.725,
         "_deepnote_index_column": 95
        },
        {
         "Species": "Perch",
         "Weight": 225,
         "Length1": 22,
         "Length2": 24,
         "Length3": 25.5,
         "Height": 7.293,
         "Width": 3.723,
         "_deepnote_index_column": 96
        },
        {
         "Species": "Perch",
         "Weight": 145,
         "Length1": 22,
         "Length2": 24,
         "Length3": 25.5,
         "Height": 6.375,
         "Width": 3.825,
         "_deepnote_index_column": 97
        },
        {
         "Species": "Perch",
         "Weight": 188,
         "Length1": 22.6,
         "Length2": 24.6,
         "Length3": 26.2,
         "Height": 6.7334,
         "Width": 4.1658,
         "_deepnote_index_column": 98
        },
        {
         "Species": "Perch",
         "Weight": 180,
         "Length1": 23,
         "Length2": 25,
         "Length3": 26.5,
         "Height": 6.4395,
         "Width": 3.6835,
         "_deepnote_index_column": 99
        },
        {
         "Species": "Perch",
         "Weight": 197,
         "Length1": 23.5,
         "Length2": 25.6,
         "Length3": 27,
         "Height": 6.561,
         "Width": 4.239,
         "_deepnote_index_column": 100
        },
        {
         "Species": "Perch",
         "Weight": 218,
         "Length1": 25,
         "Length2": 26.5,
         "Length3": 28,
         "Height": 7.168,
         "Width": 4.144,
         "_deepnote_index_column": 101
        },
        {
         "Species": "Perch",
         "Weight": 300,
         "Length1": 25.2,
         "Length2": 27.3,
         "Length3": 28.7,
         "Height": 8.323,
         "Width": 5.1373,
         "_deepnote_index_column": 102
        },
        {
         "Species": "Perch",
         "Weight": 260,
         "Length1": 25.4,
         "Length2": 27.5,
         "Length3": 28.9,
         "Height": 7.1672,
         "Width": 4.335,
         "_deepnote_index_column": 103
        },
        {
         "Species": "Perch",
         "Weight": 265,
         "Length1": 25.4,
         "Length2": 27.5,
         "Length3": 28.9,
         "Height": 7.0516,
         "Width": 4.335,
         "_deepnote_index_column": 104
        },
        {
         "Species": "Perch",
         "Weight": 250,
         "Length1": 25.4,
         "Length2": 27.5,
         "Length3": 28.9,
         "Height": 7.2828,
         "Width": 4.5662,
         "_deepnote_index_column": 105
        },
        {
         "Species": "Perch",
         "Weight": 250,
         "Length1": 25.9,
         "Length2": 28,
         "Length3": 29.4,
         "Height": 7.8204,
         "Width": 4.2042,
         "_deepnote_index_column": 106
        },
        {
         "Species": "Perch",
         "Weight": 300,
         "Length1": 26.9,
         "Length2": 28.7,
         "Length3": 30.1,
         "Height": 7.5852,
         "Width": 4.6354,
         "_deepnote_index_column": 107
        },
        {
         "Species": "Perch",
         "Weight": 320,
         "Length1": 27.8,
         "Length2": 30,
         "Length3": 31.6,
         "Height": 7.6156,
         "Width": 4.7716,
         "_deepnote_index_column": 108
        },
        {
         "Species": "Perch",
         "Weight": 514,
         "Length1": 30.5,
         "Length2": 32.8,
         "Length3": 34,
         "Height": 10.03,
         "Width": 6.018,
         "_deepnote_index_column": 109
        },
        {
         "Species": "Perch",
         "Weight": 556,
         "Length1": 32,
         "Length2": 34.5,
         "Length3": 36.5,
         "Height": 10.2565,
         "Width": 6.3875,
         "_deepnote_index_column": 110
        },
        {
         "Species": "Perch",
         "Weight": 840,
         "Length1": 32.5,
         "Length2": 35,
         "Length3": 37.3,
         "Height": 11.4884,
         "Width": 7.7957,
         "_deepnote_index_column": 111
        },
        {
         "Species": "Perch",
         "Weight": 685,
         "Length1": 34,
         "Length2": 36.5,
         "Length3": 39,
         "Height": 10.881,
         "Width": 6.864,
         "_deepnote_index_column": 112
        },
        {
         "Species": "Perch",
         "Weight": 700,
         "Length1": 34,
         "Length2": 36,
         "Length3": 38.3,
         "Height": 10.6091,
         "Width": 6.7408,
         "_deepnote_index_column": 113
        },
        {
         "Species": "Perch",
         "Weight": 700,
         "Length1": 34.5,
         "Length2": 37,
         "Length3": 39.4,
         "Height": 10.835,
         "Width": 6.2646,
         "_deepnote_index_column": 114
        },
        {
         "Species": "Perch",
         "Weight": 690,
         "Length1": 34.6,
         "Length2": 37,
         "Length3": 39.3,
         "Height": 10.5717,
         "Width": 6.3666,
         "_deepnote_index_column": 115
        },
        {
         "Species": "Perch",
         "Weight": 900,
         "Length1": 36.5,
         "Length2": 39,
         "Length3": 41.4,
         "Height": 11.1366,
         "Width": 7.4934,
         "_deepnote_index_column": 116
        },
        {
         "Species": "Perch",
         "Weight": 650,
         "Length1": 36.5,
         "Length2": 39,
         "Length3": 41.4,
         "Height": 11.1366,
         "Width": 6.003,
         "_deepnote_index_column": 117
        },
        {
         "Species": "Perch",
         "Weight": 820,
         "Length1": 36.6,
         "Length2": 39,
         "Length3": 41.3,
         "Height": 12.4313,
         "Width": 7.3514,
         "_deepnote_index_column": 118
        },
        {
         "Species": "Perch",
         "Weight": 850,
         "Length1": 36.9,
         "Length2": 40,
         "Length3": 42.3,
         "Height": 11.9286,
         "Width": 7.1064,
         "_deepnote_index_column": 119
        },
        {
         "Species": "Perch",
         "Weight": 900,
         "Length1": 37,
         "Length2": 40,
         "Length3": 42.5,
         "Height": 11.73,
         "Width": 7.225,
         "_deepnote_index_column": 120
        },
        {
         "Species": "Perch",
         "Weight": 1015,
         "Length1": 37,
         "Length2": 40,
         "Length3": 42.4,
         "Height": 12.3808,
         "Width": 7.4624,
         "_deepnote_index_column": 121
        },
        {
         "Species": "Perch",
         "Weight": 820,
         "Length1": 37.1,
         "Length2": 40,
         "Length3": 42.5,
         "Height": 11.135,
         "Width": 6.63,
         "_deepnote_index_column": 122
        },
        {
         "Species": "Perch",
         "Weight": 1100,
         "Length1": 39,
         "Length2": 42,
         "Length3": 44.6,
         "Height": 12.8002,
         "Width": 6.8684,
         "_deepnote_index_column": 123
        },
        {
         "Species": "Perch",
         "Weight": 1000,
         "Length1": 39.8,
         "Length2": 43,
         "Length3": 45.2,
         "Height": 11.9328,
         "Width": 7.2772,
         "_deepnote_index_column": 124
        },
        {
         "Species": "Perch",
         "Weight": 1100,
         "Length1": 40.1,
         "Length2": 43,
         "Length3": 45.5,
         "Height": 12.5125,
         "Width": 7.4165,
         "_deepnote_index_column": 125
        },
        {
         "Species": "Perch",
         "Weight": 1000,
         "Length1": 40.2,
         "Length2": 43.5,
         "Length3": 46,
         "Height": 12.604,
         "Width": 8.142,
         "_deepnote_index_column": 126
        },
        {
         "Species": "Perch",
         "Weight": 1000,
         "Length1": 41.1,
         "Length2": 44,
         "Length3": 46.6,
         "Height": 12.4888,
         "Width": 7.5958,
         "_deepnote_index_column": 127
        },
        {
         "Species": "Pike",
         "Weight": 200,
         "Length1": 30,
         "Length2": 32.3,
         "Length3": 34.8,
         "Height": 5.568,
         "Width": 3.3756,
         "_deepnote_index_column": 128
        },
        {
         "Species": "Pike",
         "Weight": 300,
         "Length1": 31.7,
         "Length2": 34,
         "Length3": 37.8,
         "Height": 5.7078,
         "Width": 4.158,
         "_deepnote_index_column": 129
        },
        {
         "Species": "Pike",
         "Weight": 300,
         "Length1": 32.7,
         "Length2": 35,
         "Length3": 38.8,
         "Height": 5.9364,
         "Width": 4.3844,
         "_deepnote_index_column": 130
        },
        {
         "Species": "Pike",
         "Weight": 300,
         "Length1": 34.8,
         "Length2": 37.3,
         "Length3": 39.8,
         "Height": 6.2884,
         "Width": 4.0198,
         "_deepnote_index_column": 131
        },
        {
         "Species": "Pike",
         "Weight": 430,
         "Length1": 35.5,
         "Length2": 38,
         "Length3": 40.5,
         "Height": 7.29,
         "Width": 4.5765,
         "_deepnote_index_column": 132
        },
        {
         "Species": "Pike",
         "Weight": 345,
         "Length1": 36,
         "Length2": 38.5,
         "Length3": 41,
         "Height": 6.396,
         "Width": 3.977,
         "_deepnote_index_column": 133
        },
        {
         "Species": "Pike",
         "Weight": 456,
         "Length1": 40,
         "Length2": 42.5,
         "Length3": 45.5,
         "Height": 7.28,
         "Width": 4.3225,
         "_deepnote_index_column": 134
        },
        {
         "Species": "Pike",
         "Weight": 510,
         "Length1": 40,
         "Length2": 42.5,
         "Length3": 45.5,
         "Height": 6.825,
         "Width": 4.459,
         "_deepnote_index_column": 135
        },
        {
         "Species": "Pike",
         "Weight": 540,
         "Length1": 40.1,
         "Length2": 43,
         "Length3": 45.8,
         "Height": 7.786,
         "Width": 5.1296,
         "_deepnote_index_column": 136
        },
        {
         "Species": "Pike",
         "Weight": 500,
         "Length1": 42,
         "Length2": 45,
         "Length3": 48,
         "Height": 6.96,
         "Width": 4.896,
         "_deepnote_index_column": 137
        },
        {
         "Species": "Pike",
         "Weight": 567,
         "Length1": 43.2,
         "Length2": 46,
         "Length3": 48.7,
         "Height": 7.792,
         "Width": 4.87,
         "_deepnote_index_column": 138
        },
        {
         "Species": "Pike",
         "Weight": 770,
         "Length1": 44.8,
         "Length2": 48,
         "Length3": 51.2,
         "Height": 7.68,
         "Width": 5.376,
         "_deepnote_index_column": 139
        },
        {
         "Species": "Pike",
         "Weight": 950,
         "Length1": 48.3,
         "Length2": 51.7,
         "Length3": 55.1,
         "Height": 8.9262,
         "Width": 6.1712,
         "_deepnote_index_column": 140
        },
        {
         "Species": "Pike",
         "Weight": 1250,
         "Length1": 52,
         "Length2": 56,
         "Length3": 59.7,
         "Height": 10.6863,
         "Width": 6.9849,
         "_deepnote_index_column": 141
        },
        {
         "Species": "Pike",
         "Weight": 1600,
         "Length1": 56,
         "Length2": 60,
         "Length3": 64,
         "Height": 9.6,
         "Width": 6.144,
         "_deepnote_index_column": 142
        },
        {
         "Species": "Pike",
         "Weight": 1550,
         "Length1": 56,
         "Length2": 60,
         "Length3": 64,
         "Height": 9.6,
         "Width": 6.144,
         "_deepnote_index_column": 143
        },
        {
         "Species": "Pike",
         "Weight": 1650,
         "Length1": 59,
         "Length2": 63.4,
         "Length3": 68,
         "Height": 10.812,
         "Width": 7.48,
         "_deepnote_index_column": 144
        },
        {
         "Species": "Smelt",
         "Weight": 6.7,
         "Length1": 9.3,
         "Length2": 9.8,
         "Length3": 10.8,
         "Height": 1.7388,
         "Width": 1.0476,
         "_deepnote_index_column": 145
        },
        {
         "Species": "Smelt",
         "Weight": 7.5,
         "Length1": 10,
         "Length2": 10.5,
         "Length3": 11.6,
         "Height": 1.972,
         "Width": 1.16,
         "_deepnote_index_column": 146
        },
        {
         "Species": "Smelt",
         "Weight": 7,
         "Length1": 10.1,
         "Length2": 10.6,
         "Length3": 11.6,
         "Height": 1.7284,
         "Width": 1.1484,
         "_deepnote_index_column": 147
        },
        {
         "Species": "Smelt",
         "Weight": 9.7,
         "Length1": 10.4,
         "Length2": 11,
         "Length3": 12,
         "Height": 2.196,
         "Width": 1.38,
         "_deepnote_index_column": 148
        },
        {
         "Species": "Smelt",
         "Weight": 9.8,
         "Length1": 10.7,
         "Length2": 11.2,
         "Length3": 12.4,
         "Height": 2.0832,
         "Width": 1.2772,
         "_deepnote_index_column": 149
        },
        {
         "Species": "Smelt",
         "Weight": 8.7,
         "Length1": 10.8,
         "Length2": 11.3,
         "Length3": 12.6,
         "Height": 1.9782,
         "Width": 1.2852,
         "_deepnote_index_column": 150
        },
        {
         "Species": "Smelt",
         "Weight": 10,
         "Length1": 11.3,
         "Length2": 11.8,
         "Length3": 13.1,
         "Height": 2.2139,
         "Width": 1.2838,
         "_deepnote_index_column": 151
        },
        {
         "Species": "Smelt",
         "Weight": 9.9,
         "Length1": 11.3,
         "Length2": 11.8,
         "Length3": 13.1,
         "Height": 2.2139,
         "Width": 1.1659,
         "_deepnote_index_column": 152
        },
        {
         "Species": "Smelt",
         "Weight": 9.8,
         "Length1": 11.4,
         "Length2": 12,
         "Length3": 13.2,
         "Height": 2.2044,
         "Width": 1.1484,
         "_deepnote_index_column": 153
        },
        {
         "Species": "Smelt",
         "Weight": 12.2,
         "Length1": 11.5,
         "Length2": 12.2,
         "Length3": 13.4,
         "Height": 2.0904,
         "Width": 1.3936,
         "_deepnote_index_column": 154
        },
        {
         "Species": "Smelt",
         "Weight": 13.4,
         "Length1": 11.7,
         "Length2": 12.4,
         "Length3": 13.5,
         "Height": 2.43,
         "Width": 1.269,
         "_deepnote_index_column": 155
        },
        {
         "Species": "Smelt",
         "Weight": 12.2,
         "Length1": 12.1,
         "Length2": 13,
         "Length3": 13.8,
         "Height": 2.277,
         "Width": 1.2558,
         "_deepnote_index_column": 156
        },
        {
         "Species": "Smelt",
         "Weight": 19.7,
         "Length1": 13.2,
         "Length2": 14.3,
         "Length3": 15.2,
         "Height": 2.8728,
         "Width": 2.0672,
         "_deepnote_index_column": 157
        },
        {
         "Species": "Smelt",
         "Weight": 19.9,
         "Length1": 13.8,
         "Length2": 15,
         "Length3": 16.2,
         "Height": 2.9322,
         "Width": 1.8792,
         "_deepnote_index_column": 158
        }
       ]
      },
      "text/plain": "    Species  Weight  Length1  Length2  Length3   Height   Width\n0     Bream   242.0     23.2     25.4     30.0  11.5200  4.0200\n1     Bream   290.0     24.0     26.3     31.2  12.4800  4.3056\n2     Bream   340.0     23.9     26.5     31.1  12.3778  4.6961\n3     Bream   363.0     26.3     29.0     33.5  12.7300  4.4555\n4     Bream   430.0     26.5     29.0     34.0  12.4440  5.1340\n..      ...     ...      ...      ...      ...      ...     ...\n154   Smelt    12.2     11.5     12.2     13.4   2.0904  1.3936\n155   Smelt    13.4     11.7     12.4     13.5   2.4300  1.2690\n156   Smelt    12.2     12.1     13.0     13.8   2.2770  1.2558\n157   Smelt    19.7     13.2     14.3     15.2   2.8728  2.0672\n158   Smelt    19.9     13.8     15.0     16.2   2.9322  1.8792\n\n[159 rows x 7 columns]",
      "text/html": "<div>\n<style scoped>\n    .dataframe tbody tr th:only-of-type {\n        vertical-align: middle;\n    }\n\n    .dataframe tbody tr th {\n        vertical-align: top;\n    }\n\n    .dataframe thead th {\n        text-align: right;\n    }\n</style>\n<table border=\"1\" class=\"dataframe\">\n  <thead>\n    <tr style=\"text-align: right;\">\n      <th></th>\n      <th>Species</th>\n      <th>Weight</th>\n      <th>Length1</th>\n      <th>Length2</th>\n      <th>Length3</th>\n      <th>Height</th>\n      <th>Width</th>\n    </tr>\n  </thead>\n  <tbody>\n    <tr>\n      <th>0</th>\n      <td>Bream</td>\n      <td>242.0</td>\n      <td>23.2</td>\n      <td>25.4</td>\n      <td>30.0</td>\n      <td>11.5200</td>\n      <td>4.0200</td>\n    </tr>\n    <tr>\n      <th>1</th>\n      <td>Bream</td>\n      <td>290.0</td>\n      <td>24.0</td>\n      <td>26.3</td>\n      <td>31.2</td>\n      <td>12.4800</td>\n      <td>4.3056</td>\n    </tr>\n    <tr>\n      <th>2</th>\n      <td>Bream</td>\n      <td>340.0</td>\n      <td>23.9</td>\n      <td>26.5</td>\n      <td>31.1</td>\n      <td>12.3778</td>\n      <td>4.6961</td>\n    </tr>\n    <tr>\n      <th>3</th>\n      <td>Bream</td>\n      <td>363.0</td>\n      <td>26.3</td>\n      <td>29.0</td>\n      <td>33.5</td>\n      <td>12.7300</td>\n      <td>4.4555</td>\n    </tr>\n    <tr>\n      <th>4</th>\n      <td>Bream</td>\n      <td>430.0</td>\n      <td>26.5</td>\n      <td>29.0</td>\n      <td>34.0</td>\n      <td>12.4440</td>\n      <td>5.1340</td>\n    </tr>\n    <tr>\n      <th>...</th>\n      <td>...</td>\n      <td>...</td>\n      <td>...</td>\n      <td>...</td>\n      <td>...</td>\n      <td>...</td>\n      <td>...</td>\n    </tr>\n    <tr>\n      <th>154</th>\n      <td>Smelt</td>\n      <td>12.2</td>\n      <td>11.5</td>\n      <td>12.2</td>\n      <td>13.4</td>\n      <td>2.0904</td>\n      <td>1.3936</td>\n    </tr>\n    <tr>\n      <th>155</th>\n      <td>Smelt</td>\n      <td>13.4</td>\n      <td>11.7</td>\n      <td>12.4</td>\n      <td>13.5</td>\n      <td>2.4300</td>\n      <td>1.2690</td>\n    </tr>\n    <tr>\n      <th>156</th>\n      <td>Smelt</td>\n      <td>12.2</td>\n      <td>12.1</td>\n      <td>13.0</td>\n      <td>13.8</td>\n      <td>2.2770</td>\n      <td>1.2558</td>\n    </tr>\n    <tr>\n      <th>157</th>\n      <td>Smelt</td>\n      <td>19.7</td>\n      <td>13.2</td>\n      <td>14.3</td>\n      <td>15.2</td>\n      <td>2.8728</td>\n      <td>2.0672</td>\n    </tr>\n    <tr>\n      <th>158</th>\n      <td>Smelt</td>\n      <td>19.9</td>\n      <td>13.8</td>\n      <td>15.0</td>\n      <td>16.2</td>\n      <td>2.9322</td>\n      <td>1.8792</td>\n    </tr>\n  </tbody>\n</table>\n<p>159 rows × 7 columns</p>\n</div>"
     },
     "metadata": {}
    }
   ]
  },
  {
   "cell_type": "code",
   "source": "",
   "metadata": {
    "cell_id": "00002-e5513cca-4e24-4b38-9ede-97f447873495",
    "deepnote_variable_name": "df",
    "deepnote_visualization_spec": {
     "$schema": "https://vega.github.io/schema/vega-lite/v4.json",
     "mark": {
      "type": "point",
      "tooltip": {
       "content": "data"
      }
     },
     "height": 220,
     "autosize": {
      "type": "fit"
     },
     "data": {
      "name": "placeholder"
     },
     "encoding": {
      "x": {
       "field": "Height",
       "type": "quantitative",
       "sort": null,
       "scale": {
        "type": "linear",
        "zero": false
       }
      },
      "y": {
       "field": "Width",
       "type": "quantitative",
       "sort": null,
       "scale": {
        "type": "linear",
        "zero": false
       }
      },
      "color": {
       "field": "",
       "type": "nominal",
       "sort": null,
       "scale": {
        "type": "linear",
        "zero": false
       }
      }
     }
    },
    "deepnote_to_be_reexecuted": false,
    "source_hash": "f6c70afb",
    "execution_start": 1628181266392,
    "execution_millis": 431,
    "deepnote_cell_type": "visualization"
   },
   "execution_count": 3,
   "outputs": [
    {
     "output_type": "execute_result",
     "execution_count": 3,
     "data": {
      "text/html": "\n<div id=\"altair-viz-51f5d2848feb47b98f2d19495fc31703\"></div>\n<script type=\"text/javascript\">\n  (function(spec, embedOpt){\n    let outputDiv = document.currentScript.previousElementSibling;\n    if (outputDiv.id !== \"altair-viz-51f5d2848feb47b98f2d19495fc31703\") {\n      outputDiv = document.getElementById(\"altair-viz-51f5d2848feb47b98f2d19495fc31703\");\n    }\n    const paths = {\n      \"vega\": \"https://cdn.jsdelivr.net/npm//vega@5?noext\",\n      \"vega-lib\": \"https://cdn.jsdelivr.net/npm//vega-lib?noext\",\n      \"vega-lite\": \"https://cdn.jsdelivr.net/npm//vega-lite@4.8.1?noext\",\n      \"vega-embed\": \"https://cdn.jsdelivr.net/npm//vega-embed@6?noext\",\n    };\n\n    function loadScript(lib) {\n      return new Promise(function(resolve, reject) {\n        var s = document.createElement('script');\n        s.src = paths[lib];\n        s.async = true;\n        s.onload = () => resolve(paths[lib]);\n        s.onerror = () => reject(`Error loading script: ${paths[lib]}`);\n        document.getElementsByTagName(\"head\")[0].appendChild(s);\n      });\n    }\n\n    function showError(err) {\n      outputDiv.innerHTML = `<div class=\"error\" style=\"color:red;\">${err}</div>`;\n      throw err;\n    }\n\n    function displayChart(vegaEmbed) {\n      vegaEmbed(outputDiv, spec, embedOpt)\n        .catch(err => showError(`Javascript Error: ${err.message}<br>This usually means there's a typo in your chart specification. See the javascript console for the full traceback.`));\n    }\n\n    if(typeof define === \"function\" && define.amd) {\n      requirejs.config({paths});\n      require([\"vega-embed\"], displayChart, err => showError(`Error loading script: ${err.message}`));\n    } else if (typeof vegaEmbed === \"function\") {\n      displayChart(vegaEmbed);\n    } else {\n      loadScript(\"vega\")\n        .then(() => loadScript(\"vega-lite\"))\n        .then(() => loadScript(\"vega-embed\"))\n        .catch(showError)\n        .then(() => displayChart(vegaEmbed));\n    }\n  })({\"config\": {\"view\": {\"continuousWidth\": 400, \"continuousHeight\": 300}, \"area\": {\"fill\": \"#51C0E9\"}, \"axis\": {\"labelFont\": \"Inter, sans-serif\", \"labelFontSize\": 12, \"labelFontWeight\": \"normal\", \"labelLimit\": 60, \"labelOverlap\": \"greedy\", \"titleFont\": \"Inter, sans-serif\", \"titleFontSize\": 12, \"titleFontWeight\": \"bold\"}, \"background\": \"#ffffff\", \"legend\": {\"labelFont\": \"Inter, sans-serif\", \"labelFontSize\": 12, \"titleFont\": \"Inter, sans-serif\", \"titleFontSize\": 12, \"titleFontWeight\": \"bold\"}, \"line\": {\"stroke\": \"#51C0E9\", \"strokeWidth\": 2}, \"rect\": {\"fill\": \"#51C0E9\"}, \"title\": {\"anchor\": \"start\", \"color\": \"#000000\", \"font\": \"Inter, sans-serif\", \"fontSize\": 22, \"fontWeight\": \"normal\"}}, \"data\": {\"name\": \"data-c87d4bbb7caca88498395d2fa5913244\"}, \"mark\": {\"type\": \"point\", \"tooltip\": {\"content\": \"data\"}}, \"autosize\": {\"type\": \"fit\"}, \"encoding\": {\"color\": {\"type\": \"nominal\", \"field\": \"\", \"scale\": {\"type\": \"linear\", \"zero\": false}, \"sort\": null}, \"x\": {\"type\": \"quantitative\", \"field\": \"Height\", \"scale\": {\"type\": \"linear\", \"zero\": false}, \"sort\": null}, \"y\": {\"type\": \"quantitative\", \"field\": \"Width\", \"scale\": {\"type\": \"linear\", \"zero\": false}, \"sort\": null}}, \"height\": 300, \"width\": \"container\", \"$schema\": \"https://vega.github.io/schema/vega-lite/v4.json\", \"datasets\": {\"data-c87d4bbb7caca88498395d2fa5913244\": [{\"Species\": \"Bream\", \"Weight\": 242.0, \"Length1\": 23.2, \"Length2\": 25.4, \"Length3\": 30.0, \"Height\": 11.52, \"Width\": 4.02}, {\"Species\": \"Bream\", \"Weight\": 290.0, \"Length1\": 24.0, \"Length2\": 26.3, \"Length3\": 31.2, \"Height\": 12.48, \"Width\": 4.3056}, {\"Species\": \"Bream\", \"Weight\": 340.0, \"Length1\": 23.9, \"Length2\": 26.5, \"Length3\": 31.1, \"Height\": 12.3778, \"Width\": 4.6961}, {\"Species\": \"Bream\", \"Weight\": 363.0, \"Length1\": 26.3, \"Length2\": 29.0, \"Length3\": 33.5, \"Height\": 12.73, \"Width\": 4.4555}, {\"Species\": \"Bream\", \"Weight\": 430.0, \"Length1\": 26.5, \"Length2\": 29.0, \"Length3\": 34.0, \"Height\": 12.444, \"Width\": 5.134}, {\"Species\": \"Bream\", \"Weight\": 450.0, \"Length1\": 26.8, \"Length2\": 29.7, \"Length3\": 34.7, \"Height\": 13.6024, \"Width\": 4.9274}, {\"Species\": \"Bream\", \"Weight\": 500.0, \"Length1\": 26.8, \"Length2\": 29.7, \"Length3\": 34.5, \"Height\": 14.1795, \"Width\": 5.2785}, {\"Species\": \"Bream\", \"Weight\": 390.0, \"Length1\": 27.6, \"Length2\": 30.0, \"Length3\": 35.0, \"Height\": 12.67, \"Width\": 4.69}, {\"Species\": \"Bream\", \"Weight\": 450.0, \"Length1\": 27.6, \"Length2\": 30.0, \"Length3\": 35.1, \"Height\": 14.0049, \"Width\": 4.8438}, {\"Species\": \"Bream\", \"Weight\": 500.0, \"Length1\": 28.5, \"Length2\": 30.7, \"Length3\": 36.2, \"Height\": 14.2266, \"Width\": 4.9594}, {\"Species\": \"Bream\", \"Weight\": 475.0, \"Length1\": 28.4, \"Length2\": 31.0, \"Length3\": 36.2, \"Height\": 14.2628, \"Width\": 5.1042}, {\"Species\": \"Bream\", \"Weight\": 500.0, \"Length1\": 28.7, \"Length2\": 31.0, \"Length3\": 36.2, \"Height\": 14.3714, \"Width\": 4.8146}, {\"Species\": \"Bream\", \"Weight\": 500.0, \"Length1\": 29.1, \"Length2\": 31.5, \"Length3\": 36.4, \"Height\": 13.7592, \"Width\": 4.368}, {\"Species\": \"Bream\", \"Weight\": 340.0, \"Length1\": 29.5, \"Length2\": 32.0, \"Length3\": 37.3, \"Height\": 13.9129, \"Width\": 5.0728}, {\"Species\": \"Bream\", \"Weight\": 600.0, \"Length1\": 29.4, \"Length2\": 32.0, \"Length3\": 37.2, \"Height\": 14.9544, \"Width\": 5.1708}, {\"Species\": \"Bream\", \"Weight\": 600.0, \"Length1\": 29.4, \"Length2\": 32.0, \"Length3\": 37.2, \"Height\": 15.438, \"Width\": 5.58}, {\"Species\": \"Bream\", \"Weight\": 700.0, \"Length1\": 30.4, \"Length2\": 33.0, \"Length3\": 38.3, \"Height\": 14.8604, \"Width\": 5.2854}, {\"Species\": \"Bream\", \"Weight\": 700.0, \"Length1\": 30.4, \"Length2\": 33.0, \"Length3\": 38.5, \"Height\": 14.938, \"Width\": 5.1975}, {\"Species\": \"Bream\", \"Weight\": 610.0, \"Length1\": 30.9, \"Length2\": 33.5, \"Length3\": 38.6, \"Height\": 15.633, \"Width\": 5.1338}, {\"Species\": \"Bream\", \"Weight\": 650.0, \"Length1\": 31.0, \"Length2\": 33.5, \"Length3\": 38.7, \"Height\": 14.4738, \"Width\": 5.7276}, {\"Species\": \"Bream\", \"Weight\": 575.0, \"Length1\": 31.3, \"Length2\": 34.0, \"Length3\": 39.5, \"Height\": 15.1285, \"Width\": 5.5695}, {\"Species\": \"Bream\", \"Weight\": 685.0, \"Length1\": 31.4, \"Length2\": 34.0, \"Length3\": 39.2, \"Height\": 15.9936, \"Width\": 5.3704}, {\"Species\": \"Bream\", \"Weight\": 620.0, \"Length1\": 31.5, \"Length2\": 34.5, \"Length3\": 39.7, \"Height\": 15.5227, \"Width\": 5.2801}, {\"Species\": \"Bream\", \"Weight\": 680.0, \"Length1\": 31.8, \"Length2\": 35.0, \"Length3\": 40.6, \"Height\": 15.4686, \"Width\": 6.1306}, {\"Species\": \"Bream\", \"Weight\": 700.0, \"Length1\": 31.9, \"Length2\": 35.0, \"Length3\": 40.5, \"Height\": 16.2405, \"Width\": 5.589}, {\"Species\": \"Bream\", \"Weight\": 725.0, \"Length1\": 31.8, \"Length2\": 35.0, \"Length3\": 40.9, \"Height\": 16.36, \"Width\": 6.0532}, {\"Species\": \"Bream\", \"Weight\": 720.0, \"Length1\": 32.0, \"Length2\": 35.0, \"Length3\": 40.6, \"Height\": 16.3618, \"Width\": 6.09}, {\"Species\": \"Bream\", \"Weight\": 714.0, \"Length1\": 32.7, \"Length2\": 36.0, \"Length3\": 41.5, \"Height\": 16.517, \"Width\": 5.8515}, {\"Species\": \"Bream\", \"Weight\": 850.0, \"Length1\": 32.8, \"Length2\": 36.0, \"Length3\": 41.6, \"Height\": 16.8896, \"Width\": 6.1984}, {\"Species\": \"Bream\", \"Weight\": 1000.0, \"Length1\": 33.5, \"Length2\": 37.0, \"Length3\": 42.6, \"Height\": 18.957, \"Width\": 6.603}, {\"Species\": \"Bream\", \"Weight\": 920.0, \"Length1\": 35.0, \"Length2\": 38.5, \"Length3\": 44.1, \"Height\": 18.0369, \"Width\": 6.3063}, {\"Species\": \"Bream\", \"Weight\": 955.0, \"Length1\": 35.0, \"Length2\": 38.5, \"Length3\": 44.0, \"Height\": 18.084, \"Width\": 6.292}, {\"Species\": \"Bream\", \"Weight\": 925.0, \"Length1\": 36.2, \"Length2\": 39.5, \"Length3\": 45.3, \"Height\": 18.7542, \"Width\": 6.7497}, {\"Species\": \"Bream\", \"Weight\": 975.0, \"Length1\": 37.4, \"Length2\": 41.0, \"Length3\": 45.9, \"Height\": 18.6354, \"Width\": 6.7473}, {\"Species\": \"Bream\", \"Weight\": 950.0, \"Length1\": 38.0, \"Length2\": 41.0, \"Length3\": 46.5, \"Height\": 17.6235, \"Width\": 6.3705}, {\"Species\": \"Roach\", \"Weight\": 40.0, \"Length1\": 12.9, \"Length2\": 14.1, \"Length3\": 16.2, \"Height\": 4.1472, \"Width\": 2.268}, {\"Species\": \"Roach\", \"Weight\": 69.0, \"Length1\": 16.5, \"Length2\": 18.2, \"Length3\": 20.3, \"Height\": 5.2983, \"Width\": 2.8217}, {\"Species\": \"Roach\", \"Weight\": 78.0, \"Length1\": 17.5, \"Length2\": 18.8, \"Length3\": 21.2, \"Height\": 5.5756, \"Width\": 2.9044}, {\"Species\": \"Roach\", \"Weight\": 87.0, \"Length1\": 18.2, \"Length2\": 19.8, \"Length3\": 22.2, \"Height\": 5.6166, \"Width\": 3.1746}, {\"Species\": \"Roach\", \"Weight\": 120.0, \"Length1\": 18.6, \"Length2\": 20.0, \"Length3\": 22.2, \"Height\": 6.216, \"Width\": 3.5742}, {\"Species\": \"Roach\", \"Weight\": 0.0, \"Length1\": 19.0, \"Length2\": 20.5, \"Length3\": 22.8, \"Height\": 6.4752, \"Width\": 3.3516}, {\"Species\": \"Roach\", \"Weight\": 110.0, \"Length1\": 19.1, \"Length2\": 20.8, \"Length3\": 23.1, \"Height\": 6.1677, \"Width\": 3.3957}, {\"Species\": \"Roach\", \"Weight\": 120.0, \"Length1\": 19.4, \"Length2\": 21.0, \"Length3\": 23.7, \"Height\": 6.1146, \"Width\": 3.2943}, {\"Species\": \"Roach\", \"Weight\": 150.0, \"Length1\": 20.4, \"Length2\": 22.0, \"Length3\": 24.7, \"Height\": 5.8045, \"Width\": 3.7544}, {\"Species\": \"Roach\", \"Weight\": 145.0, \"Length1\": 20.5, \"Length2\": 22.0, \"Length3\": 24.3, \"Height\": 6.6339, \"Width\": 3.5478}, {\"Species\": \"Roach\", \"Weight\": 160.0, \"Length1\": 20.5, \"Length2\": 22.5, \"Length3\": 25.3, \"Height\": 7.0334, \"Width\": 3.8203}, {\"Species\": \"Roach\", \"Weight\": 140.0, \"Length1\": 21.0, \"Length2\": 22.5, \"Length3\": 25.0, \"Height\": 6.55, \"Width\": 3.325}, {\"Species\": \"Roach\", \"Weight\": 160.0, \"Length1\": 21.1, \"Length2\": 22.5, \"Length3\": 25.0, \"Height\": 6.4, \"Width\": 3.8}, {\"Species\": \"Roach\", \"Weight\": 169.0, \"Length1\": 22.0, \"Length2\": 24.0, \"Length3\": 27.2, \"Height\": 7.5344, \"Width\": 3.8352}, {\"Species\": \"Roach\", \"Weight\": 161.0, \"Length1\": 22.0, \"Length2\": 23.4, \"Length3\": 26.7, \"Height\": 6.9153, \"Width\": 3.6312}, {\"Species\": \"Roach\", \"Weight\": 200.0, \"Length1\": 22.1, \"Length2\": 23.5, \"Length3\": 26.8, \"Height\": 7.3968, \"Width\": 4.1272}, {\"Species\": \"Roach\", \"Weight\": 180.0, \"Length1\": 23.6, \"Length2\": 25.2, \"Length3\": 27.9, \"Height\": 7.0866, \"Width\": 3.906}, {\"Species\": \"Roach\", \"Weight\": 290.0, \"Length1\": 24.0, \"Length2\": 26.0, \"Length3\": 29.2, \"Height\": 8.8768, \"Width\": 4.4968}, {\"Species\": \"Roach\", \"Weight\": 272.0, \"Length1\": 25.0, \"Length2\": 27.0, \"Length3\": 30.6, \"Height\": 8.568, \"Width\": 4.7736}, {\"Species\": \"Roach\", \"Weight\": 390.0, \"Length1\": 29.5, \"Length2\": 31.7, \"Length3\": 35.0, \"Height\": 9.485, \"Width\": 5.355}, {\"Species\": \"Whitefish\", \"Weight\": 270.0, \"Length1\": 23.6, \"Length2\": 26.0, \"Length3\": 28.7, \"Height\": 8.3804, \"Width\": 4.2476}, {\"Species\": \"Whitefish\", \"Weight\": 270.0, \"Length1\": 24.1, \"Length2\": 26.5, \"Length3\": 29.3, \"Height\": 8.1454, \"Width\": 4.2485}, {\"Species\": \"Whitefish\", \"Weight\": 306.0, \"Length1\": 25.6, \"Length2\": 28.0, \"Length3\": 30.8, \"Height\": 8.778, \"Width\": 4.6816}, {\"Species\": \"Whitefish\", \"Weight\": 540.0, \"Length1\": 28.5, \"Length2\": 31.0, \"Length3\": 34.0, \"Height\": 10.744, \"Width\": 6.562}, {\"Species\": \"Whitefish\", \"Weight\": 800.0, \"Length1\": 33.7, \"Length2\": 36.4, \"Length3\": 39.6, \"Height\": 11.7612, \"Width\": 6.5736}, {\"Species\": \"Whitefish\", \"Weight\": 1000.0, \"Length1\": 37.3, \"Length2\": 40.0, \"Length3\": 43.5, \"Height\": 12.354, \"Width\": 6.525}, {\"Species\": \"Parkki\", \"Weight\": 55.0, \"Length1\": 13.5, \"Length2\": 14.7, \"Length3\": 16.5, \"Height\": 6.8475, \"Width\": 2.3265}, {\"Species\": \"Parkki\", \"Weight\": 60.0, \"Length1\": 14.3, \"Length2\": 15.5, \"Length3\": 17.4, \"Height\": 6.5772, \"Width\": 2.3142}, {\"Species\": \"Parkki\", \"Weight\": 90.0, \"Length1\": 16.3, \"Length2\": 17.7, \"Length3\": 19.8, \"Height\": 7.4052, \"Width\": 2.673}, {\"Species\": \"Parkki\", \"Weight\": 120.0, \"Length1\": 17.5, \"Length2\": 19.0, \"Length3\": 21.3, \"Height\": 8.3922, \"Width\": 2.9181}, {\"Species\": \"Parkki\", \"Weight\": 150.0, \"Length1\": 18.4, \"Length2\": 20.0, \"Length3\": 22.4, \"Height\": 8.8928, \"Width\": 3.2928}, {\"Species\": \"Parkki\", \"Weight\": 140.0, \"Length1\": 19.0, \"Length2\": 20.7, \"Length3\": 23.2, \"Height\": 8.5376, \"Width\": 3.2944}, {\"Species\": \"Parkki\", \"Weight\": 170.0, \"Length1\": 19.0, \"Length2\": 20.7, \"Length3\": 23.2, \"Height\": 9.396, \"Width\": 3.4104}, {\"Species\": \"Parkki\", \"Weight\": 145.0, \"Length1\": 19.8, \"Length2\": 21.5, \"Length3\": 24.1, \"Height\": 9.7364, \"Width\": 3.1571}, {\"Species\": \"Parkki\", \"Weight\": 200.0, \"Length1\": 21.2, \"Length2\": 23.0, \"Length3\": 25.8, \"Height\": 10.3458, \"Width\": 3.6636}, {\"Species\": \"Parkki\", \"Weight\": 273.0, \"Length1\": 23.0, \"Length2\": 25.0, \"Length3\": 28.0, \"Height\": 11.088, \"Width\": 4.144}, {\"Species\": \"Parkki\", \"Weight\": 300.0, \"Length1\": 24.0, \"Length2\": 26.0, \"Length3\": 29.0, \"Height\": 11.368, \"Width\": 4.234}, {\"Species\": \"Perch\", \"Weight\": 5.9, \"Length1\": 7.5, \"Length2\": 8.4, \"Length3\": 8.8, \"Height\": 2.112, \"Width\": 1.408}, {\"Species\": \"Perch\", \"Weight\": 32.0, \"Length1\": 12.5, \"Length2\": 13.7, \"Length3\": 14.7, \"Height\": 3.528, \"Width\": 1.9992}, {\"Species\": \"Perch\", \"Weight\": 40.0, \"Length1\": 13.8, \"Length2\": 15.0, \"Length3\": 16.0, \"Height\": 3.824, \"Width\": 2.432}, {\"Species\": \"Perch\", \"Weight\": 51.5, \"Length1\": 15.0, \"Length2\": 16.2, \"Length3\": 17.2, \"Height\": 4.5924, \"Width\": 2.6316}, {\"Species\": \"Perch\", \"Weight\": 70.0, \"Length1\": 15.7, \"Length2\": 17.4, \"Length3\": 18.5, \"Height\": 4.588, \"Width\": 2.9415}, {\"Species\": \"Perch\", \"Weight\": 100.0, \"Length1\": 16.2, \"Length2\": 18.0, \"Length3\": 19.2, \"Height\": 5.2224, \"Width\": 3.3216}, {\"Species\": \"Perch\", \"Weight\": 78.0, \"Length1\": 16.8, \"Length2\": 18.7, \"Length3\": 19.4, \"Height\": 5.1992, \"Width\": 3.1234}, {\"Species\": \"Perch\", \"Weight\": 80.0, \"Length1\": 17.2, \"Length2\": 19.0, \"Length3\": 20.2, \"Height\": 5.6358, \"Width\": 3.0502}, {\"Species\": \"Perch\", \"Weight\": 85.0, \"Length1\": 17.8, \"Length2\": 19.6, \"Length3\": 20.8, \"Height\": 5.1376, \"Width\": 3.0368}, {\"Species\": \"Perch\", \"Weight\": 85.0, \"Length1\": 18.2, \"Length2\": 20.0, \"Length3\": 21.0, \"Height\": 5.082, \"Width\": 2.772}, {\"Species\": \"Perch\", \"Weight\": 110.0, \"Length1\": 19.0, \"Length2\": 21.0, \"Length3\": 22.5, \"Height\": 5.6925, \"Width\": 3.555}, {\"Species\": \"Perch\", \"Weight\": 115.0, \"Length1\": 19.0, \"Length2\": 21.0, \"Length3\": 22.5, \"Height\": 5.9175, \"Width\": 3.3075}, {\"Species\": \"Perch\", \"Weight\": 125.0, \"Length1\": 19.0, \"Length2\": 21.0, \"Length3\": 22.5, \"Height\": 5.6925, \"Width\": 3.6675}, {\"Species\": \"Perch\", \"Weight\": 130.0, \"Length1\": 19.3, \"Length2\": 21.3, \"Length3\": 22.8, \"Height\": 6.384, \"Width\": 3.534}, {\"Species\": \"Perch\", \"Weight\": 120.0, \"Length1\": 20.0, \"Length2\": 22.0, \"Length3\": 23.5, \"Height\": 6.11, \"Width\": 3.4075}, {\"Species\": \"Perch\", \"Weight\": 120.0, \"Length1\": 20.0, \"Length2\": 22.0, \"Length3\": 23.5, \"Height\": 5.64, \"Width\": 3.525}, {\"Species\": \"Perch\", \"Weight\": 130.0, \"Length1\": 20.0, \"Length2\": 22.0, \"Length3\": 23.5, \"Height\": 6.11, \"Width\": 3.525}, {\"Species\": \"Perch\", \"Weight\": 135.0, \"Length1\": 20.0, \"Length2\": 22.0, \"Length3\": 23.5, \"Height\": 5.875, \"Width\": 3.525}, {\"Species\": \"Perch\", \"Weight\": 110.0, \"Length1\": 20.0, \"Length2\": 22.0, \"Length3\": 23.5, \"Height\": 5.5225, \"Width\": 3.995}, {\"Species\": \"Perch\", \"Weight\": 130.0, \"Length1\": 20.5, \"Length2\": 22.5, \"Length3\": 24.0, \"Height\": 5.856, \"Width\": 3.624}, {\"Species\": \"Perch\", \"Weight\": 150.0, \"Length1\": 20.5, \"Length2\": 22.5, \"Length3\": 24.0, \"Height\": 6.792, \"Width\": 3.624}, {\"Species\": \"Perch\", \"Weight\": 145.0, \"Length1\": 20.7, \"Length2\": 22.7, \"Length3\": 24.2, \"Height\": 5.9532, \"Width\": 3.63}, {\"Species\": \"Perch\", \"Weight\": 150.0, \"Length1\": 21.0, \"Length2\": 23.0, \"Length3\": 24.5, \"Height\": 5.2185, \"Width\": 3.626}, {\"Species\": \"Perch\", \"Weight\": 170.0, \"Length1\": 21.5, \"Length2\": 23.5, \"Length3\": 25.0, \"Height\": 6.275, \"Width\": 3.725}, {\"Species\": \"Perch\", \"Weight\": 225.0, \"Length1\": 22.0, \"Length2\": 24.0, \"Length3\": 25.5, \"Height\": 7.293, \"Width\": 3.723}, {\"Species\": \"Perch\", \"Weight\": 145.0, \"Length1\": 22.0, \"Length2\": 24.0, \"Length3\": 25.5, \"Height\": 6.375, \"Width\": 3.825}, {\"Species\": \"Perch\", \"Weight\": 188.0, \"Length1\": 22.6, \"Length2\": 24.6, \"Length3\": 26.2, \"Height\": 6.7334, \"Width\": 4.1658}, {\"Species\": \"Perch\", \"Weight\": 180.0, \"Length1\": 23.0, \"Length2\": 25.0, \"Length3\": 26.5, \"Height\": 6.4395, \"Width\": 3.6835}, {\"Species\": \"Perch\", \"Weight\": 197.0, \"Length1\": 23.5, \"Length2\": 25.6, \"Length3\": 27.0, \"Height\": 6.561, \"Width\": 4.239}, {\"Species\": \"Perch\", \"Weight\": 218.0, \"Length1\": 25.0, \"Length2\": 26.5, \"Length3\": 28.0, \"Height\": 7.168, \"Width\": 4.144}, {\"Species\": \"Perch\", \"Weight\": 300.0, \"Length1\": 25.2, \"Length2\": 27.3, \"Length3\": 28.7, \"Height\": 8.323, \"Width\": 5.1373}, {\"Species\": \"Perch\", \"Weight\": 260.0, \"Length1\": 25.4, \"Length2\": 27.5, \"Length3\": 28.9, \"Height\": 7.1672, \"Width\": 4.335}, {\"Species\": \"Perch\", \"Weight\": 265.0, \"Length1\": 25.4, \"Length2\": 27.5, \"Length3\": 28.9, \"Height\": 7.0516, \"Width\": 4.335}, {\"Species\": \"Perch\", \"Weight\": 250.0, \"Length1\": 25.4, \"Length2\": 27.5, \"Length3\": 28.9, \"Height\": 7.2828, \"Width\": 4.5662}, {\"Species\": \"Perch\", \"Weight\": 250.0, \"Length1\": 25.9, \"Length2\": 28.0, \"Length3\": 29.4, \"Height\": 7.8204, \"Width\": 4.2042}, {\"Species\": \"Perch\", \"Weight\": 300.0, \"Length1\": 26.9, \"Length2\": 28.7, \"Length3\": 30.1, \"Height\": 7.5852, \"Width\": 4.6354}, {\"Species\": \"Perch\", \"Weight\": 320.0, \"Length1\": 27.8, \"Length2\": 30.0, \"Length3\": 31.6, \"Height\": 7.6156, \"Width\": 4.7716}, {\"Species\": \"Perch\", \"Weight\": 514.0, \"Length1\": 30.5, \"Length2\": 32.8, \"Length3\": 34.0, \"Height\": 10.03, \"Width\": 6.018}, {\"Species\": \"Perch\", \"Weight\": 556.0, \"Length1\": 32.0, \"Length2\": 34.5, \"Length3\": 36.5, \"Height\": 10.2565, \"Width\": 6.3875}, {\"Species\": \"Perch\", \"Weight\": 840.0, \"Length1\": 32.5, \"Length2\": 35.0, \"Length3\": 37.3, \"Height\": 11.4884, \"Width\": 7.7957}, {\"Species\": \"Perch\", \"Weight\": 685.0, \"Length1\": 34.0, \"Length2\": 36.5, \"Length3\": 39.0, \"Height\": 10.881, \"Width\": 6.864}, {\"Species\": \"Perch\", \"Weight\": 700.0, \"Length1\": 34.0, \"Length2\": 36.0, \"Length3\": 38.3, \"Height\": 10.6091, \"Width\": 6.7408}, {\"Species\": \"Perch\", \"Weight\": 700.0, \"Length1\": 34.5, \"Length2\": 37.0, \"Length3\": 39.4, \"Height\": 10.835, \"Width\": 6.2646}, {\"Species\": \"Perch\", \"Weight\": 690.0, \"Length1\": 34.6, \"Length2\": 37.0, \"Length3\": 39.3, \"Height\": 10.5717, \"Width\": 6.3666}, {\"Species\": \"Perch\", \"Weight\": 900.0, \"Length1\": 36.5, \"Length2\": 39.0, \"Length3\": 41.4, \"Height\": 11.1366, \"Width\": 7.4934}, {\"Species\": \"Perch\", \"Weight\": 650.0, \"Length1\": 36.5, \"Length2\": 39.0, \"Length3\": 41.4, \"Height\": 11.1366, \"Width\": 6.003}, {\"Species\": \"Perch\", \"Weight\": 820.0, \"Length1\": 36.6, \"Length2\": 39.0, \"Length3\": 41.3, \"Height\": 12.4313, \"Width\": 7.3514}, {\"Species\": \"Perch\", \"Weight\": 850.0, \"Length1\": 36.9, \"Length2\": 40.0, \"Length3\": 42.3, \"Height\": 11.9286, \"Width\": 7.1064}, {\"Species\": \"Perch\", \"Weight\": 900.0, \"Length1\": 37.0, \"Length2\": 40.0, \"Length3\": 42.5, \"Height\": 11.73, \"Width\": 7.225}, {\"Species\": \"Perch\", \"Weight\": 1015.0, \"Length1\": 37.0, \"Length2\": 40.0, \"Length3\": 42.4, \"Height\": 12.3808, \"Width\": 7.4624}, {\"Species\": \"Perch\", \"Weight\": 820.0, \"Length1\": 37.1, \"Length2\": 40.0, \"Length3\": 42.5, \"Height\": 11.135, \"Width\": 6.63}, {\"Species\": \"Perch\", \"Weight\": 1100.0, \"Length1\": 39.0, \"Length2\": 42.0, \"Length3\": 44.6, \"Height\": 12.8002, \"Width\": 6.8684}, {\"Species\": \"Perch\", \"Weight\": 1000.0, \"Length1\": 39.8, \"Length2\": 43.0, \"Length3\": 45.2, \"Height\": 11.9328, \"Width\": 7.2772}, {\"Species\": \"Perch\", \"Weight\": 1100.0, \"Length1\": 40.1, \"Length2\": 43.0, \"Length3\": 45.5, \"Height\": 12.5125, \"Width\": 7.4165}, {\"Species\": \"Perch\", \"Weight\": 1000.0, \"Length1\": 40.2, \"Length2\": 43.5, \"Length3\": 46.0, \"Height\": 12.604, \"Width\": 8.142}, {\"Species\": \"Perch\", \"Weight\": 1000.0, \"Length1\": 41.1, \"Length2\": 44.0, \"Length3\": 46.6, \"Height\": 12.4888, \"Width\": 7.5958}, {\"Species\": \"Pike\", \"Weight\": 200.0, \"Length1\": 30.0, \"Length2\": 32.3, \"Length3\": 34.8, \"Height\": 5.568, \"Width\": 3.3756}, {\"Species\": \"Pike\", \"Weight\": 300.0, \"Length1\": 31.7, \"Length2\": 34.0, \"Length3\": 37.8, \"Height\": 5.7078, \"Width\": 4.158}, {\"Species\": \"Pike\", \"Weight\": 300.0, \"Length1\": 32.7, \"Length2\": 35.0, \"Length3\": 38.8, \"Height\": 5.9364, \"Width\": 4.3844}, {\"Species\": \"Pike\", \"Weight\": 300.0, \"Length1\": 34.8, \"Length2\": 37.3, \"Length3\": 39.8, \"Height\": 6.2884, \"Width\": 4.0198}, {\"Species\": \"Pike\", \"Weight\": 430.0, \"Length1\": 35.5, \"Length2\": 38.0, \"Length3\": 40.5, \"Height\": 7.29, \"Width\": 4.5765}, {\"Species\": \"Pike\", \"Weight\": 345.0, \"Length1\": 36.0, \"Length2\": 38.5, \"Length3\": 41.0, \"Height\": 6.396, \"Width\": 3.977}, {\"Species\": \"Pike\", \"Weight\": 456.0, \"Length1\": 40.0, \"Length2\": 42.5, \"Length3\": 45.5, \"Height\": 7.28, \"Width\": 4.3225}, {\"Species\": \"Pike\", \"Weight\": 510.0, \"Length1\": 40.0, \"Length2\": 42.5, \"Length3\": 45.5, \"Height\": 6.825, \"Width\": 4.459}, {\"Species\": \"Pike\", \"Weight\": 540.0, \"Length1\": 40.1, \"Length2\": 43.0, \"Length3\": 45.8, \"Height\": 7.786, \"Width\": 5.1296}, {\"Species\": \"Pike\", \"Weight\": 500.0, \"Length1\": 42.0, \"Length2\": 45.0, \"Length3\": 48.0, \"Height\": 6.96, \"Width\": 4.896}, {\"Species\": \"Pike\", \"Weight\": 567.0, \"Length1\": 43.2, \"Length2\": 46.0, \"Length3\": 48.7, \"Height\": 7.792, \"Width\": 4.87}, {\"Species\": \"Pike\", \"Weight\": 770.0, \"Length1\": 44.8, \"Length2\": 48.0, \"Length3\": 51.2, \"Height\": 7.68, \"Width\": 5.376}, {\"Species\": \"Pike\", \"Weight\": 950.0, \"Length1\": 48.3, \"Length2\": 51.7, \"Length3\": 55.1, \"Height\": 8.9262, \"Width\": 6.1712}, {\"Species\": \"Pike\", \"Weight\": 1250.0, \"Length1\": 52.0, \"Length2\": 56.0, \"Length3\": 59.7, \"Height\": 10.6863, \"Width\": 6.9849}, {\"Species\": \"Pike\", \"Weight\": 1600.0, \"Length1\": 56.0, \"Length2\": 60.0, \"Length3\": 64.0, \"Height\": 9.6, \"Width\": 6.144}, {\"Species\": \"Pike\", \"Weight\": 1550.0, \"Length1\": 56.0, \"Length2\": 60.0, \"Length3\": 64.0, \"Height\": 9.6, \"Width\": 6.144}, {\"Species\": \"Pike\", \"Weight\": 1650.0, \"Length1\": 59.0, \"Length2\": 63.4, \"Length3\": 68.0, \"Height\": 10.812, \"Width\": 7.48}, {\"Species\": \"Smelt\", \"Weight\": 6.7, \"Length1\": 9.3, \"Length2\": 9.8, \"Length3\": 10.8, \"Height\": 1.7388, \"Width\": 1.0476}, {\"Species\": \"Smelt\", \"Weight\": 7.5, \"Length1\": 10.0, \"Length2\": 10.5, \"Length3\": 11.6, \"Height\": 1.972, \"Width\": 1.16}, {\"Species\": \"Smelt\", \"Weight\": 7.0, \"Length1\": 10.1, \"Length2\": 10.6, \"Length3\": 11.6, \"Height\": 1.7284, \"Width\": 1.1484}, {\"Species\": \"Smelt\", \"Weight\": 9.7, \"Length1\": 10.4, \"Length2\": 11.0, \"Length3\": 12.0, \"Height\": 2.196, \"Width\": 1.38}, {\"Species\": \"Smelt\", \"Weight\": 9.8, \"Length1\": 10.7, \"Length2\": 11.2, \"Length3\": 12.4, \"Height\": 2.0832, \"Width\": 1.2772}, {\"Species\": \"Smelt\", \"Weight\": 8.7, \"Length1\": 10.8, \"Length2\": 11.3, \"Length3\": 12.6, \"Height\": 1.9782, \"Width\": 1.2852}, {\"Species\": \"Smelt\", \"Weight\": 10.0, \"Length1\": 11.3, \"Length2\": 11.8, \"Length3\": 13.1, \"Height\": 2.2139, \"Width\": 1.2838}, {\"Species\": \"Smelt\", \"Weight\": 9.9, \"Length1\": 11.3, \"Length2\": 11.8, \"Length3\": 13.1, \"Height\": 2.2139, \"Width\": 1.1659}, {\"Species\": \"Smelt\", \"Weight\": 9.8, \"Length1\": 11.4, \"Length2\": 12.0, \"Length3\": 13.2, \"Height\": 2.2044, \"Width\": 1.1484}, {\"Species\": \"Smelt\", \"Weight\": 12.2, \"Length1\": 11.5, \"Length2\": 12.2, \"Length3\": 13.4, \"Height\": 2.0904, \"Width\": 1.3936}, {\"Species\": \"Smelt\", \"Weight\": 13.4, \"Length1\": 11.7, \"Length2\": 12.4, \"Length3\": 13.5, \"Height\": 2.43, \"Width\": 1.269}, {\"Species\": \"Smelt\", \"Weight\": 12.2, \"Length1\": 12.1, \"Length2\": 13.0, \"Length3\": 13.8, \"Height\": 2.277, \"Width\": 1.2558}, {\"Species\": \"Smelt\", \"Weight\": 19.7, \"Length1\": 13.2, \"Length2\": 14.3, \"Length3\": 15.2, \"Height\": 2.8728, \"Width\": 2.0672}, {\"Species\": \"Smelt\", \"Weight\": 19.9, \"Length1\": 13.8, \"Length2\": 15.0, \"Length3\": 16.2, \"Height\": 2.9322, \"Width\": 1.8792}]}}, {\"actions\": false, \"mode\": \"vega-lite\"});\n</script>",
      "text/plain": "alt.Chart(...)"
     },
     "metadata": {}
    }
   ]
  },
  {
   "cell_type": "code",
   "metadata": {
    "tags": [],
    "cell_id": "00002-2e981054-160f-4828-ab59-bc6aaf0172da",
    "deepnote_to_be_reexecuted": false,
    "source_hash": "f3cff339",
    "execution_start": 1628181268392,
    "execution_millis": 3,
    "deepnote_cell_type": "code"
   },
   "source": "a = np.array(df['Length1'])",
   "execution_count": 4,
   "outputs": []
  },
  {
   "cell_type": "code",
   "metadata": {
    "tags": [],
    "cell_id": "00003-300eac56-8cda-4210-bca6-c9897d5542c2",
    "deepnote_to_be_reexecuted": false,
    "source_hash": "fbdac4c8",
    "execution_start": 1628181269125,
    "execution_millis": 4,
    "deepnote_cell_type": "code"
   },
   "source": "b = np.array(df['Weight'])",
   "execution_count": 5,
   "outputs": []
  },
  {
   "cell_type": "code",
   "metadata": {
    "tags": [],
    "cell_id": "00004-8d485b8c-6746-4337-88e8-251b1a13c4b8",
    "deepnote_to_be_reexecuted": false,
    "source_hash": "f77a3f3c",
    "execution_start": 1628181271277,
    "execution_millis": 187,
    "deepnote_cell_type": "code"
   },
   "source": "plt.scatter(a, b)",
   "execution_count": 6,
   "outputs": [
    {
     "output_type": "execute_result",
     "execution_count": 6,
     "data": {
      "text/plain": "<matplotlib.collections.PathCollection at 0x7f6bceefcf90>"
     },
     "metadata": {}
    },
    {
     "data": {
      "text/plain": "<Figure size 432x288 with 1 Axes>",
      "image/png": "[encoded data removed]"
     },
     "metadata": {
      "needs_background": "light",
      "image/png": {
       "width": 381,
       "height": 248
      }
     },
     "output_type": "display_data"
    }
   ]
  },
  {
   "cell_type": "code",
   "metadata": {
    "tags": [],
    "cell_id": "00005-87d56a90-d8e1-4744-bdd4-64b55d77f2f5",
    "deepnote_to_be_reexecuted": false,
    "source_hash": "51a8bee0",
    "execution_start": 1628186982148,
    "execution_millis": 2,
    "deepnote_cell_type": "code"
   },
   "source": "class LinearModel:\n\n    def __init__(self, A, B, alpha, iterations):\n        self.a = A\n        self.b = B\n        self.alpha = alpha\n        self.iterations = iterations\n        self.m = 1\n        self.c = 2\n        self.n = 2\n        self.max_precision = 0.0000001\n\n    def hypo(self, x):\n        return self.m*(x**2) + self.c*(x) + self.n\n\n    def gradient_descent(self):\n        for i in range(self.iterations):\n            self.m = self.m - self.alpha*sum([(self.hypo(x) - self.b[i])*(x**2) for i, x in enumerate(self.a) ])\n            self.c = self.c - self.alpha*sum([(self.hypo(x) - self.b[i])*x for i, x in enumerate(self.a)])\n            self.n = self.n - self.alpha*sum([(self.hypo(x) - self.b[i]) for i, x in enumerate(self.a)])\n\n        return self.m,self.c, self.n\n\n    def graph(self):\n        plt.scatter(self.a, self.b)\n        plt.scatter(self.a, [self.hypo(x) for x in self.a], s=5)\n",
   "execution_count": 47,
   "outputs": []
  },
  {
   "cell_type": "code",
   "source": "model = LinearModel(A=a, B=b, alpha=0.00000001, iterations=1980)\nmodel.gradient_descent()\nprint(model.hypo(23.2))\nmodel.graph()",
   "metadata": {
    "tags": [],
    "cell_id": "00007-7b4f033d-9379-4c8b-816d-6149f90dcbe8",
    "deepnote_to_be_reexecuted": false,
    "source_hash": "156572ca",
    "execution_start": 1628187283757,
    "execution_millis": 1759,
    "deepnote_cell_type": "code"
   },
   "outputs": [
    {
     "name": "stdout",
     "text": "293.2395917309529\n",
     "output_type": "stream"
    },
    {
     "data": {
      "text/plain": "<Figure size 432x288 with 1 Axes>",
      "image/png": "[encoded data removed]"
     },
     "metadata": {
      "needs_background": "light",
      "image/png": {
       "width": 381,
       "height": 248
      }
     },
     "output_type": "display_data"
    }
   ],
   "execution_count": 78
  },
  {
   "cell_type": "code",
   "source": "",
   "metadata": {
    "tags": [],
    "cell_id": "00008-390936f4-4c1a-480e-bf7b-0bb5553f95ff",
    "deepnote_cell_type": "code"
   },
   "outputs": [],
   "execution_count": null
  },
  {
   "cell_type": "markdown",
   "source": "<a style='text-decoration:none;line-height:16px;display:flex;color:#5B5B62;padding:10px;justify-content:end;' href='https://deepnote.com?utm_source=created-in-deepnote-cell&projectId=2dbcb801-fb82-4f2b-8798-d33fa058dd8d' target=\"_blank\">\n<img alt='Created in deepnote.com' style='display:inline;max-height:16px;margin:0px;margin-right:7.5px;' src='data:image/svg+xml;base64,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' > </img>\nCreated in <span style='font-weight:600;margin-left:4px;'>Deepnote</span></a>",
   "metadata": {
    "tags": [],
    "created_in_deepnote_cell": true,
    "deepnote_cell_type": "markdown"
   }
  }
 ],
 "nbformat": 4,
 "nbformat_minor": 2,
 "metadata": {
  "orig_nbformat": 2,
  "deepnote": {
   "is_reactive": false
  },
  "deepnote_notebook_id": "651881be-181c-4426-b7bb-22d0fc27f948",
  "deepnote_execution_queue": []
 }
}