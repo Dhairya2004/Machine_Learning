{
 "cells": [
  {
   "cell_type": "code",
   "metadata": {
    "tags": [],
    "cell_id": "00000-cfdaa110-3f4b-4c2f-806e-37b5e66531c7",
    "deepnote_to_be_reexecuted": false,
    "source_hash": "52c8d703",
    "execution_start": 1630902173400,
    "execution_millis": 1233,
    "deepnote_cell_type": "code"
   },
   "source": "import matplotlib.pyplot as plt\nimport numpy as np\nimport pandas",
   "execution_count": 1,
   "outputs": []
  },
  {
   "cell_type": "code",
   "metadata": {
    "tags": [],
    "cell_id": "00001-49a8f4bd-4ad2-4b76-b9ec-4ca88ba8ee54",
    "deepnote_to_be_reexecuted": false,
    "source_hash": "e38aa21e",
    "execution_start": 1630902174643,
    "execution_millis": 300,
    "deepnote_cell_type": "code"
   },
   "source": "df = pandas.read_csv('eng.csv')\ndf",
   "execution_count": 2,
   "outputs": [
    {
     "output_type": "execute_result",
     "execution_count": 2,
     "data": {
      "application/vnd.deepnote.dataframe.v2+json": {
       "row_count": 2998,
       "column_count": 34,
       "columns": [
        {
         "name": "ID",
         "dtype": "int64",
         "stats": {
          "unique_count": 2998,
          "nan_count": 0,
          "min": "11244",
          "max": "1297877",
          "histogram": [
           {
            "bin_start": 11244,
            "bin_end": 139907.3,
            "count": 227
           },
           {
            "bin_start": 139907.3,
            "bin_end": 268570.6,
            "count": 246
           },
           {
            "bin_start": 268570.6,
            "bin_end": 397233.9,
            "count": 500
           },
           {
            "bin_start": 397233.9,
            "bin_end": 525897.2,
            "count": 204
           },
           {
            "bin_start": 525897.2,
            "bin_end": 654560.5,
            "count": 381
           },
           {
            "bin_start": 654560.5,
            "bin_end": 783223.8,
            "count": 187
           },
           {
            "bin_start": 783223.8,
            "bin_end": 911887.1,
            "count": 308
           },
           {
            "bin_start": 911887.1,
            "bin_end": 1040550.4,
            "count": 277
           },
           {
            "bin_start": 1040550.4,
            "bin_end": 1169213.7,
            "count": 360
           },
           {
            "bin_start": 1169213.7,
            "bin_end": 1297877,
            "count": 308
           }
          ]
         }
        },
        {
         "name": "Gender",
         "dtype": "object",
         "stats": {
          "unique_count": 2,
          "nan_count": 0,
          "categories": [
           {
            "name": "m",
            "count": 2282
           },
           {
            "name": "f",
            "count": 716
           }
          ]
         }
        },
        {
         "name": "DOB",
         "dtype": "object",
         "stats": {
          "unique_count": 1633,
          "nan_count": 0,
          "categories": [
           {
            "name": "1991-07-03",
            "count": 7
           },
           {
            "name": "1990-10-07",
            "count": 6
           },
           {
            "name": "1631 others",
            "count": 2985
           }
          ]
         }
        },
        {
         "name": "10percentage",
         "dtype": "float64",
         "stats": {
          "unique_count": 736,
          "nan_count": 0,
          "min": "43.0",
          "max": "97.76",
          "histogram": [
           {
            "bin_start": 43,
            "bin_end": 48.476,
            "count": 11
           },
           {
            "bin_start": 48.476,
            "bin_end": 53.952,
            "count": 40
           },
           {
            "bin_start": 53.952,
            "bin_end": 59.428000000000004,
            "count": 111
           },
           {
            "bin_start": 59.428000000000004,
            "bin_end": 64.904,
            "count": 182
           },
           {
            "bin_start": 64.904,
            "bin_end": 70.38,
            "count": 349
           },
           {
            "bin_start": 70.38,
            "bin_end": 75.85600000000001,
            "count": 473
           },
           {
            "bin_start": 75.85600000000001,
            "bin_end": 81.33200000000001,
            "count": 616
           },
           {
            "bin_start": 81.33200000000001,
            "bin_end": 86.808,
            "count": 616
           },
           {
            "bin_start": 86.808,
            "bin_end": 92.284,
            "count": 491
           },
           {
            "bin_start": 92.284,
            "bin_end": 97.76,
            "count": 109
           }
          ]
         }
        },
        {
         "name": "10board",
         "dtype": "object",
         "stats": {
          "unique_count": 221,
          "nan_count": 0,
          "categories": [
           {
            "name": "cbse",
            "count": 1026
           },
           {
            "name": "state board",
            "count": 881
           },
           {
            "name": "219 others",
            "count": 1091
           }
          ]
         }
        },
        {
         "name": "12graduation",
         "dtype": "int64",
         "stats": {
          "unique_count": 13,
          "nan_count": 0,
          "min": "1998",
          "max": "2012",
          "histogram": [
           {
            "bin_start": 1998,
            "bin_end": 1999.4,
            "count": 1
           },
           {
            "bin_start": 1999.4,
            "bin_end": 2000.8,
            "count": 0
           },
           {
            "bin_start": 2000.8,
            "bin_end": 2002.2,
            "count": 11
           },
           {
            "bin_start": 2002.2,
            "bin_end": 2003.6,
            "count": 17
           },
           {
            "bin_start": 2003.6,
            "bin_end": 2005,
            "count": 54
           },
           {
            "bin_start": 2005,
            "bin_end": 2006.4,
            "count": 438
           },
           {
            "bin_start": 2006.4,
            "bin_end": 2007.8,
            "count": 394
           },
           {
            "bin_start": 2007.8,
            "bin_end": 2009.2,
            "count": 1495
           },
           {
            "bin_start": 2009.2,
            "bin_end": 2010.6,
            "count": 548
           },
           {
            "bin_start": 2010.6,
            "bin_end": 2012,
            "count": 40
           }
          ]
         }
        },
        {
         "name": "12percentage",
         "dtype": "float64",
         "stats": {
          "unique_count": 717,
          "nan_count": 0,
          "min": "40.0",
          "max": "98.7",
          "histogram": [
           {
            "bin_start": 40,
            "bin_end": 45.87,
            "count": 7
           },
           {
            "bin_start": 45.87,
            "bin_end": 51.74,
            "count": 43
           },
           {
            "bin_start": 51.74,
            "bin_end": 57.61,
            "count": 128
           },
           {
            "bin_start": 57.61,
            "bin_end": 63.480000000000004,
            "count": 361
           },
           {
            "bin_start": 63.480000000000004,
            "bin_end": 69.35,
            "count": 514
           },
           {
            "bin_start": 69.35,
            "bin_end": 75.22,
            "count": 574
           },
           {
            "bin_start": 75.22,
            "bin_end": 81.09,
            "count": 498
           },
           {
            "bin_start": 81.09,
            "bin_end": 86.96000000000001,
            "count": 406
           },
           {
            "bin_start": 86.96000000000001,
            "bin_end": 92.83,
            "count": 313
           },
           {
            "bin_start": 92.83,
            "bin_end": 98.7,
            "count": 154
           }
          ]
         }
        },
        {
         "name": "12board",
         "dtype": "object",
         "stats": {
          "unique_count": 277,
          "nan_count": 0,
          "categories": [
           {
            "name": "cbse",
            "count": 1039
           },
           {
            "name": "state board",
            "count": 948
           },
           {
            "name": "275 others",
            "count": 1011
           }
          ]
         }
        },
        {
         "name": "CollegeID",
         "dtype": "int64",
         "stats": {
          "unique_count": 1173,
          "nan_count": 0,
          "min": "2",
          "max": "18409",
          "histogram": [
           {
            "bin_start": 2,
            "bin_end": 1842.7,
            "count": 1102
           },
           {
            "bin_start": 1842.7,
            "bin_end": 3683.4,
            "count": 325
           },
           {
            "bin_start": 3683.4,
            "bin_end": 5524.1,
            "count": 312
           },
           {
            "bin_start": 5524.1,
            "bin_end": 7364.8,
            "count": 259
           },
           {
            "bin_start": 7364.8,
            "bin_end": 9205.5,
            "count": 332
           },
           {
            "bin_start": 9205.5,
            "bin_end": 11046.2,
            "count": 164
           },
           {
            "bin_start": 11046.2,
            "bin_end": 12886.9,
            "count": 254
           },
           {
            "bin_start": 12886.9,
            "bin_end": 14727.6,
            "count": 159
           },
           {
            "bin_start": 14727.6,
            "bin_end": 16568.3,
            "count": 63
           },
           {
            "bin_start": 16568.3,
            "bin_end": 18409,
            "count": 28
           }
          ]
         }
        },
        {
         "name": "CollegeTier",
         "dtype": "int64",
         "stats": {
          "unique_count": 2,
          "nan_count": 0,
          "min": "1",
          "max": "2",
          "histogram": [
           {
            "bin_start": 1,
            "bin_end": 1.1,
            "count": 226
           },
           {
            "bin_start": 1.1,
            "bin_end": 1.2,
            "count": 0
           },
           {
            "bin_start": 1.2,
            "bin_end": 1.3,
            "count": 0
           },
           {
            "bin_start": 1.3,
            "bin_end": 1.4,
            "count": 0
           },
           {
            "bin_start": 1.4,
            "bin_end": 1.5,
            "count": 0
           },
           {
            "bin_start": 1.5,
            "bin_end": 1.6,
            "count": 0
           },
           {
            "bin_start": 1.6,
            "bin_end": 1.7000000000000002,
            "count": 0
           },
           {
            "bin_start": 1.7000000000000002,
            "bin_end": 1.8,
            "count": 0
           },
           {
            "bin_start": 1.8,
            "bin_end": 1.9,
            "count": 0
           },
           {
            "bin_start": 1.9,
            "bin_end": 2,
            "count": 2772
           }
          ]
         }
        },
        {
         "name": "Degree",
         "dtype": "object",
         "stats": {
          "unique_count": 4,
          "nan_count": 0,
          "categories": [
           {
            "name": "B.Tech/B.E.",
            "count": 2757
           },
           {
            "name": "MCA",
            "count": 200
           },
           {
            "name": "2 others",
            "count": 41
           }
          ]
         }
        },
        {
         "name": "Specialization",
         "dtype": "object",
         "stats": {
          "unique_count": 42,
          "nan_count": 0,
          "categories": [
           {
            "name": "electronics and communication engineering",
            "count": 670
           },
           {
            "name": "computer science & engineering",
            "count": 557
           },
           {
            "name": "40 others",
            "count": 1771
           }
          ]
         }
        },
        {
         "name": "collegeGPA",
         "dtype": "float64",
         "stats": {
          "unique_count": 1064,
          "nan_count": 0,
          "min": "6.63",
          "max": "99.93",
          "histogram": [
           {
            "bin_start": 6.63,
            "bin_end": 15.96,
            "count": 9
           },
           {
            "bin_start": 15.96,
            "bin_end": 25.290000000000003,
            "count": 0
           },
           {
            "bin_start": 25.290000000000003,
            "bin_end": 34.620000000000005,
            "count": 0
           },
           {
            "bin_start": 34.620000000000005,
            "bin_end": 43.95000000000001,
            "count": 0
           },
           {
            "bin_start": 43.95000000000001,
            "bin_end": 53.28000000000001,
            "count": 11
           },
           {
            "bin_start": 53.28000000000001,
            "bin_end": 62.610000000000014,
            "count": 309
           },
           {
            "bin_start": 62.610000000000014,
            "bin_end": 71.94000000000001,
            "count": 1184
           },
           {
            "bin_start": 71.94000000000001,
            "bin_end": 81.27000000000001,
            "count": 1219
           },
           {
            "bin_start": 81.27000000000001,
            "bin_end": 90.60000000000001,
            "count": 247
           },
           {
            "bin_start": 90.60000000000001,
            "bin_end": 99.93,
            "count": 19
           }
          ]
         }
        },
        {
         "name": "CollegeCityID",
         "dtype": "int64",
         "stats": {
          "unique_count": 1173,
          "nan_count": 0,
          "min": "2",
          "max": "18409",
          "histogram": [
           {
            "bin_start": 2,
            "bin_end": 1842.7,
            "count": 1102
           },
           {
            "bin_start": 1842.7,
            "bin_end": 3683.4,
            "count": 325
           },
           {
            "bin_start": 3683.4,
            "bin_end": 5524.1,
            "count": 312
           },
           {
            "bin_start": 5524.1,
            "bin_end": 7364.8,
            "count": 259
           },
           {
            "bin_start": 7364.8,
            "bin_end": 9205.5,
            "count": 332
           },
           {
            "bin_start": 9205.5,
            "bin_end": 11046.2,
            "count": 164
           },
           {
            "bin_start": 11046.2,
            "bin_end": 12886.9,
            "count": 254
           },
           {
            "bin_start": 12886.9,
            "bin_end": 14727.6,
            "count": 159
           },
           {
            "bin_start": 14727.6,
            "bin_end": 16568.3,
            "count": 63
           },
           {
            "bin_start": 16568.3,
            "bin_end": 18409,
            "count": 28
           }
          ]
         }
        },
        {
         "name": "CollegeCityTier",
         "dtype": "int64",
         "stats": {
          "unique_count": 2,
          "nan_count": 0,
          "min": "0",
          "max": "1",
          "histogram": [
           {
            "bin_start": 0,
            "bin_end": 0.1,
            "count": 2110
           },
           {
            "bin_start": 0.1,
            "bin_end": 0.2,
            "count": 0
           },
           {
            "bin_start": 0.2,
            "bin_end": 0.30000000000000004,
            "count": 0
           },
           {
            "bin_start": 0.30000000000000004,
            "bin_end": 0.4,
            "count": 0
           },
           {
            "bin_start": 0.4,
            "bin_end": 0.5,
            "count": 0
           },
           {
            "bin_start": 0.5,
            "bin_end": 0.6000000000000001,
            "count": 0
           },
           {
            "bin_start": 0.6000000000000001,
            "bin_end": 0.7000000000000001,
            "count": 0
           },
           {
            "bin_start": 0.7000000000000001,
            "bin_end": 0.8,
            "count": 0
           },
           {
            "bin_start": 0.8,
            "bin_end": 0.9,
            "count": 0
           },
           {
            "bin_start": 0.9,
            "bin_end": 1,
            "count": 888
           }
          ]
         }
        },
        {
         "name": "CollegeState",
         "dtype": "object",
         "stats": {
          "unique_count": 26,
          "nan_count": 0,
          "categories": [
           {
            "name": "Uttar Pradesh",
            "count": 698
           },
           {
            "name": "Karnataka",
            "count": 281
           },
           {
            "name": "24 others",
            "count": 2019
           }
          ]
         }
        },
        {
         "name": "GraduationYear",
         "dtype": "int64",
         "stats": {
          "unique_count": 11,
          "nan_count": 0,
          "min": "0",
          "max": "2017",
          "histogram": [
           {
            "bin_start": 0,
            "bin_end": 201.7,
            "count": 1
           },
           {
            "bin_start": 201.7,
            "bin_end": 403.4,
            "count": 0
           },
           {
            "bin_start": 403.4,
            "bin_end": 605.0999999999999,
            "count": 0
           },
           {
            "bin_start": 605.0999999999999,
            "bin_end": 806.8,
            "count": 0
           },
           {
            "bin_start": 806.8,
            "bin_end": 1008.5,
            "count": 0
           },
           {
            "bin_start": 1008.5,
            "bin_end": 1210.1999999999998,
            "count": 0
           },
           {
            "bin_start": 1210.1999999999998,
            "bin_end": 1411.8999999999999,
            "count": 0
           },
           {
            "bin_start": 1411.8999999999999,
            "bin_end": 1613.6,
            "count": 0
           },
           {
            "bin_start": 1613.6,
            "bin_end": 1815.3,
            "count": 0
           },
           {
            "bin_start": 1815.3,
            "bin_end": 2017,
            "count": 2997
           }
          ]
         }
        },
        {
         "name": "English",
         "dtype": "int64",
         "stats": {
          "unique_count": 109,
          "nan_count": 0,
          "min": "180",
          "max": "875",
          "histogram": [
           {
            "bin_start": 180,
            "bin_end": 249.5,
            "count": 5
           },
           {
            "bin_start": 249.5,
            "bin_end": 319,
            "count": 87
           },
           {
            "bin_start": 319,
            "bin_end": 388.5,
            "count": 361
           },
           {
            "bin_start": 388.5,
            "bin_end": 458,
            "count": 613
           },
           {
            "bin_start": 458,
            "bin_end": 527.5,
            "count": 777
           },
           {
            "bin_start": 527.5,
            "bin_end": 597,
            "count": 607
           },
           {
            "bin_start": 597,
            "bin_end": 666.5,
            "count": 361
           },
           {
            "bin_start": 666.5,
            "bin_end": 736,
            "count": 149
           },
           {
            "bin_start": 736,
            "bin_end": 805.5,
            "count": 34
           },
           {
            "bin_start": 805.5,
            "bin_end": 875,
            "count": 4
           }
          ]
         }
        },
        {
         "name": "Logical",
         "dtype": "int64",
         "stats": {
          "unique_count": 104,
          "nan_count": 0,
          "min": "195",
          "max": "795",
          "histogram": [
           {
            "bin_start": 195,
            "bin_end": 255,
            "count": 12
           },
           {
            "bin_start": 255,
            "bin_end": 315,
            "count": 39
           },
           {
            "bin_start": 315,
            "bin_end": 375,
            "count": 184
           },
           {
            "bin_start": 375,
            "bin_end": 435,
            "count": 407
           },
           {
            "bin_start": 435,
            "bin_end": 495,
            "count": 688
           },
           {
            "bin_start": 495,
            "bin_end": 555,
            "count": 752
           },
           {
            "bin_start": 555,
            "bin_end": 615,
            "count": 619
           },
           {
            "bin_start": 615,
            "bin_end": 675,
            "count": 261
           },
           {
            "bin_start": 675,
            "bin_end": 735,
            "count": 33
           },
           {
            "bin_start": 735,
            "bin_end": 795,
            "count": 3
           }
          ]
         }
        },
        {
         "name": "Quant",
         "dtype": "int64",
         "stats": {
          "unique_count": 133,
          "nan_count": 0,
          "min": "120",
          "max": "900",
          "histogram": [
           {
            "bin_start": 120,
            "bin_end": 198,
            "count": 17
           },
           {
            "bin_start": 198,
            "bin_end": 276,
            "count": 62
           },
           {
            "bin_start": 276,
            "bin_end": 354,
            "count": 194
           },
           {
            "bin_start": 354,
            "bin_end": 432,
            "count": 486
           },
           {
            "bin_start": 432,
            "bin_end": 510,
            "count": 661
           },
           {
            "bin_start": 510,
            "bin_end": 588,
            "count": 738
           },
           {
            "bin_start": 588,
            "bin_end": 666,
            "count": 557
           },
           {
            "bin_start": 666,
            "bin_end": 744,
            "count": 196
           },
           {
            "bin_start": 744,
            "bin_end": 822,
            "count": 64
           },
           {
            "bin_start": 822,
            "bin_end": 900,
            "count": 23
           }
          ]
         }
        },
        {
         "name": "Domain",
         "dtype": "float64",
         "stats": {
          "unique_count": 221,
          "nan_count": 0,
          "min": "-1.0",
          "max": "0.999910407631314",
          "histogram": [
           {
            "bin_start": -1,
            "bin_end": -0.8000089592368687,
            "count": 179
           },
           {
            "bin_start": -0.8000089592368687,
            "bin_end": -0.6000179184737372,
            "count": 0
           },
           {
            "bin_start": -0.6000179184737372,
            "bin_end": -0.40002687771060574,
            "count": 0
           },
           {
            "bin_start": -0.40002687771060574,
            "bin_end": -0.2000358369474744,
            "count": 0
           },
           {
            "bin_start": -0.2000358369474744,
            "bin_end": -0.000044796184343054435,
            "count": 0
           },
           {
            "bin_start": -0.000044796184343054435,
            "bin_end": 0.1999462445787885,
            "count": 261
           },
           {
            "bin_start": 0.1999462445787885,
            "bin_end": 0.39993728534191986,
            "count": 501
           },
           {
            "bin_start": 0.39993728534191986,
            "bin_end": 0.5999283261050512,
            "count": 470
           },
           {
            "bin_start": 0.5999283261050512,
            "bin_end": 0.7999193668681825,
            "count": 724
           },
           {
            "bin_start": 0.7999193668681825,
            "bin_end": 0.999910407631314,
            "count": 863
           }
          ]
         }
        },
        {
         "name": "ComputerProgramming",
         "dtype": "int64",
         "stats": {
          "unique_count": 76,
          "nan_count": 0,
          "min": "-1",
          "max": "804",
          "histogram": [
           {
            "bin_start": -1,
            "bin_end": 79.5,
            "count": 650
           },
           {
            "bin_start": 79.5,
            "bin_end": 160,
            "count": 14
           },
           {
            "bin_start": 160,
            "bin_end": 240.5,
            "count": 29
           },
           {
            "bin_start": 240.5,
            "bin_end": 321,
            "count": 156
           },
           {
            "bin_start": 321,
            "bin_end": 401.5,
            "count": 508
           },
           {
            "bin_start": 401.5,
            "bin_end": 482,
            "count": 790
           },
           {
            "bin_start": 482,
            "bin_end": 562.5,
            "count": 570
           },
           {
            "bin_start": 562.5,
            "bin_end": 643,
            "count": 213
           },
           {
            "bin_start": 643,
            "bin_end": 723.5,
            "count": 60
           },
           {
            "bin_start": 723.5,
            "bin_end": 804,
            "count": 8
           }
          ]
         }
        },
        {
         "name": "ElectronicsAndSemicon",
         "dtype": "int64",
         "stats": {
          "unique_count": 29,
          "nan_count": 0,
          "min": "-1",
          "max": "612",
          "histogram": [
           {
            "bin_start": -1,
            "bin_end": 60.3,
            "count": 2133
           },
           {
            "bin_start": 60.3,
            "bin_end": 121.6,
            "count": 0
           },
           {
            "bin_start": 121.6,
            "bin_end": 182.89999999999998,
            "count": 10
           },
           {
            "bin_start": 182.89999999999998,
            "bin_end": 244.2,
            "count": 106
           },
           {
            "bin_start": 244.2,
            "bin_end": 305.5,
            "count": 239
           },
           {
            "bin_start": 305.5,
            "bin_end": 366.79999999999995,
            "count": 270
           },
           {
            "bin_start": 366.79999999999995,
            "bin_end": 428.09999999999997,
            "count": 117
           },
           {
            "bin_start": 428.09999999999997,
            "bin_end": 489.4,
            "count": 85
           },
           {
            "bin_start": 489.4,
            "bin_end": 550.6999999999999,
            "count": 34
           },
           {
            "bin_start": 550.6999999999999,
            "bin_end": 612,
            "count": 4
           }
          ]
         }
        },
        {
         "name": "ComputerScience",
         "dtype": "int64",
         "stats": {
          "unique_count": 19,
          "nan_count": 0,
          "min": "-1",
          "max": "715",
          "histogram": [
           {
            "bin_start": -1,
            "bin_end": 70.6,
            "count": 2298
           },
           {
            "bin_start": 70.6,
            "bin_end": 142.2,
            "count": 0
           },
           {
            "bin_start": 142.2,
            "bin_end": 213.79999999999998,
            "count": 3
           },
           {
            "bin_start": 213.79999999999998,
            "bin_end": 285.4,
            "count": 70
           },
           {
            "bin_start": 285.4,
            "bin_end": 357,
            "count": 151
           },
           {
            "bin_start": 357,
            "bin_end": 428.59999999999997,
            "count": 201
           },
           {
            "bin_start": 428.59999999999997,
            "bin_end": 500.19999999999993,
            "count": 196
           },
           {
            "bin_start": 500.19999999999993,
            "bin_end": 571.8,
            "count": 49
           },
           {
            "bin_start": 571.8,
            "bin_end": 643.4,
            "count": 19
           },
           {
            "bin_start": 643.4,
            "bin_end": 715,
            "count": 11
           }
          ]
         }
        },
        {
         "name": "MechanicalEngg",
         "dtype": "int64",
         "stats": {
          "unique_count": 39,
          "nan_count": 0,
          "min": "-1",
          "max": "623",
          "histogram": [
           {
            "bin_start": -1,
            "bin_end": 61.4,
            "count": 2811
           },
           {
            "bin_start": 61.4,
            "bin_end": 123.8,
            "count": 0
           },
           {
            "bin_start": 123.8,
            "bin_end": 186.2,
            "count": 1
           },
           {
            "bin_start": 186.2,
            "bin_end": 248.6,
            "count": 3
           },
           {
            "bin_start": 248.6,
            "bin_end": 311,
            "count": 17
           },
           {
            "bin_start": 311,
            "bin_end": 373.4,
            "count": 47
           },
           {
            "bin_start": 373.4,
            "bin_end": 435.8,
            "count": 58
           },
           {
            "bin_start": 435.8,
            "bin_end": 498.2,
            "count": 36
           },
           {
            "bin_start": 498.2,
            "bin_end": 560.6,
            "count": 14
           },
           {
            "bin_start": 560.6,
            "bin_end": 623,
            "count": 11
           }
          ]
         }
        },
        {
         "name": "ElectricalEngg",
         "dtype": "int64",
         "stats": {
          "unique_count": 29,
          "nan_count": 0,
          "min": "-1",
          "max": "660",
          "histogram": [
           {
            "bin_start": -1,
            "bin_end": 65.1,
            "count": 2876
           },
           {
            "bin_start": 65.1,
            "bin_end": 131.2,
            "count": 0
           },
           {
            "bin_start": 131.2,
            "bin_end": 197.29999999999998,
            "count": 0
           },
           {
            "bin_start": 197.29999999999998,
            "bin_end": 263.4,
            "count": 7
           },
           {
            "bin_start": 263.4,
            "bin_end": 329.5,
            "count": 15
           },
           {
            "bin_start": 329.5,
            "bin_end": 395.59999999999997,
            "count": 29
           },
           {
            "bin_start": 395.59999999999997,
            "bin_end": 461.69999999999993,
            "count": 34
           },
           {
            "bin_start": 461.69999999999993,
            "bin_end": 527.8,
            "count": 20
           },
           {
            "bin_start": 527.8,
            "bin_end": 593.9,
            "count": 11
           },
           {
            "bin_start": 593.9,
            "bin_end": 660,
            "count": 6
           }
          ]
         }
        },
        {
         "name": "TelecomEngg",
         "dtype": "int64",
         "stats": {
          "unique_count": 24,
          "nan_count": 0,
          "min": "-1",
          "max": "548",
          "histogram": [
           {
            "bin_start": -1,
            "bin_end": 53.9,
            "count": 2724
           },
           {
            "bin_start": 53.9,
            "bin_end": 108.8,
            "count": 0
           },
           {
            "bin_start": 108.8,
            "bin_end": 163.7,
            "count": 0
           },
           {
            "bin_start": 163.7,
            "bin_end": 218.6,
            "count": 6
           },
           {
            "bin_start": 218.6,
            "bin_end": 273.5,
            "count": 35
           },
           {
            "bin_start": 273.5,
            "bin_end": 328.4,
            "count": 76
           },
           {
            "bin_start": 328.4,
            "bin_end": 383.3,
            "count": 60
           },
           {
            "bin_start": 383.3,
            "bin_end": 438.2,
            "count": 60
           },
           {
            "bin_start": 438.2,
            "bin_end": 493.09999999999997,
            "count": 27
           },
           {
            "bin_start": 493.09999999999997,
            "bin_end": 548,
            "count": 10
           }
          ]
         }
        },
        {
         "name": "CivilEngg",
         "dtype": "int64",
         "stats": {
          "unique_count": 15,
          "nan_count": 0,
          "min": "-1",
          "max": "500",
          "histogram": [
           {
            "bin_start": -1,
            "bin_end": 49.1,
            "count": 2972
           },
           {
            "bin_start": 49.1,
            "bin_end": 99.2,
            "count": 0
           },
           {
            "bin_start": 99.2,
            "bin_end": 149.3,
            "count": 0
           },
           {
            "bin_start": 149.3,
            "bin_end": 199.4,
            "count": 1
           },
           {
            "bin_start": 199.4,
            "bin_end": 249.5,
            "count": 0
           },
           {
            "bin_start": 249.5,
            "bin_end": 299.6,
            "count": 8
           },
           {
            "bin_start": 299.6,
            "bin_end": 349.7,
            "count": 6
           },
           {
            "bin_start": 349.7,
            "bin_end": 399.8,
            "count": 7
           },
           {
            "bin_start": 399.8,
            "bin_end": 449.90000000000003,
            "count": 1
           },
           {
            "bin_start": 449.90000000000003,
            "bin_end": 500,
            "count": 3
           }
          ]
         }
        },
        {
         "name": "conscientiousness",
         "dtype": "float64",
         "stats": {
          "unique_count": 129,
          "nan_count": 0,
          "min": "-3.8933",
          "max": "1.9953",
          "histogram": [
           {
            "bin_start": -3.8933,
            "bin_end": -3.30444,
            "count": 13
           },
           {
            "bin_start": -3.30444,
            "bin_end": -2.71558,
            "count": 28
           },
           {
            "bin_start": -2.71558,
            "bin_end": -2.1267199999999997,
            "count": 52
           },
           {
            "bin_start": -2.1267199999999997,
            "bin_end": -1.5378599999999998,
            "count": 156
           },
           {
            "bin_start": -1.5378599999999998,
            "bin_end": -0.9489999999999998,
            "count": 301
           },
           {
            "bin_start": -0.9489999999999998,
            "bin_end": -0.36013999999999946,
            "count": 490
           },
           {
            "bin_start": -0.36013999999999946,
            "bin_end": 0.22872000000000003,
            "count": 671
           },
           {
            "bin_start": 0.22872000000000003,
            "bin_end": 0.8175800000000004,
            "count": 581
           },
           {
            "bin_start": 0.8175800000000004,
            "bin_end": 1.4064400000000008,
            "count": 477
           },
           {
            "bin_start": 1.4064400000000008,
            "bin_end": 1.9953,
            "count": 229
           }
          ]
         }
        },
        {
         "name": "agreeableness",
         "dtype": "float64",
         "stats": {
          "unique_count": 136,
          "nan_count": 0,
          "min": "-5.7816",
          "max": "1.9048",
          "histogram": [
           {
            "bin_start": -5.7816,
            "bin_end": -5.01296,
            "count": 6
           },
           {
            "bin_start": -5.01296,
            "bin_end": -4.24432,
            "count": 5
           },
           {
            "bin_start": -4.24432,
            "bin_end": -3.47568,
            "count": 8
           },
           {
            "bin_start": -3.47568,
            "bin_end": -2.70704,
            "count": 14
           },
           {
            "bin_start": -2.70704,
            "bin_end": -1.9384000000000001,
            "count": 69
           },
           {
            "bin_start": -1.9384000000000001,
            "bin_end": -1.1697600000000001,
            "count": 146
           },
           {
            "bin_start": -1.1697600000000001,
            "bin_end": -0.4011199999999997,
            "count": 505
           },
           {
            "bin_start": -0.4011199999999997,
            "bin_end": 0.36751999999999985,
            "count": 885
           },
           {
            "bin_start": 0.36751999999999985,
            "bin_end": 1.1361599999999994,
            "count": 1016
           },
           {
            "bin_start": 1.1361599999999994,
            "bin_end": 1.9048,
            "count": 344
           }
          ]
         }
        },
        {
         "name": "extraversion",
         "dtype": "float64",
         "stats": {
          "unique_count": 142,
          "nan_count": 0,
          "min": "-4.6009",
          "max": "2.1617",
          "histogram": [
           {
            "bin_start": -4.6009,
            "bin_end": -3.92464,
            "count": 4
           },
           {
            "bin_start": -3.92464,
            "bin_end": -3.24838,
            "count": 6
           },
           {
            "bin_start": -3.24838,
            "bin_end": -2.57212,
            "count": 19
           },
           {
            "bin_start": -2.57212,
            "bin_end": -1.8958599999999999,
            "count": 75
           },
           {
            "bin_start": -1.8958599999999999,
            "bin_end": -1.2195999999999998,
            "count": 224
           },
           {
            "bin_start": -1.2195999999999998,
            "bin_end": -0.5433399999999997,
            "count": 499
           },
           {
            "bin_start": -0.5433399999999997,
            "bin_end": 0.13292000000000037,
            "count": 718
           },
           {
            "bin_start": 0.13292000000000037,
            "bin_end": 0.8091800000000005,
            "count": 858
           },
           {
            "bin_start": 0.8091800000000005,
            "bin_end": 1.4854400000000005,
            "count": 464
           },
           {
            "bin_start": 1.4854400000000005,
            "bin_end": 2.1617,
            "count": 131
           }
          ]
         }
        },
        {
         "name": "nueroticism",
         "dtype": "float64",
         "stats": {
          "unique_count": 204,
          "nan_count": 0,
          "min": "-2.643",
          "max": "3.3525",
          "histogram": [
           {
            "bin_start": -2.643,
            "bin_end": -2.04345,
            "count": 79
           },
           {
            "bin_start": -2.04345,
            "bin_end": -1.4438999999999997,
            "count": 226
           },
           {
            "bin_start": -1.4438999999999997,
            "bin_end": -0.8443499999999997,
            "count": 482
           },
           {
            "bin_start": -0.8443499999999997,
            "bin_end": -0.24479999999999968,
            "count": 614
           },
           {
            "bin_start": -0.24479999999999968,
            "bin_end": 0.3547500000000001,
            "count": 685
           },
           {
            "bin_start": 0.3547500000000001,
            "bin_end": 0.9543000000000004,
            "count": 471
           },
           {
            "bin_start": 0.9543000000000004,
            "bin_end": 1.5538500000000006,
            "count": 292
           },
           {
            "bin_start": 1.5538500000000006,
            "bin_end": 2.1534000000000004,
            "count": 105
           },
           {
            "bin_start": 2.1534000000000004,
            "bin_end": 2.7529500000000002,
            "count": 37
           },
           {
            "bin_start": 2.7529500000000002,
            "bin_end": 3.3525,
            "count": 7
           }
          ]
         }
        },
        {
         "name": "openess_to_experience",
         "dtype": "float64",
         "stats": {
          "unique_count": 131,
          "nan_count": 0,
          "min": "-7.3757",
          "max": "1.6302",
          "histogram": [
           {
            "bin_start": -7.3757,
            "bin_end": -6.47511,
            "count": 7
           },
           {
            "bin_start": -6.47511,
            "bin_end": -5.57452,
            "count": 2
           },
           {
            "bin_start": -5.57452,
            "bin_end": -4.67393,
            "count": 5
           },
           {
            "bin_start": -4.67393,
            "bin_end": -3.77334,
            "count": 4
           },
           {
            "bin_start": -3.77334,
            "bin_end": -2.87275,
            "count": 26
           },
           {
            "bin_start": -2.87275,
            "bin_end": -1.9721600000000006,
            "count": 91
           },
           {
            "bin_start": -1.9721600000000006,
            "bin_end": -1.0715700000000004,
            "count": 273
           },
           {
            "bin_start": -1.0715700000000004,
            "bin_end": -0.17098000000000013,
            "count": 860
           },
           {
            "bin_start": -0.17098000000000013,
            "bin_end": 0.7296099999999992,
            "count": 1225
           },
           {
            "bin_start": 0.7296099999999992,
            "bin_end": 1.6302,
            "count": 505
           }
          ]
         }
        },
        {
         "name": "Salary",
         "dtype": "int64"
        },
        {
         "name": "_deepnote_index_column",
         "dtype": "int64"
        }
       ],
       "rows_top": [
        {
         "ID": 604399,
         "Gender": "f",
         "DOB": "1990-10-22",
         "10percentage": 87.8,
         "10board": "cbse",
         "12graduation": 2009,
         "12percentage": 84,
         "12board": "cbse",
         "CollegeID": 6920,
         "CollegeTier": 1,
         "Degree": "B.Tech/B.E.",
         "Specialization": "instrumentation and control engineering",
         "collegeGPA": 73.82,
         "CollegeCityID": 6920,
         "CollegeCityTier": 1,
         "CollegeState": "Delhi",
         "GraduationYear": 2013,
         "English": 650,
         "Logical": 665,
         "Quant": 810,
         "Domain": 0.694479327708463,
         "ComputerProgramming": 485,
         "ElectronicsAndSemicon": 366,
         "ComputerScience": -1,
         "MechanicalEngg": -1,
         "ElectricalEngg": -1,
         "TelecomEngg": -1,
         "CivilEngg": -1,
         "conscientiousness": -0.159,
         "agreeableness": 0.3789,
         "extraversion": 1.2396,
         "nueroticism": 0.1459,
         "openess_to_experience": 0.2889,
         "Salary": 445000,
         "_deepnote_index_column": 0
        },
        {
         "ID": 988334,
         "Gender": "m",
         "DOB": "1990-05-15",
         "10percentage": 57,
         "10board": "cbse",
         "12graduation": 2010,
         "12percentage": 64.5,
         "12board": "cbse",
         "CollegeID": 6624,
         "CollegeTier": 2,
         "Degree": "B.Tech/B.E.",
         "Specialization": "computer science & engineering",
         "collegeGPA": 65,
         "CollegeCityID": 6624,
         "CollegeCityTier": 0,
         "CollegeState": "Uttar Pradesh",
         "GraduationYear": 2014,
         "English": 440,
         "Logical": 435,
         "Quant": 210,
         "Domain": 0.342314899911815,
         "ComputerProgramming": 365,
         "ElectronicsAndSemicon": -1,
         "ComputerScience": -1,
         "MechanicalEngg": -1,
         "ElectricalEngg": -1,
         "TelecomEngg": -1,
         "CivilEngg": -1,
         "conscientiousness": 1.1336,
         "agreeableness": 0.0459,
         "extraversion": 1.2396,
         "nueroticism": 0.5262,
         "openess_to_experience": -0.2859,
         "Salary": 110000,
         "_deepnote_index_column": 1
        },
        {
         "ID": 301647,
         "Gender": "m",
         "DOB": "1989-08-21",
         "10percentage": 77.33,
         "10board": "maharashtra state board,pune",
         "12graduation": 2007,
         "12percentage": 85.17,
         "12board": "amravati divisional board",
         "CollegeID": 9084,
         "CollegeTier": 2,
         "Degree": "B.Tech/B.E.",
         "Specialization": "electronics & telecommunications",
         "collegeGPA": 61.94,
         "CollegeCityID": 9084,
         "CollegeCityTier": 0,
         "CollegeState": "Maharashtra",
         "GraduationYear": 2011,
         "English": 485,
         "Logical": 475,
         "Quant": 505,
         "Domain": 0.824666400671332,
         "ComputerProgramming": -1,
         "ElectronicsAndSemicon": 400,
         "ComputerScience": -1,
         "MechanicalEngg": -1,
         "ElectricalEngg": -1,
         "TelecomEngg": 260,
         "CivilEngg": -1,
         "conscientiousness": 0.51,
         "agreeableness": -0.1232,
         "extraversion": 1.5428,
         "nueroticism": -0.2902,
         "openess_to_experience": -0.2875,
         "Salary": 255000,
         "_deepnote_index_column": 2
        },
        {
         "ID": 582313,
         "Gender": "m",
         "DOB": "1991-05-04",
         "10percentage": 84.3,
         "10board": "cbse",
         "12graduation": 2009,
         "12percentage": 86,
         "12board": "cbse",
         "CollegeID": 8195,
         "CollegeTier": 1,
         "Degree": "B.Tech/B.E.",
         "Specialization": "computer science & engineering",
         "collegeGPA": 80.4,
         "CollegeCityID": 8195,
         "CollegeCityTier": 1,
         "CollegeState": "Delhi",
         "GraduationYear": 2013,
         "English": 675,
         "Logical": 620,
         "Quant": 635,
         "Domain": 0.990008756723898,
         "ComputerProgramming": 655,
         "ElectronicsAndSemicon": -1,
         "ComputerScience": -1,
         "MechanicalEngg": -1,
         "ElectricalEngg": -1,
         "TelecomEngg": -1,
         "CivilEngg": -1,
         "conscientiousness": -0.4463,
         "agreeableness": 0.2124,
         "extraversion": 0.3174,
         "nueroticism": 0.2727,
         "openess_to_experience": 0.4805,
         "Salary": 420000,
         "_deepnote_index_column": 3
        },
        {
         "ID": 339001,
         "Gender": "f",
         "DOB": "1990-10-30",
         "10percentage": 82,
         "10board": "cbse",
         "12graduation": 2008,
         "12percentage": 75,
         "12board": "cbse",
         "CollegeID": 4889,
         "CollegeTier": 2,
         "Degree": "B.Tech/B.E.",
         "Specialization": "biotechnology",
         "collegeGPA": 64.3,
         "CollegeCityID": 4889,
         "CollegeCityTier": 1,
         "CollegeState": "Tamil Nadu",
         "GraduationYear": 2012,
         "English": 575,
         "Logical": 495,
         "Quant": 365,
         "Domain": 0.278457409311292,
         "ComputerProgramming": 315,
         "ElectronicsAndSemicon": -1,
         "ComputerScience": -1,
         "MechanicalEngg": -1,
         "ElectricalEngg": -1,
         "TelecomEngg": -1,
         "CivilEngg": -1,
         "conscientiousness": -1.4992,
         "agreeableness": -0.7473,
         "extraversion": -1.0697,
         "nueroticism": 0.0622299999999999,
         "openess_to_experience": 0.1864,
         "Salary": 200000,
         "_deepnote_index_column": 4
        },
        {
         "ID": 609356,
         "Gender": "f",
         "DOB": "1989-12-02",
         "10percentage": 83.16,
         "10board": "icse",
         "12graduation": 2007,
         "12percentage": 77,
         "12board": "cbse",
         "CollegeID": 10950,
         "CollegeTier": 1,
         "Degree": "M.Tech./M.E.",
         "Specialization": "instrumentation and control engineering",
         "collegeGPA": 99.93,
         "CollegeCityID": 10950,
         "CollegeCityTier": 0,
         "CollegeState": "Punjab",
         "GraduationYear": 2013,
         "English": 535,
         "Logical": 595,
         "Quant": 620,
         "Domain": 0.376059586651545,
         "ComputerProgramming": 455,
         "ElectronicsAndSemicon": 300,
         "ComputerScience": -1,
         "MechanicalEngg": -1,
         "ElectricalEngg": -1,
         "TelecomEngg": 313,
         "CivilEngg": -1,
         "conscientiousness": 0.8463,
         "agreeableness": -0.6201,
         "extraversion": -0.7585,
         "nueroticism": -0.995,
         "openess_to_experience": -0.2859,
         "Salary": 440000,
         "_deepnote_index_column": 5
        },
        {
         "ID": 1081649,
         "Gender": "f",
         "DOB": "1989-04-17",
         "10percentage": 72.5,
         "10board": "state board",
         "12graduation": 2007,
         "12percentage": 53.2,
         "12board": "state board",
         "CollegeID": 14381,
         "CollegeTier": 2,
         "Degree": "B.Tech/B.E.",
         "Specialization": "mechanical engineering",
         "collegeGPA": 68,
         "CollegeCityID": 14381,
         "CollegeCityTier": 1,
         "CollegeState": "West Bengal",
         "GraduationYear": 2013,
         "English": 510,
         "Logical": 495,
         "Quant": 405,
         "Domain": 0.829584599793067,
         "ComputerProgramming": -1,
         "ElectronicsAndSemicon": -1,
         "ComputerScience": -1,
         "MechanicalEngg": 469,
         "ElectricalEngg": -1,
         "TelecomEngg": -1,
         "CivilEngg": -1,
         "conscientiousness": 0.1282,
         "agreeableness": -0.4536,
         "extraversion": 0.3174,
         "nueroticism": 0.9066,
         "openess_to_experience": -0.0943,
         "Salary": 150000,
         "_deepnote_index_column": 6
        },
        {
         "ID": 610842,
         "Gender": "f",
         "DOB": "1991-04-11",
         "10percentage": 77,
         "10board": "state board",
         "12graduation": 2009,
         "12percentage": 88,
         "12board": "state board",
         "CollegeID": 13208,
         "CollegeTier": 2,
         "Degree": "B.Tech/B.E.",
         "Specialization": "computer science & engineering",
         "collegeGPA": 71,
         "CollegeCityID": 13208,
         "CollegeCityTier": 1,
         "CollegeState": "Telangana",
         "GraduationYear": 2013,
         "English": 370,
         "Logical": 470,
         "Quant": 280,
         "Domain": 0.704090412131314,
         "ComputerProgramming": 465,
         "ElectronicsAndSemicon": -1,
         "ComputerScience": -1,
         "MechanicalEngg": -1,
         "ElectricalEngg": -1,
         "TelecomEngg": -1,
         "CivilEngg": -1,
         "conscientiousness": 0.1282,
         "agreeableness": 0.5454,
         "extraversion": 0.4711,
         "nueroticism": 0.9066,
         "openess_to_experience": -0.2859,
         "Salary": 105000,
         "_deepnote_index_column": 7
        },
        {
         "ID": 1183070,
         "Gender": "m",
         "DOB": "1992-11-25",
         "10percentage": 76.8,
         "10board": "state board",
         "12graduation": 2010,
         "12percentage": 87.7,
         "12board": "state board",
         "CollegeID": 5338,
         "CollegeTier": 2,
         "Degree": "B.Tech/B.E.",
         "Specialization": "information technology",
         "collegeGPA": 73.15,
         "CollegeCityID": 5338,
         "CollegeCityTier": 0,
         "CollegeState": "Andhra Pradesh",
         "GraduationYear": 2014,
         "English": 510,
         "Logical": 555,
         "Quant": 440,
         "Domain": 0.744758354008939,
         "ComputerProgramming": 525,
         "ElectronicsAndSemicon": -1,
         "ComputerScience": 438,
         "MechanicalEngg": -1,
         "ElectricalEngg": -1,
         "TelecomEngg": -1,
         "CivilEngg": -1,
         "conscientiousness": -0.159,
         "agreeableness": -0.4536,
         "extraversion": 0.1637,
         "nueroticism": 0.5262,
         "openess_to_experience": -0.0943,
         "Salary": 195000,
         "_deepnote_index_column": 8
        },
        {
         "ID": 794062,
         "Gender": "f",
         "DOB": "1993-03-15",
         "10percentage": 57,
         "10board": "state board",
         "12graduation": 2009,
         "12percentage": 73,
         "12board": "state board",
         "CollegeID": 8346,
         "CollegeTier": 2,
         "Degree": "B.Tech/B.E.",
         "Specialization": "computer science & engineering",
         "collegeGPA": 70.08,
         "CollegeCityID": 8346,
         "CollegeCityTier": 0,
         "CollegeState": "Uttar Pradesh",
         "GraduationYear": 2014,
         "English": 500,
         "Logical": 410,
         "Quant": 560,
         "Domain": 0.622642915849938,
         "ComputerProgramming": 385,
         "ElectronicsAndSemicon": -1,
         "ComputerScience": 407,
         "MechanicalEngg": -1,
         "ElectricalEngg": -1,
         "TelecomEngg": -1,
         "CivilEngg": -1,
         "conscientiousness": -0.7335,
         "agreeableness": -0.4536,
         "extraversion": -0.2974,
         "nueroticism": 1.4136,
         "openess_to_experience": 0.6721,
         "Salary": 200000,
         "_deepnote_index_column": 9
        },
        {
         "ID": 1088206,
         "Gender": "m",
         "DOB": "1990-06-21",
         "10percentage": 77,
         "10board": "state board",
         "12graduation": 2008,
         "12percentage": 75,
         "12board": "state board",
         "CollegeID": 13424,
         "CollegeTier": 2,
         "Degree": "B.Tech/B.E.",
         "Specialization": "electronics & telecommunications",
         "collegeGPA": 62,
         "CollegeCityID": 13424,
         "CollegeCityTier": 0,
         "CollegeState": "Maharashtra",
         "GraduationYear": 2013,
         "English": 675,
         "Logical": 630,
         "Quant": 485,
         "Domain": 0.207392169717661,
         "ComputerProgramming": 405,
         "ElectronicsAndSemicon": 260,
         "ComputerScience": -1,
         "MechanicalEngg": -1,
         "ElectricalEngg": -1,
         "TelecomEngg": -1,
         "CivilEngg": -1,
         "conscientiousness": 1.7081,
         "agreeableness": 0.5454,
         "extraversion": 0.9322,
         "nueroticism": -0.4879,
         "openess_to_experience": 0.8637,
         "Salary": 335000,
         "_deepnote_index_column": 10
        },
        {
         "ID": 1279958,
         "Gender": "m",
         "DOB": "1992-07-02",
         "10percentage": 81.2,
         "10board": "state board",
         "12graduation": 2008,
         "12percentage": 79.9,
         "12board": "state board",
         "CollegeID": 64,
         "CollegeTier": 2,
         "Degree": "B.Tech/B.E.",
         "Specialization": "instrumentation and control engineering",
         "collegeGPA": 67.67,
         "CollegeCityID": 64,
         "CollegeCityTier": 0,
         "CollegeState": "Uttar Pradesh",
         "GraduationYear": 2013,
         "English": 395,
         "Logical": 565,
         "Quant": 645,
         "Domain": -1,
         "ComputerProgramming": 495,
         "ElectronicsAndSemicon": -1,
         "ComputerScience": 376,
         "MechanicalEngg": -1,
         "ElectricalEngg": -1,
         "TelecomEngg": -1,
         "CivilEngg": -1,
         "conscientiousness": 0.7027,
         "agreeableness": 0.7119,
         "extraversion": 0.01,
         "nueroticism": -0.995,
         "openess_to_experience": 0.6721,
         "Salary": 300000,
         "_deepnote_index_column": 11
        },
        {
         "ID": 471413,
         "Gender": "f",
         "DOB": "1991-12-24",
         "10percentage": 85,
         "10board": "delhi board",
         "12graduation": 2009,
         "12percentage": 88,
         "12board": "all india board",
         "CollegeID": 57,
         "CollegeTier": 2,
         "Degree": "B.Tech/B.E.",
         "Specialization": "information technology",
         "collegeGPA": 85,
         "CollegeCityID": 57,
         "CollegeCityTier": 0,
         "CollegeState": "Haryana",
         "GraduationYear": 2013,
         "English": 495,
         "Logical": 445,
         "Quant": 605,
         "Domain": 0.765673581234011,
         "ComputerProgramming": 485,
         "ElectronicsAndSemicon": -1,
         "ComputerScience": -1,
         "MechanicalEngg": -1,
         "ElectricalEngg": -1,
         "TelecomEngg": -1,
         "CivilEngg": -1,
         "conscientiousness": -1.9629,
         "agreeableness": -2.1903,
         "extraversion": -2.775,
         "nueroticism": 0.4148,
         "openess_to_experience": -0.4455,
         "Salary": 480000,
         "_deepnote_index_column": 12
        },
        {
         "ID": 1088423,
         "Gender": "f",
         "DOB": "1992-08-09",
         "10percentage": 90,
         "10board": "state board",
         "12graduation": 2009,
         "12percentage": 82.1,
         "12board": "state board",
         "CollegeID": 2998,
         "CollegeTier": 2,
         "Degree": "B.Tech/B.E.",
         "Specialization": "computer science & engineering",
         "collegeGPA": 85,
         "CollegeCityID": 2998,
         "CollegeCityTier": 0,
         "CollegeState": "Telangana",
         "GraduationYear": 2014,
         "English": 640,
         "Logical": 530,
         "Quant": 705,
         "Domain": 0.486747008438193,
         "ComputerProgramming": 615,
         "ElectronicsAndSemicon": -1,
         "ComputerScience": 376,
         "MechanicalEngg": -1,
         "ElectricalEngg": -1,
         "TelecomEngg": -1,
         "CivilEngg": -1,
         "conscientiousness": 0.99,
         "agreeableness": 0.7119,
         "extraversion": -0.1437,
         "nueroticism": -1.1218,
         "openess_to_experience": 0.8637,
         "Salary": 550000,
         "_deepnote_index_column": 13
        }
       ],
       "rows_bottom": [
        {
         "ID": 260350,
         "Gender": "f",
         "DOB": "1989-06-12",
         "10percentage": 93.2,
         "10board": "0",
         "12graduation": 2006,
         "12percentage": 79.75,
         "12board": "0",
         "CollegeID": 1176,
         "CollegeTier": 2,
         "Degree": "B.Tech/B.E.",
         "Specialization": "electronics and communication engineering",
         "collegeGPA": 79,
         "CollegeCityID": 1176,
         "CollegeCityTier": 0,
         "CollegeState": "Tamil Nadu",
         "GraduationYear": 2010,
         "English": 325,
         "Logical": 425,
         "Quant": 565,
         "Domain": -1,
         "ComputerProgramming": 295,
         "ElectronicsAndSemicon": -1,
         "ComputerScience": -1,
         "MechanicalEngg": -1,
         "ElectricalEngg": -1,
         "TelecomEngg": -1,
         "CivilEngg": -1,
         "conscientiousness": -1.97699999999999,
         "agreeableness": -3.3994,
         "extraversion": -0.3149,
         "nueroticism": 0.9553,
         "openess_to_experience": -1.5513,
         "Salary": 200000,
         "_deepnote_index_column": 2983
        },
        {
         "ID": 215660,
         "Gender": "m",
         "DOB": "1989-05-27",
         "10percentage": 69.2,
         "10board": "jharkhand academic council",
         "12graduation": 2007,
         "12percentage": 58.6,
         "12board": "jharkhand academic council",
         "CollegeID": 5026,
         "CollegeTier": 2,
         "Degree": "B.Tech/B.E.",
         "Specialization": "electronics and communication engineering",
         "collegeGPA": 63,
         "CollegeCityID": 5026,
         "CollegeCityTier": 0,
         "CollegeState": "Orissa",
         "GraduationYear": 2011,
         "English": 605,
         "Logical": 435,
         "Quant": 505,
         "Domain": 0.538386892985096,
         "ComputerProgramming": 305,
         "ElectronicsAndSemicon": 333,
         "ComputerScience": -1,
         "MechanicalEngg": -1,
         "ElectricalEngg": -1,
         "TelecomEngg": 233,
         "CivilEngg": -1,
         "conscientiousness": 0.2009,
         "agreeableness": -0.4353,
         "extraversion": -0.0537,
         "nueroticism": 1.1199,
         "openess_to_experience": 0.3444,
         "Salary": 105000,
         "_deepnote_index_column": 2984
        },
        {
         "ID": 270797,
         "Gender": "m",
         "DOB": "1988-06-27",
         "10percentage": 90.8,
         "10board": "state board",
         "12graduation": 2007,
         "12percentage": 86.6,
         "12board": "state board",
         "CollegeID": 4554,
         "CollegeTier": 2,
         "Degree": "B.Tech/B.E.",
         "Specialization": "electronics & instrumentation eng",
         "collegeGPA": 75.67,
         "CollegeCityID": 4554,
         "CollegeCityTier": 0,
         "CollegeState": "Tamil Nadu",
         "GraduationYear": 2011,
         "English": 415,
         "Logical": 585,
         "Quant": 425,
         "Domain": -1,
         "ComputerProgramming": 345,
         "ElectronicsAndSemicon": -1,
         "ComputerScience": -1,
         "MechanicalEngg": -1,
         "ElectricalEngg": -1,
         "TelecomEngg": -1,
         "CivilEngg": -1,
         "conscientiousness": 0.9737,
         "agreeableness": 1.5928,
         "extraversion": 1.5428,
         "nueroticism": 0.4148,
         "openess_to_experience": 0.8183,
         "Salary": 470000,
         "_deepnote_index_column": 2985
        },
        {
         "ID": 580624,
         "Gender": "f",
         "DOB": "1990-12-25",
         "10percentage": 85.6,
         "10board": "cbse",
         "12graduation": 2008,
         "12percentage": 76.4,
         "12board": "cbse",
         "CollegeID": 8195,
         "CollegeTier": 1,
         "Degree": "B.Tech/B.E.",
         "Specialization": "information technology",
         "collegeGPA": 80.26,
         "CollegeCityID": 8195,
         "CollegeCityTier": 1,
         "CollegeState": "Delhi",
         "GraduationYear": 2013,
         "English": 660,
         "Logical": 645,
         "Quant": 695,
         "Domain": 0.901489571371033,
         "ComputerProgramming": 545,
         "ElectronicsAndSemicon": -1,
         "ComputerScience": -1,
         "MechanicalEngg": -1,
         "ElectricalEngg": -1,
         "TelecomEngg": -1,
         "CivilEngg": -1,
         "conscientiousness": 1.1336,
         "agreeableness": 0.8784,
         "extraversion": 0.7785,
         "nueroticism": -0.2344,
         "openess_to_experience": 0.4805,
         "Salary": 375000,
         "_deepnote_index_column": 2986
        },
        {
         "ID": 250796,
         "Gender": "m",
         "DOB": "1990-07-16",
         "10percentage": 89,
         "10board": "0",
         "12graduation": 2007,
         "12percentage": 95.3,
         "12board": "0",
         "CollegeID": 9836,
         "CollegeTier": 2,
         "Degree": "B.Tech/B.E.",
         "Specialization": "computer engineering",
         "collegeGPA": 74.8,
         "CollegeCityID": 9836,
         "CollegeCityTier": 1,
         "CollegeState": "Telangana",
         "GraduationYear": 2011,
         "English": 485,
         "Logical": 445,
         "Quant": 595,
         "Domain": 0.793580614548506,
         "ComputerProgramming": 495,
         "ElectronicsAndSemicon": -1,
         "ComputerScience": -1,
         "MechanicalEngg": -1,
         "ElectricalEngg": -1,
         "TelecomEngg": -1,
         "CivilEngg": -1,
         "conscientiousness": -0.7264,
         "agreeableness": -0.9033,
         "extraversion": -1.5051,
         "nueroticism": -0.5253,
         "openess_to_experience": -0.6035,
         "Salary": 575000,
         "_deepnote_index_column": 2987
        },
        {
         "ID": 339451,
         "Gender": "f",
         "DOB": "1991-04-27",
         "10percentage": 85,
         "10board": "cbse",
         "12graduation": 2008,
         "12percentage": 95,
         "12board": "intermediate",
         "CollegeID": 4415,
         "CollegeTier": 2,
         "Degree": "B.Tech/B.E.",
         "Specialization": "computer engineering",
         "collegeGPA": 77.5,
         "CollegeCityID": 4415,
         "CollegeCityTier": 1,
         "CollegeState": "Telangana",
         "GraduationYear": 2012,
         "English": 575,
         "Logical": 635,
         "Quant": 565,
         "Domain": 0.843123726665742,
         "ComputerProgramming": 515,
         "ElectronicsAndSemicon": -1,
         "ComputerScience": -1,
         "MechanicalEngg": -1,
         "ElectricalEngg": -1,
         "TelecomEngg": -1,
         "CivilEngg": -1,
         "conscientiousness": 0.3555,
         "agreeableness": 0.6568,
         "extraversion": 0.3817,
         "nueroticism": -0.6428,
         "openess_to_experience": 0.4234,
         "Salary": 420000,
         "_deepnote_index_column": 2988
        },
        {
         "ID": 1069569,
         "Gender": "m",
         "DOB": "1993-07-13",
         "10percentage": 81.1,
         "10board": "state board",
         "12graduation": 2010,
         "12percentage": 86.7,
         "12board": "state board",
         "CollegeID": 11090,
         "CollegeTier": 2,
         "Degree": "B.Tech/B.E.",
         "Specialization": "computer science & engineering",
         "collegeGPA": 70.51,
         "CollegeCityID": 11090,
         "CollegeCityTier": 1,
         "CollegeState": "Telangana",
         "GraduationYear": 2014,
         "English": 500,
         "Logical": 350,
         "Quant": 320,
         "Domain": 0.635978756456794,
         "ComputerProgramming": 445,
         "ElectronicsAndSemicon": -1,
         "ComputerScience": -1,
         "MechanicalEngg": -1,
         "ElectricalEngg": -1,
         "TelecomEngg": -1,
         "CivilEngg": -1,
         "conscientiousness": 1.5644,
         "agreeableness": 0.8784,
         "extraversion": 0.7785,
         "nueroticism": -1.5021,
         "openess_to_experience": 0.6721,
         "Salary": 300000,
         "_deepnote_index_column": 2989
        },
        {
         "ID": 320298,
         "Gender": "m",
         "DOB": "1989-01-11",
         "10percentage": 69.3,
         "10board": "board of secondary school education",
         "12graduation": 2006,
         "12percentage": 89.6,
         "12board": "board of intermeadiate education",
         "CollegeID": 5015,
         "CollegeTier": 2,
         "Degree": "MCA",
         "Specialization": "computer application",
         "collegeGPA": 74,
         "CollegeCityID": 5015,
         "CollegeCityTier": 0,
         "CollegeState": "Andhra Pradesh",
         "GraduationYear": 2012,
         "English": 405,
         "Logical": 455,
         "Quant": 555,
         "Domain": 0.670743151433127,
         "ComputerProgramming": 455,
         "ElectronicsAndSemicon": -1,
         "ComputerScience": -1,
         "MechanicalEngg": -1,
         "ElectricalEngg": -1,
         "TelecomEngg": -1,
         "CivilEngg": -1,
         "conscientiousness": -0.2628,
         "agreeableness": 0.2668,
         "extraversion": 0.5994,
         "nueroticism": -0.2902,
         "openess_to_experience": -1.0774,
         "Salary": 500000,
         "_deepnote_index_column": 2990
        },
        {
         "ID": 35346,
         "Gender": "m",
         "DOB": "1985-02-23",
         "10percentage": 70,
         "10board": "icse",
         "12graduation": 2003,
         "12percentage": 83.3,
         "12board": "isc",
         "CollegeID": 44,
         "CollegeTier": 2,
         "Degree": "MCA",
         "Specialization": "computer application",
         "collegeGPA": 68.5,
         "CollegeCityID": 44,
         "CollegeCityTier": 0,
         "CollegeState": "Uttar Pradesh",
         "GraduationYear": 2011,
         "English": 385,
         "Logical": 545,
         "Quant": 605,
         "Domain": 0.864685413370085,
         "ComputerProgramming": 525,
         "ElectronicsAndSemicon": -1,
         "ComputerScience": -1,
         "MechanicalEngg": -1,
         "ElectricalEngg": -1,
         "TelecomEngg": -1,
         "CivilEngg": -1,
         "conscientiousness": 0.0464,
         "agreeableness": 0.6568,
         "extraversion": 0.3817,
         "nueroticism": -0.7603,
         "openess_to_experience": -0.7615,
         "Salary": 445000,
         "_deepnote_index_column": 2991
        },
        {
         "ID": 114364,
         "Gender": "m",
         "DOB": "1986-02-08",
         "10percentage": 91,
         "10board": "0",
         "12graduation": 2003,
         "12percentage": 73,
         "12board": "0",
         "CollegeID": 1310,
         "CollegeTier": 2,
         "Degree": "MCA",
         "Specialization": "computer application",
         "collegeGPA": 85,
         "CollegeCityID": 1310,
         "CollegeCityTier": 0,
         "CollegeState": "Kerala",
         "GraduationYear": 2010,
         "English": 555,
         "Logical": 445,
         "Quant": 485,
         "Domain": 0.916869961103619,
         "ComputerProgramming": 555,
         "ElectronicsAndSemicon": -1,
         "ComputerScience": -1,
         "MechanicalEngg": -1,
         "ElectricalEngg": -1,
         "TelecomEngg": -1,
         "CivilEngg": -1,
         "conscientiousness": 0.8192,
         "agreeableness": 1.4368,
         "extraversion": -0.0537,
         "nueroticism": -1.8179,
         "openess_to_experience": 0.8183,
         "Salary": 400000,
         "_deepnote_index_column": 2992
        },
        {
         "ID": 103174,
         "Gender": "f",
         "DOB": "1989-04-17",
         "10percentage": 75,
         "10board": "0",
         "12graduation": 2005,
         "12percentage": 73,
         "12board": "0",
         "CollegeID": 1263,
         "CollegeTier": 2,
         "Degree": "B.Tech/B.E.",
         "Specialization": "electronics and communication engineering",
         "collegeGPA": 70,
         "CollegeCityID": 1263,
         "CollegeCityTier": 1,
         "CollegeState": "Tamil Nadu",
         "GraduationYear": 2010,
         "English": 505,
         "Logical": 485,
         "Quant": 445,
         "Domain": 0.538386892985096,
         "ComputerProgramming": 245,
         "ElectronicsAndSemicon": 333,
         "ComputerScience": -1,
         "MechanicalEngg": -1,
         "ElectricalEngg": -1,
         "TelecomEngg": -1,
         "CivilEngg": -1,
         "conscientiousness": -1.1901,
         "agreeableness": 0.9688,
         "extraversion": -1.0697,
         "nueroticism": 1.3549,
         "openess_to_experience": 0.0284,
         "Salary": 120000,
         "_deepnote_index_column": 2993
        },
        {
         "ID": 352811,
         "Gender": "f",
         "DOB": "1991-07-22",
         "10percentage": 84,
         "10board": "state board",
         "12graduation": 2008,
         "12percentage": 77,
         "12board": "state board",
         "CollegeID": 9481,
         "CollegeTier": 2,
         "Degree": "B.Tech/B.E.",
         "Specialization": "information technology",
         "collegeGPA": 75.2,
         "CollegeCityID": 9481,
         "CollegeCityTier": 0,
         "CollegeState": "Tamil Nadu",
         "GraduationYear": 2012,
         "English": 345,
         "Logical": 585,
         "Quant": 395,
         "Domain": 0.190153405601018,
         "ComputerProgramming": 315,
         "ElectronicsAndSemicon": -1,
         "ComputerScience": -1,
         "MechanicalEngg": -1,
         "ElectricalEngg": -1,
         "TelecomEngg": -1,
         "CivilEngg": -1,
         "conscientiousness": -0.1082,
         "agreeableness": 0.0328,
         "extraversion": -0.4891,
         "nueroticism": -0.2902,
         "openess_to_experience": 0.5024,
         "Salary": 120000,
         "_deepnote_index_column": 2994
        },
        {
         "ID": 287070,
         "Gender": "m",
         "DOB": "1988-11-24",
         "10percentage": 91.4,
         "10board": "bsemp",
         "12graduation": 2006,
         "12percentage": 65.56,
         "12board": "bsemp",
         "CollegeID": 547,
         "CollegeTier": 2,
         "Degree": "B.Tech/B.E.",
         "Specialization": "information technology",
         "collegeGPA": 73.19,
         "CollegeCityID": 547,
         "CollegeCityTier": 0,
         "CollegeState": "Madhya Pradesh",
         "GraduationYear": 2011,
         "English": 385,
         "Logical": 425,
         "Quant": 485,
         "Domain": 0.600057182338341,
         "ComputerProgramming": 435,
         "ElectronicsAndSemicon": -1,
         "ComputerScience": -1,
         "MechanicalEngg": -1,
         "ElectricalEngg": -1,
         "TelecomEngg": -1,
         "CivilEngg": -1,
         "conscientiousness": -0.880999999999999,
         "agreeableness": 0.1888,
         "extraversion": -0.344,
         "nueroticism": 0.0623,
         "openess_to_experience": 0.6603,
         "Salary": 385000,
         "_deepnote_index_column": 2995
        },
        {
         "ID": 317336,
         "Gender": "m",
         "DOB": "1988-08-25",
         "10percentage": 88.64,
         "10board": "karnataka education board",
         "12graduation": 2006,
         "12percentage": 65.16,
         "12board": "karnataka education board",
         "CollegeID": 1629,
         "CollegeTier": 2,
         "Degree": "B.Tech/B.E.",
         "Specialization": "computer engineering",
         "collegeGPA": 74.81,
         "CollegeCityID": 1629,
         "CollegeCityTier": 1,
         "CollegeState": "Karnataka",
         "GraduationYear": 2011,
         "English": 465,
         "Logical": 645,
         "Quant": 505,
         "Domain": 0.901489571371033,
         "ComputerProgramming": 545,
         "ElectronicsAndSemicon": -1,
         "ComputerScience": -1,
         "MechanicalEngg": -1,
         "ElectricalEngg": -1,
         "TelecomEngg": -1,
         "CivilEngg": -1,
         "conscientiousness": 1.4374,
         "agreeableness": 1.2808,
         "extraversion": -0.4891,
         "nueroticism": -1.46537,
         "openess_to_experience": 0.5419,
         "Salary": 530000,
         "_deepnote_index_column": 2996
        },
        {
         "ID": 993701,
         "Gender": "m",
         "DOB": "1992-05-27",
         "10percentage": 77,
         "10board": "state board",
         "12graduation": 2009,
         "12percentage": 75.5,
         "12board": "state board",
         "CollegeID": 1111,
         "CollegeTier": 2,
         "Degree": "B.Tech/B.E.",
         "Specialization": "information technology",
         "collegeGPA": 69.3,
         "CollegeCityID": 1111,
         "CollegeCityTier": 0,
         "CollegeState": "Tamil Nadu",
         "GraduationYear": 2013,
         "English": 370,
         "Logical": 390,
         "Quant": 285,
         "Domain": 0.486747008438193,
         "ComputerProgramming": 315,
         "ElectronicsAndSemicon": -1,
         "ComputerScience": 376,
         "MechanicalEngg": -1,
         "ElectricalEngg": -1,
         "TelecomEngg": -1,
         "CivilEngg": -1,
         "conscientiousness": -0.5899,
         "agreeableness": -1.9521,
         "extraversion": 0.3174,
         "nueroticism": 1.1601,
         "openess_to_experience": -2.3937,
         "Salary": 200000,
         "_deepnote_index_column": 2997
        }
       ]
      },
      "text/plain": "          ID Gender         DOB  10percentage                       10board  \\\n0     604399      f  1990-10-22         87.80                          cbse   \n1     988334      m  1990-05-15         57.00                          cbse   \n2     301647      m  1989-08-21         77.33  maharashtra state board,pune   \n3     582313      m  1991-05-04         84.30                          cbse   \n4     339001      f  1990-10-30         82.00                          cbse   \n...      ...    ...         ...           ...                           ...   \n2993  103174      f  1989-04-17         75.00                             0   \n2994  352811      f  1991-07-22         84.00                   state board   \n2995  287070      m  1988-11-24         91.40                         bsemp   \n2996  317336      m  1988-08-25         88.64     karnataka education board   \n2997  993701      m  1992-05-27         77.00                   state board   \n\n      12graduation  12percentage                    12board  CollegeID  \\\n0             2009         84.00                       cbse       6920   \n1             2010         64.50                       cbse       6624   \n2             2007         85.17  amravati divisional board       9084   \n3             2009         86.00                       cbse       8195   \n4             2008         75.00                       cbse       4889   \n...            ...           ...                        ...        ...   \n2993          2005         73.00                          0       1263   \n2994          2008         77.00                state board       9481   \n2995          2006         65.56                      bsemp        547   \n2996          2006         65.16  karnataka education board       1629   \n2997          2009         75.50                state board       1111   \n\n      CollegeTier  ... MechanicalEngg ElectricalEngg  TelecomEngg  CivilEngg  \\\n0               1  ...             -1             -1           -1         -1   \n1               2  ...             -1             -1           -1         -1   \n2               2  ...             -1             -1          260         -1   \n3               1  ...             -1             -1           -1         -1   \n4               2  ...             -1             -1           -1         -1   \n...           ...  ...            ...            ...          ...        ...   \n2993            2  ...             -1             -1           -1         -1   \n2994            2  ...             -1             -1           -1         -1   \n2995            2  ...             -1             -1           -1         -1   \n2996            2  ...             -1             -1           -1         -1   \n2997            2  ...             -1             -1           -1         -1   \n\n      conscientiousness agreeableness  extraversion  nueroticism  \\\n0               -0.1590        0.3789        1.2396      0.14590   \n1                1.1336        0.0459        1.2396      0.52620   \n2                0.5100       -0.1232        1.5428     -0.29020   \n3               -0.4463        0.2124        0.3174      0.27270   \n4               -1.4992       -0.7473       -1.0697      0.06223   \n...                 ...           ...           ...          ...   \n2993            -1.1901        0.9688       -1.0697      1.35490   \n2994            -0.1082        0.0328       -0.4891     -0.29020   \n2995            -0.8810        0.1888       -0.3440      0.06230   \n2996             1.4374        1.2808       -0.4891     -1.46537   \n2997            -0.5899       -1.9521        0.3174      1.16010   \n\n      openess_to_experience  Salary  \n0                    0.2889  445000  \n1                   -0.2859  110000  \n2                   -0.2875  255000  \n3                    0.4805  420000  \n4                    0.1864  200000  \n...                     ...     ...  \n2993                 0.0284  120000  \n2994                 0.5024  120000  \n2995                 0.6603  385000  \n2996                 0.5419  530000  \n2997                -2.3937  200000  \n\n[2998 rows x 34 columns]",
      "text/html": "<div>\n<style scoped>\n    .dataframe tbody tr th:only-of-type {\n        vertical-align: middle;\n    }\n\n    .dataframe tbody tr th {\n        vertical-align: top;\n    }\n\n    .dataframe thead th {\n        text-align: right;\n    }\n</style>\n<table border=\"1\" class=\"dataframe\">\n  <thead>\n    <tr style=\"text-align: right;\">\n      <th></th>\n      <th>ID</th>\n      <th>Gender</th>\n      <th>DOB</th>\n      <th>10percentage</th>\n      <th>10board</th>\n      <th>12graduation</th>\n      <th>12percentage</th>\n      <th>12board</th>\n      <th>CollegeID</th>\n      <th>CollegeTier</th>\n      <th>...</th>\n      <th>MechanicalEngg</th>\n      <th>ElectricalEngg</th>\n      <th>TelecomEngg</th>\n      <th>CivilEngg</th>\n      <th>conscientiousness</th>\n      <th>agreeableness</th>\n      <th>extraversion</th>\n      <th>nueroticism</th>\n      <th>openess_to_experience</th>\n      <th>Salary</th>\n    </tr>\n  </thead>\n  <tbody>\n    <tr>\n      <th>0</th>\n      <td>604399</td>\n      <td>f</td>\n      <td>1990-10-22</td>\n      <td>87.80</td>\n      <td>cbse</td>\n      <td>2009</td>\n      <td>84.00</td>\n      <td>cbse</td>\n      <td>6920</td>\n      <td>1</td>\n      <td>...</td>\n      <td>-1</td>\n      <td>-1</td>\n      <td>-1</td>\n      <td>-1</td>\n      <td>-0.1590</td>\n      <td>0.3789</td>\n      <td>1.2396</td>\n      <td>0.14590</td>\n      <td>0.2889</td>\n      <td>445000</td>\n    </tr>\n    <tr>\n      <th>1</th>\n      <td>988334</td>\n      <td>m</td>\n      <td>1990-05-15</td>\n      <td>57.00</td>\n      <td>cbse</td>\n      <td>2010</td>\n      <td>64.50</td>\n      <td>cbse</td>\n      <td>6624</td>\n      <td>2</td>\n      <td>...</td>\n      <td>-1</td>\n      <td>-1</td>\n      <td>-1</td>\n      <td>-1</td>\n      <td>1.1336</td>\n      <td>0.0459</td>\n      <td>1.2396</td>\n      <td>0.52620</td>\n      <td>-0.2859</td>\n      <td>110000</td>\n    </tr>\n    <tr>\n      <th>2</th>\n      <td>301647</td>\n      <td>m</td>\n      <td>1989-08-21</td>\n      <td>77.33</td>\n      <td>maharashtra state board,pune</td>\n      <td>2007</td>\n      <td>85.17</td>\n      <td>amravati divisional board</td>\n      <td>9084</td>\n      <td>2</td>\n      <td>...</td>\n      <td>-1</td>\n      <td>-1</td>\n      <td>260</td>\n      <td>-1</td>\n      <td>0.5100</td>\n      <td>-0.1232</td>\n      <td>1.5428</td>\n      <td>-0.29020</td>\n      <td>-0.2875</td>\n      <td>255000</td>\n    </tr>\n    <tr>\n      <th>3</th>\n      <td>582313</td>\n      <td>m</td>\n      <td>1991-05-04</td>\n      <td>84.30</td>\n      <td>cbse</td>\n      <td>2009</td>\n      <td>86.00</td>\n      <td>cbse</td>\n      <td>8195</td>\n      <td>1</td>\n      <td>...</td>\n      <td>-1</td>\n      <td>-1</td>\n      <td>-1</td>\n      <td>-1</td>\n      <td>-0.4463</td>\n      <td>0.2124</td>\n      <td>0.3174</td>\n      <td>0.27270</td>\n      <td>0.4805</td>\n      <td>420000</td>\n    </tr>\n    <tr>\n      <th>4</th>\n      <td>339001</td>\n      <td>f</td>\n      <td>1990-10-30</td>\n      <td>82.00</td>\n      <td>cbse</td>\n      <td>2008</td>\n      <td>75.00</td>\n      <td>cbse</td>\n      <td>4889</td>\n      <td>2</td>\n      <td>...</td>\n      <td>-1</td>\n      <td>-1</td>\n      <td>-1</td>\n      <td>-1</td>\n      <td>-1.4992</td>\n      <td>-0.7473</td>\n      <td>-1.0697</td>\n      <td>0.06223</td>\n      <td>0.1864</td>\n      <td>200000</td>\n    </tr>\n    <tr>\n      <th>...</th>\n      <td>...</td>\n      <td>...</td>\n      <td>...</td>\n      <td>...</td>\n      <td>...</td>\n      <td>...</td>\n      <td>...</td>\n      <td>...</td>\n      <td>...</td>\n      <td>...</td>\n      <td>...</td>\n      <td>...</td>\n      <td>...</td>\n      <td>...</td>\n      <td>...</td>\n      <td>...</td>\n      <td>...</td>\n      <td>...</td>\n      <td>...</td>\n      <td>...</td>\n      <td>...</td>\n    </tr>\n    <tr>\n      <th>2993</th>\n      <td>103174</td>\n      <td>f</td>\n      <td>1989-04-17</td>\n      <td>75.00</td>\n      <td>0</td>\n      <td>2005</td>\n      <td>73.00</td>\n      <td>0</td>\n      <td>1263</td>\n      <td>2</td>\n      <td>...</td>\n      <td>-1</td>\n      <td>-1</td>\n      <td>-1</td>\n      <td>-1</td>\n      <td>-1.1901</td>\n      <td>0.9688</td>\n      <td>-1.0697</td>\n      <td>1.35490</td>\n      <td>0.0284</td>\n      <td>120000</td>\n    </tr>\n    <tr>\n      <th>2994</th>\n      <td>352811</td>\n      <td>f</td>\n      <td>1991-07-22</td>\n      <td>84.00</td>\n      <td>state board</td>\n      <td>2008</td>\n      <td>77.00</td>\n      <td>state board</td>\n      <td>9481</td>\n      <td>2</td>\n      <td>...</td>\n      <td>-1</td>\n      <td>-1</td>\n      <td>-1</td>\n      <td>-1</td>\n      <td>-0.1082</td>\n      <td>0.0328</td>\n      <td>-0.4891</td>\n      <td>-0.29020</td>\n      <td>0.5024</td>\n      <td>120000</td>\n    </tr>\n    <tr>\n      <th>2995</th>\n      <td>287070</td>\n      <td>m</td>\n      <td>1988-11-24</td>\n      <td>91.40</td>\n      <td>bsemp</td>\n      <td>2006</td>\n      <td>65.56</td>\n      <td>bsemp</td>\n      <td>547</td>\n      <td>2</td>\n      <td>...</td>\n      <td>-1</td>\n      <td>-1</td>\n      <td>-1</td>\n      <td>-1</td>\n      <td>-0.8810</td>\n      <td>0.1888</td>\n      <td>-0.3440</td>\n      <td>0.06230</td>\n      <td>0.6603</td>\n      <td>385000</td>\n    </tr>\n    <tr>\n      <th>2996</th>\n      <td>317336</td>\n      <td>m</td>\n      <td>1988-08-25</td>\n      <td>88.64</td>\n      <td>karnataka education board</td>\n      <td>2006</td>\n      <td>65.16</td>\n      <td>karnataka education board</td>\n      <td>1629</td>\n      <td>2</td>\n      <td>...</td>\n      <td>-1</td>\n      <td>-1</td>\n      <td>-1</td>\n      <td>-1</td>\n      <td>1.4374</td>\n      <td>1.2808</td>\n      <td>-0.4891</td>\n      <td>-1.46537</td>\n      <td>0.5419</td>\n      <td>530000</td>\n    </tr>\n    <tr>\n      <th>2997</th>\n      <td>993701</td>\n      <td>m</td>\n      <td>1992-05-27</td>\n      <td>77.00</td>\n      <td>state board</td>\n      <td>2009</td>\n      <td>75.50</td>\n      <td>state board</td>\n      <td>1111</td>\n      <td>2</td>\n      <td>...</td>\n      <td>-1</td>\n      <td>-1</td>\n      <td>-1</td>\n      <td>-1</td>\n      <td>-0.5899</td>\n      <td>-1.9521</td>\n      <td>0.3174</td>\n      <td>1.16010</td>\n      <td>-2.3937</td>\n      <td>200000</td>\n    </tr>\n  </tbody>\n</table>\n<p>2998 rows × 34 columns</p>\n</div>"
     },
     "metadata": {}
    }
   ]
  },
  {
   "cell_type": "code",
   "metadata": {
    "tags": [],
    "cell_id": "00002-f276e67f-a8bf-4ff5-85ce-afcc98daa762",
    "deepnote_to_be_reexecuted": false,
    "source_hash": "8c523317",
    "execution_start": 1630902176651,
    "execution_millis": 7,
    "deepnote_cell_type": "code"
   },
   "source": "x = np.array(df['Logical'])\nx",
   "execution_count": 3,
   "outputs": [
    {
     "output_type": "execute_result",
     "execution_count": 3,
     "data": {
      "text/plain": "array([665, 435, 475, ..., 425, 645, 390])"
     },
     "metadata": {}
    }
   ]
  },
  {
   "cell_type": "code",
   "metadata": {
    "tags": [],
    "cell_id": "00003-027dd5c3-c12f-43eb-a99f-8d857f460193",
    "deepnote_to_be_reexecuted": false,
    "source_hash": "3017e833",
    "execution_start": 1630902177485,
    "execution_millis": 10,
    "deepnote_cell_type": "code"
   },
   "source": "y = np.array(df['Salary'])\ny",
   "execution_count": 4,
   "outputs": [
    {
     "output_type": "execute_result",
     "execution_count": 4,
     "data": {
      "text/plain": "array([445000, 110000, 255000, ..., 385000, 530000, 200000])"
     },
     "metadata": {}
    }
   ]
  },
  {
   "cell_type": "code",
   "metadata": {
    "tags": [],
    "cell_id": "00004-81893e83-c915-42c3-8fa4-0f19b1845aa0",
    "deepnote_to_be_reexecuted": false,
    "source_hash": "8a2d2a02",
    "execution_start": 1630902178788,
    "execution_millis": 295,
    "deepnote_cell_type": "code"
   },
   "source": "plt.scatter(x, y)",
   "execution_count": 5,
   "outputs": [
    {
     "output_type": "execute_result",
     "execution_count": 5,
     "data": {
      "text/plain": "<matplotlib.collections.PathCollection at 0x7f0bbeb62290>"
     },
     "metadata": {}
    },
    {
     "data": {
      "text/plain": "<Figure size 432x288 with 1 Axes>",
      "image/png": "[encoded data removed]"
     },
     "metadata": {
      "needs_background": "light",
      "image/png": {
       "width": 372,
       "height": 259
      }
     },
     "output_type": "display_data"
    }
   ]
  },
  {
   "cell_type": "code",
   "metadata": {
    "tags": [],
    "cell_id": "00005-f4b9c0cb-d1be-4134-8589-a8110bee6c71",
    "deepnote_to_be_reexecuted": false,
    "source_hash": "4f76ba4",
    "execution_start": 1630902549092,
    "execution_millis": 4,
    "deepnote_cell_type": "code"
   },
   "source": "class LinearModel:\n\n    def __init__(self, X, Y, lr, iterations):\n        self.x = X\n        self.y = Y\n        self.lr = lr\n        self.iterations = iterations\n        self.m = 1\n        self.c = 2\n\n    def hypo(self, x):\n        return self.m*(x) + self.c\n\n    def gradient_decent(self):\n\n        for i in range(self.iterations):\n\n            self.m = self.m - self.lr*sum([(self.hypo(x) - y[i])*x for i, x in enumerate(self.x)])\n            self.c = self.c - self.lr*sum([(self.hypo(x) - y[i]) for i, x in enumerate(self.x)])\n\n        return self.m, self.c",
   "execution_count": 8,
   "outputs": []
  },
  {
   "cell_type": "code",
   "source": "model = LinearModel(x, y, 0.000000001, 500)\nm, c = model.gradient_decent()",
   "metadata": {
    "tags": [],
    "cell_id": "00006-c29120ee-699b-4a22-9fac-2a03753d921f",
    "deepnote_to_be_reexecuted": false,
    "source_hash": "d0f78b2e",
    "execution_start": 1630903601330,
    "execution_millis": 5353,
    "deepnote_cell_type": "code"
   },
   "outputs": [],
   "execution_count": 43
  },
  {
   "cell_type": "code",
   "source": "plt.scatter(x, y)\nplt.plot(x, m*x + c, c='y')",
   "metadata": {
    "tags": [],
    "cell_id": "00007-190773d9-4156-4898-a32a-2025e93bf3b1",
    "deepnote_to_be_reexecuted": false,
    "source_hash": "f51009d2",
    "execution_start": 1630904713303,
    "execution_millis": 249,
    "deepnote_cell_type": "code"
   },
   "outputs": [
    {
     "output_type": "execute_result",
     "execution_count": 50,
     "data": {
      "text/plain": "[<matplotlib.lines.Line2D at 0x7f0bbc457750>]"
     },
     "metadata": {}
    },
    {
     "data": {
      "text/plain": "<Figure size 432x288 with 1 Axes>",
      "image/png": "[encoded data removed]"
     },
     "metadata": {
      "needs_background": "light",
      "image/png": {
       "width": 372,
       "height": 259
      }
     },
     "output_type": "display_data"
    }
   ],
   "execution_count": 50
  },
  {
   "cell_type": "code",
   "source": "model.hypo(665)",
   "metadata": {
    "tags": [],
    "cell_id": "00008-bc438357-7078-4da0-9f20-744f3d3b6519",
    "deepnote_to_be_reexecuted": false,
    "source_hash": "8b49ed91",
    "execution_start": 1630903611454,
    "execution_millis": 41,
    "deepnote_cell_type": "code"
   },
   "outputs": [
    {
     "output_type": "execute_result",
     "execution_count": 45,
     "data": {
      "text/plain": "402805.06022190186"
     },
     "metadata": {}
    }
   ],
   "execution_count": 45
  },
  {
   "cell_type": "code",
   "source": "class Stochastic:\n\n    def __init__(self, X, Y, lr, iterations):\n        self.x = X\n        self.y = Y\n        self.lr = lr\n        self.iterations = iterations\n        self.m = 2\n        self.c = 1\n\n    def hypo(self, x):\n        return self.m*(x) + self.c \n\n    def sgd(self):\n        current_itter = 0\n\n        while current_itter<self.iterations:\n            for i, x in enumerate(self.x):\n                hypo = self.m*(x) + self.c \n                self.m = self.m - self.lr*(hypo - self.y[i])*x\n                self.c = self.c - self.lr*(hypo - self.y[i])\n\n                current_itter+=1\n\n        return self.m, self.c",
   "metadata": {
    "tags": [],
    "cell_id": "00009-80e50a21-04f5-4781-a091-f0321ffe2908",
    "deepnote_to_be_reexecuted": false,
    "source_hash": "ea3df39f",
    "execution_start": 1630904611234,
    "execution_millis": 2,
    "deepnote_cell_type": "code"
   },
   "outputs": [],
   "execution_count": 47
  },
  {
   "cell_type": "code",
   "source": "mod = Stochastic(x, y, 0.000001, 5)\na, b = mod.sgd()",
   "metadata": {
    "tags": [],
    "cell_id": "00010-a306187f-18d4-4e53-8d1d-76d489d0cb22",
    "deepnote_to_be_reexecuted": false,
    "source_hash": "a25e7092",
    "execution_start": 1630904850392,
    "execution_millis": 10,
    "deepnote_cell_type": "code"
   },
   "outputs": [],
   "execution_count": 67
  },
  {
   "cell_type": "code",
   "source": "plt.scatter(x, y)\nplt.plot(x, a*x+b, color='red')",
   "metadata": {
    "tags": [],
    "cell_id": "00011-147aa2e8-4e20-4ecd-a267-e23add9d7dac",
    "deepnote_to_be_reexecuted": false,
    "source_hash": "6a31b55d",
    "execution_start": 1630904873720,
    "execution_millis": 191,
    "deepnote_cell_type": "code"
   },
   "outputs": [
    {
     "output_type": "execute_result",
     "execution_count": 70,
     "data": {
      "text/plain": "[<matplotlib.lines.Line2D at 0x7f0bb7fad3d0>]"
     },
     "metadata": {}
    },
    {
     "data": {
      "text/plain": "<Figure size 432x288 with 1 Axes>",
      "image/png": "[encoded data removed]"
     },
     "metadata": {
      "needs_background": "light",
      "image/png": {
       "width": 372,
       "height": 259
      }
     },
     "output_type": "display_data"
    }
   ],
   "execution_count": 70
  },
  {
   "cell_type": "code",
   "source": "mod.hypo(665)",
   "metadata": {
    "tags": [],
    "cell_id": "00012-cd75725d-ada0-4eef-a968-0cf4ddf8b00c",
    "deepnote_to_be_reexecuted": false,
    "source_hash": "10135761",
    "execution_start": 1630904877036,
    "execution_millis": 9,
    "deepnote_cell_type": "code"
   },
   "outputs": [
    {
     "output_type": "execute_result",
     "execution_count": 71,
     "data": {
      "text/plain": "440490.88759958994"
     },
     "metadata": {}
    }
   ],
   "execution_count": 71
  },
  {
   "cell_type": "code",
   "source": "",
   "metadata": {
    "tags": [],
    "cell_id": "00013-72916cc0-4fd0-4f91-acf1-afce6f61ff27",
    "deepnote_cell_type": "code"
   },
   "outputs": [],
   "execution_count": null
  },
  {
   "cell_type": "markdown",
   "source": "<a style='text-decoration:none;line-height:16px;display:flex;color:#5B5B62;padding:10px;justify-content:end;' href='https://deepnote.com?utm_source=created-in-deepnote-cell&projectId=22daa88b-589a-420f-85b8-f943004a8202' target=\"_blank\">\n<img alt='Created in deepnote.com' style='display:inline;max-height:16px;margin:0px;margin-right:7.5px;' src='data:image/svg+xml;base64,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' > </img>\nCreated in <span style='font-weight:600;margin-left:4px;'>Deepnote</span></a>",
   "metadata": {
    "tags": [],
    "created_in_deepnote_cell": true,
    "deepnote_cell_type": "markdown"
   }
  }
 ],
 "nbformat": 4,
 "nbformat_minor": 2,
 "metadata": {
  "orig_nbformat": 2,
  "deepnote": {
   "is_reactive": false
  },
  "deepnote_notebook_id": "9db88bd8-a239-4595-8eee-abccf40ae3fc",
  "deepnote_execution_queue": []
 }
}