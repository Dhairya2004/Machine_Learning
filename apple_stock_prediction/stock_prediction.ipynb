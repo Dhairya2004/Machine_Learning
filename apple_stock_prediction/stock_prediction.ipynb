{
 "cells": [
  {
   "cell_type": "code",
   "metadata": {
    "cell_id": "00000-0973c803-662a-4c76-9a57-886e2e2f4099",
    "deepnote_cell_type": "code"
   },
   "source": "",
   "execution_count": null,
   "outputs": []
  },
  {
   "cell_type": "code",
   "metadata": {
    "cell_id": "00001-ae54ddcf-cf6a-43e7-b32d-230bec08962f",
    "deepnote_to_be_reexecuted": false,
    "source_hash": "19064cee",
    "execution_start": 1628008646545,
    "execution_millis": 8,
    "deepnote_cell_type": "code"
   },
   "source": "import numpy as np\nimport pandas\nimport matplotlib.pyplot as plt \nimport yfinance as yf\nimport json",
   "execution_count": 2,
   "outputs": []
  },
  {
   "cell_type": "code",
   "metadata": {
    "cell_id": "00002-2c329def-9175-4407-8094-b5ab339c0a5a",
    "deepnote_to_be_reexecuted": false,
    "source_hash": "40c572b",
    "execution_start": 1628009477767,
    "execution_millis": 1829,
    "deepnote_cell_type": "code"
   },
   "source": "aapl = yf.Ticker(\"AAPL\")\nhist = aapl.history(period=\"100d\")\nprint(aapl.info)\n",
   "execution_count": 23,
   "outputs": [
    {
     "name": "stdout",
     "text": "{'zip': '95014', 'sector': 'Technology', 'fullTimeEmployees': 147000, 'longBusinessSummary': 'Apple Inc. designs, manufactures, and markets smartphones, personal computers, tablets, wearables, and accessories worldwide. It also sells various related services. The company offers iPhone, a line of smartphones; Mac, a line of personal computers; iPad, a line of multi-purpose tablets; and wearables, home, and accessories comprising AirPods, Apple TV, Apple Watch, Beats products, HomePod, iPod touch, and other Apple-branded and third-party accessories. It also provides AppleCare support services; cloud services store services; and operates various platforms, including the App Store, that allow customers to discover and download applications and digital content, such as books, music, video, games, and podcasts. In addition, the company offers various services, such as Apple Arcade, a game subscription service; Apple Music, which offers users a curated listening experience with on-demand radio stations; Apple News+, a subscription news and magazine service; Apple TV+, which offers exclusive original content; Apple Card, a co-branded credit card; and Apple Pay, a cashless payment service, as well as licenses its intellectual property. The company serves consumers, and small and mid-sized businesses; and the education, enterprise, and government markets. It sells and delivers third-party applications for its products through the App Store. The company also sells its products through its retail and online stores, and direct sales force; and third-party cellular network carriers, wholesalers, retailers, and resellers. Apple Inc. was founded in 1977 and is headquartered in Cupertino, California.', 'city': 'Cupertino', 'phone': '408-996-1010', 'state': 'CA', 'country': 'United States', 'companyOfficers': [], 'website': 'http://www.apple.com', 'maxAge': 1, 'address1': 'One Apple Park Way', 'industry': 'Consumer Electronics', 'ebitdaMargins': 0.31955, 'profitMargins': 0.25004, 'grossMargins': 0.41005, 'operatingCashflow': 104414003200, 'revenueGrowth': 0.364, 'operatingMargins': 0.28788, 'ebitda': 110934999040, 'targetLowPrice': 125, 'recommendationKey': 'buy', 'grossProfits': 104956000000, 'freeCashflow': 80625876992, 'targetMedianPrice': 160, 'currentPrice': 147.3866, 'earningsGrowth': 1, 'currentRatio': 1.062, 'returnOnAssets': 0.19302, 'numberOfAnalystOpinions': 39, 'targetMeanPrice': 159.34, 'debtToEquity': 210.782, 'returnOnEquity': 1.27125, 'targetHighPrice': 185, 'totalCash': 61696000000, 'totalDebt': 135491002368, 'totalRevenue': 347155005440, 'totalCashPerShare': 3.732, 'financialCurrency': 'USD', 'revenuePerShare': 20.61, 'quickRatio': 0.887, 'recommendationMean': 2, 'exchange': 'NMS', 'shortName': 'Apple Inc.', 'longName': 'Apple Inc.', 'exchangeTimezoneName': 'America/New_York', 'exchangeTimezoneShortName': 'EDT', 'isEsgPopulated': False, 'gmtOffSetMilliseconds': '-14400000', 'quoteType': 'EQUITY', 'symbol': 'AAPL', 'messageBoardId': 'finmb_24937', 'market': 'us_market', 'annualHoldingsTurnover': None, 'enterpriseToRevenue': 7.142, 'beta3Year': None, 'enterpriseToEbitda': 22.349, '52WeekChange': 0.3269503, 'morningStarRiskRating': None, 'forwardEps': 5.34, 'revenueQuarterlyGrowth': None, 'sharesOutstanding': 16530199552, 'fundInceptionDate': None, 'annualReportExpenseRatio': None, 'totalAssets': None, 'bookValue': 3.882, 'sharesShort': 96355309, 'sharesPercentSharesOut': 0.0058, 'fundFamily': None, 'lastFiscalYearEnd': 1601078400, 'heldPercentInstitutions': 0.59095, 'netIncomeToCommon': 86801997824, 'trailingEps': 5.108, 'lastDividendValue': 0.22, 'SandP52WeekChange': 0.3268249, 'priceToBook': 37.966667, 'heldPercentInsiders': 0.00068999996, 'nextFiscalYearEnd': 1664150400, 'yield': None, 'mostRecentQuarter': 1624665600, 'shortRatio': 1.14, 'sharesShortPreviousMonthDate': 1623715200, 'floatShares': 16513139929, 'beta': 1.20729, 'enterpriseValue': 2479264628736, 'priceHint': 2, 'threeYearAverageReturn': None, 'lastSplitDate': 1598832000, 'lastSplitFactor': '4:1', 'legalType': None, 'lastDividendDate': 1620345600, 'morningStarOverallRating': None, 'earningsQuarterlyGrowth': 0.932, 'priceToSalesTrailing12Months': 7.0179887, 'dateShortInterest': 1626307200, 'pegRatio': 1.53, 'ytdReturn': None, 'forwardPE': 27.600485, 'lastCapGain': None, 'shortPercentOfFloat': 0.0058, 'sharesShortPriorMonth': 108937943, 'impliedSharesOutstanding': None, 'category': None, 'fiveYearAverageReturn': None, 'previousClose': 145.52, 'regularMarketOpen': 145.81, 'twoHundredDayAverage': 131.52234, 'trailingAnnualDividendYield': 0.0057380428, 'payoutRatio': 0.16309999, 'volume24Hr': None, 'regularMarketDayHigh': 147.5283, 'navPrice': None, 'averageDailyVolume10Day': 81011733, 'regularMarketPreviousClose': 145.52, 'fiftyDayAverage': 140.58685, 'trailingAnnualDividendRate': 0.835, 'open': 145.81, 'toCurrency': None, 'averageVolume10days': 81011733, 'expireDate': None, 'algorithm': None, 'dividendRate': 0.88, 'exDividendDate': 1628208000, 'circulatingSupply': None, 'startDate': None, 'regularMarketDayLow': 145.18, 'currency': 'USD', 'trailingPE': 28.854073, 'regularMarketVolume': 37372908, 'lastMarket': None, 'maxSupply': None, 'openInterest': None, 'marketCap': 2436329897984, 'volumeAllCurrencies': None, 'strikePrice': None, 'averageVolume': 82813326, 'dayLow': 145.18, 'ask': 147.31, 'askSize': 1100, 'volume': 37372908, 'fiftyTwoWeekHigh': 150, 'fromCurrency': None, 'fiveYearAvgDividendYield': 1.29, 'fiftyTwoWeekLow': 103.1, 'bid': 147.3, 'tradeable': False, 'dividendYield': 0.006, 'bidSize': 900, 'dayHigh': 147.5283, 'regularMarketPrice': 147.3866, 'logo_url': 'https://logo.clearbit.com/apple.com'}\n",
     "output_type": "stream"
    }
   ]
  },
  {
   "cell_type": "code",
   "source": "df = yf.download(\"AAPL\", start=\"2021-01-01\", end=\"2021-08-01\")\ndf.to_csv('aapl.csv')",
   "metadata": {
    "tags": [],
    "cell_id": "00003-b03254f2-2a13-49be-82b1-218e4f64b2ae",
    "deepnote_to_be_reexecuted": false,
    "source_hash": "4f61d056",
    "execution_start": 1628009550982,
    "execution_millis": 117,
    "deepnote_cell_type": "code"
   },
   "outputs": [
    {
     "name": "stdout",
     "text": "[*********************100%***********************]  1 of 1 completed\n",
     "output_type": "stream"
    }
   ],
   "execution_count": 25
  },
  {
   "cell_type": "code",
   "source": "df",
   "metadata": {
    "tags": [],
    "cell_id": "00004-dc244d23-c799-4acf-81fa-2e6dcf088404",
    "deepnote_to_be_reexecuted": false,
    "source_hash": "f804c160",
    "execution_start": 1628009670415,
    "execution_millis": 45,
    "deepnote_cell_type": "code"
   },
   "outputs": [
    {
     "output_type": "execute_result",
     "execution_count": 26,
     "data": {
      "application/vnd.deepnote.dataframe.v2+json": {
       "row_count": 145,
       "column_count": 6,
       "columns": [
        {
         "name": "Open",
         "dtype": "float64",
         "stats": {
          "unique_count": 139,
          "nan_count": 0,
          "min": "119.02999877929688",
          "max": "149.24000549316406",
          "histogram": [
           {
            "bin_start": 119.02999877929688,
            "bin_end": 122.05099945068359,
            "count": 14
           },
           {
            "bin_start": 122.05099945068359,
            "bin_end": 125.0720001220703,
            "count": 20
           },
           {
            "bin_start": 125.0720001220703,
            "bin_end": 128.09300079345704,
            "count": 24
           },
           {
            "bin_start": 128.09300079345704,
            "bin_end": 131.11400146484374,
            "count": 21
           },
           {
            "bin_start": 131.11400146484374,
            "bin_end": 134.13500213623047,
            "count": 19
           },
           {
            "bin_start": 134.13500213623047,
            "bin_end": 137.1560028076172,
            "count": 22
           },
           {
            "bin_start": 137.1560028076172,
            "bin_end": 140.1770034790039,
            "count": 4
           },
           {
            "bin_start": 140.1770034790039,
            "bin_end": 143.19800415039063,
            "count": 3
           },
           {
            "bin_start": 143.19800415039063,
            "bin_end": 146.21900482177733,
            "count": 12
           },
           {
            "bin_start": 146.21900482177733,
            "bin_end": 149.24000549316406,
            "count": 6
           }
          ]
         }
        },
        {
         "name": "High",
         "dtype": "float64",
         "stats": {
          "unique_count": 140,
          "nan_count": 0,
          "min": "120.4000015258789",
          "max": "150.0",
          "histogram": [
           {
            "bin_start": 120.4000015258789,
            "bin_end": 123.36000137329101,
            "count": 13
           },
           {
            "bin_start": 123.36000137329101,
            "bin_end": 126.32000122070312,
            "count": 21
           },
           {
            "bin_start": 126.32000122070312,
            "bin_end": 129.28000106811524,
            "count": 21
           },
           {
            "bin_start": 129.28000106811524,
            "bin_end": 132.24000091552733,
            "count": 22
           },
           {
            "bin_start": 132.24000091552733,
            "bin_end": 135.20000076293945,
            "count": 22
           },
           {
            "bin_start": 135.20000076293945,
            "bin_end": 138.16000061035157,
            "count": 20
           },
           {
            "bin_start": 138.16000061035157,
            "bin_end": 141.12000045776367,
            "count": 3
           },
           {
            "bin_start": 141.12000045776367,
            "bin_end": 144.0800003051758,
            "count": 4
           },
           {
            "bin_start": 144.0800003051758,
            "bin_end": 147.04000015258788,
            "count": 10
           },
           {
            "bin_start": 147.04000015258788,
            "bin_end": 150,
            "count": 9
           }
          ]
         }
        },
        {
         "name": "Low",
         "dtype": "float64",
         "stats": {
          "unique_count": 143,
          "nan_count": 0,
          "min": "116.20999908447266",
          "max": "147.6999969482422",
          "histogram": [
           {
            "bin_start": 116.20999908447266,
            "bin_end": 119.3589988708496,
            "count": 9
           },
           {
            "bin_start": 119.3589988708496,
            "bin_end": 122.50799865722657,
            "count": 17
           },
           {
            "bin_start": 122.50799865722657,
            "bin_end": 125.65699844360351,
            "count": 21
           },
           {
            "bin_start": 125.65699844360351,
            "bin_end": 128.80599822998047,
            "count": 28
           },
           {
            "bin_start": 128.80599822998047,
            "bin_end": 131.95499801635742,
            "count": 19
           },
           {
            "bin_start": 131.95499801635742,
            "bin_end": 135.10399780273437,
            "count": 23
           },
           {
            "bin_start": 135.10399780273437,
            "bin_end": 138.25299758911132,
            "count": 7
           },
           {
            "bin_start": 138.25299758911132,
            "bin_end": 141.4019973754883,
            "count": 4
           },
           {
            "bin_start": 141.4019973754883,
            "bin_end": 144.55099716186524,
            "count": 8
           },
           {
            "bin_start": 144.55099716186524,
            "bin_end": 147.6999969482422,
            "count": 9
           }
          ]
         }
        },
        {
         "name": "Close",
         "dtype": "float64",
         "stats": {
          "unique_count": 140,
          "nan_count": 0,
          "min": "116.36000061035156",
          "max": "149.14999389648438",
          "histogram": [
           {
            "bin_start": 116.36000061035156,
            "bin_end": 119.63899993896484,
            "count": 1
           },
           {
            "bin_start": 119.63899993896484,
            "bin_end": 122.91799926757812,
            "count": 19
           },
           {
            "bin_start": 122.91799926757812,
            "bin_end": 126.1969985961914,
            "count": 23
           },
           {
            "bin_start": 126.1969985961914,
            "bin_end": 129.4759979248047,
            "count": 22
           },
           {
            "bin_start": 129.4759979248047,
            "bin_end": 132.75499725341797,
            "count": 23
           },
           {
            "bin_start": 132.75499725341797,
            "bin_end": 136.03399658203125,
            "count": 25
           },
           {
            "bin_start": 136.03399658203125,
            "bin_end": 139.31299591064453,
            "count": 9
           },
           {
            "bin_start": 139.31299591064453,
            "bin_end": 142.5919952392578,
            "count": 4
           },
           {
            "bin_start": 142.5919952392578,
            "bin_end": 145.8709945678711,
            "count": 11
           },
           {
            "bin_start": 145.8709945678711,
            "bin_end": 149.14999389648438,
            "count": 8
           }
          ]
         }
        },
        {
         "name": "Adj Close",
         "dtype": "float64",
         "stats": {
          "unique_count": 143,
          "nan_count": 0,
          "min": "116.16268920898438",
          "max": "149.14999389648438",
          "histogram": [
           {
            "bin_start": 116.16268920898438,
            "bin_end": 119.46141967773437,
            "count": 1
           },
           {
            "bin_start": 119.46141967773437,
            "bin_end": 122.76015014648438,
            "count": 18
           },
           {
            "bin_start": 122.76015014648438,
            "bin_end": 126.05888061523437,
            "count": 24
           },
           {
            "bin_start": 126.05888061523437,
            "bin_end": 129.35761108398438,
            "count": 22
           },
           {
            "bin_start": 129.35761108398438,
            "bin_end": 132.65634155273438,
            "count": 23
           },
           {
            "bin_start": 132.65634155273438,
            "bin_end": 135.95507202148437,
            "count": 25
           },
           {
            "bin_start": 135.95507202148437,
            "bin_end": 139.25380249023436,
            "count": 9
           },
           {
            "bin_start": 139.25380249023436,
            "bin_end": 142.5525329589844,
            "count": 5
           },
           {
            "bin_start": 142.5525329589844,
            "bin_end": 145.85126342773438,
            "count": 9
           },
           {
            "bin_start": 145.85126342773438,
            "bin_end": 149.14999389648438,
            "count": 9
           }
          ]
         }
        },
        {
         "name": "Volume",
         "dtype": "int64",
         "stats": {
          "unique_count": 145,
          "nan_count": 0,
          "min": "52485800",
          "max": "185549500",
          "histogram": [
           {
            "bin_start": 52485800,
            "bin_end": 65792170,
            "count": 15
           },
           {
            "bin_start": 65792170,
            "bin_end": 79098540,
            "count": 32
           },
           {
            "bin_start": 79098540,
            "bin_end": 92404910,
            "count": 30
           },
           {
            "bin_start": 92404910,
            "bin_end": 105711280,
            "count": 26
           },
           {
            "bin_start": 105711280,
            "bin_end": 119017650,
            "count": 21
           },
           {
            "bin_start": 119017650,
            "bin_end": 132324020,
            "count": 6
           },
           {
            "bin_start": 132324020,
            "bin_end": 145630390,
            "count": 4
           },
           {
            "bin_start": 145630390,
            "bin_end": 158936760,
            "count": 7
           },
           {
            "bin_start": 158936760,
            "bin_end": 172243130,
            "count": 1
           },
           {
            "bin_start": 172243130,
            "bin_end": 185549500,
            "count": 3
           }
          ]
         }
        },
        {
         "name": "_deepnote_index_column",
         "dtype": "datetime64[ns]"
        }
       ],
       "rows_top": [
        {
         "Open": 133.52000427246094,
         "High": 133.61000061035156,
         "Low": 126.76000213623047,
         "Close": 129.41000366210938,
         "Adj Close": 128.997802734375,
         "Volume": 143301900,
         "_deepnote_index_column": "2021-01-04T00:00:00.000000"
        },
        {
         "Open": 128.88999938964844,
         "High": 131.74000549316406,
         "Low": 128.42999267578125,
         "Close": 131.00999450683594,
         "Adj Close": 130.5926971435547,
         "Volume": 97664900,
         "_deepnote_index_column": "2021-01-05T00:00:00.000000"
        },
        {
         "Open": 127.72000122070312,
         "High": 131.0500030517578,
         "Low": 126.37999725341797,
         "Close": 126.5999984741211,
         "Adj Close": 126.19674682617188,
         "Volume": 155088000,
         "_deepnote_index_column": "2021-01-06T00:00:00.000000"
        },
        {
         "Open": 128.36000061035156,
         "High": 131.6300048828125,
         "Low": 127.86000061035156,
         "Close": 130.9199981689453,
         "Adj Close": 130.50299072265625,
         "Volume": 109578200,
         "_deepnote_index_column": "2021-01-07T00:00:00.000000"
        },
        {
         "Open": 132.42999267578125,
         "High": 132.6300048828125,
         "Low": 130.22999572753906,
         "Close": 132.0500030517578,
         "Adj Close": 131.62937927246094,
         "Volume": 105158200,
         "_deepnote_index_column": "2021-01-08T00:00:00.000000"
        },
        {
         "Open": 129.19000244140625,
         "High": 130.1699981689453,
         "Low": 128.5,
         "Close": 128.97999572753906,
         "Adj Close": 128.5691680908203,
         "Volume": 100384500,
         "_deepnote_index_column": "2021-01-11T00:00:00.000000"
        },
        {
         "Open": 128.5,
         "High": 129.69000244140625,
         "Low": 126.86000061035156,
         "Close": 128.8000030517578,
         "Adj Close": 128.38973999023438,
         "Volume": 91951100,
         "_deepnote_index_column": "2021-01-12T00:00:00.000000"
        },
        {
         "Open": 128.75999450683594,
         "High": 131.4499969482422,
         "Low": 128.49000549316406,
         "Close": 130.88999938964844,
         "Adj Close": 130.47308349609375,
         "Volume": 88636800,
         "_deepnote_index_column": "2021-01-13T00:00:00.000000"
        },
        {
         "Open": 130.8000030517578,
         "High": 131,
         "Low": 128.75999450683594,
         "Close": 128.91000366210938,
         "Adj Close": 128.49940490722656,
         "Volume": 90221800,
         "_deepnote_index_column": "2021-01-14T00:00:00.000000"
        },
        {
         "Open": 128.77999877929688,
         "High": 130.22000122070312,
         "Low": 127,
         "Close": 127.13999938964844,
         "Adj Close": 126.73502349853516,
         "Volume": 111598500,
         "_deepnote_index_column": "2021-01-15T00:00:00.000000"
        },
        {
         "Open": 127.77999877929688,
         "High": 128.7100067138672,
         "Low": 126.94000244140625,
         "Close": 127.83000183105469,
         "Adj Close": 127.4228286743164,
         "Volume": 90757300,
         "_deepnote_index_column": "2021-01-19T00:00:00.000000"
        },
        {
         "Open": 128.66000366210938,
         "High": 132.49000549316406,
         "Low": 128.5500030517578,
         "Close": 132.02999877929688,
         "Adj Close": 131.6094512939453,
         "Volume": 104319500,
         "_deepnote_index_column": "2021-01-20T00:00:00.000000"
        },
        {
         "Open": 133.8000030517578,
         "High": 139.6699981689453,
         "Low": 133.58999633789062,
         "Close": 136.8699951171875,
         "Adj Close": 136.43402099609375,
         "Volume": 120150900,
         "_deepnote_index_column": "2021-01-21T00:00:00.000000"
        },
        {
         "Open": 136.27999877929688,
         "High": 139.85000610351562,
         "Low": 135.02000427246094,
         "Close": 139.07000732421875,
         "Adj Close": 138.6270294189453,
         "Volume": 114459400,
         "_deepnote_index_column": "2021-01-22T00:00:00.000000"
        },
        {
         "Open": 143.07000732421875,
         "High": 145.08999633789062,
         "Low": 136.5399932861328,
         "Close": 142.9199981689453,
         "Adj Close": 142.4647674560547,
         "Volume": 157611700,
         "_deepnote_index_column": "2021-01-25T00:00:00.000000"
        },
        {
         "Open": 143.60000610351562,
         "High": 144.3000030517578,
         "Low": 141.3699951171875,
         "Close": 143.16000366210938,
         "Adj Close": 142.70401000976562,
         "Volume": 98390600,
         "_deepnote_index_column": "2021-01-26T00:00:00.000000"
        },
        {
         "Open": 143.42999267578125,
         "High": 144.3000030517578,
         "Low": 140.41000366210938,
         "Close": 142.05999755859375,
         "Adj Close": 141.60751342773438,
         "Volume": 140843800,
         "_deepnote_index_column": "2021-01-27T00:00:00.000000"
        },
        {
         "Open": 139.52000427246094,
         "High": 141.99000549316406,
         "Low": 136.6999969482422,
         "Close": 137.08999633789062,
         "Adj Close": 136.65333557128906,
         "Volume": 142621100,
         "_deepnote_index_column": "2021-01-28T00:00:00.000000"
        },
        {
         "Open": 135.8300018310547,
         "High": 136.74000549316406,
         "Low": 130.2100067138672,
         "Close": 131.9600067138672,
         "Adj Close": 131.5396728515625,
         "Volume": 177523800,
         "_deepnote_index_column": "2021-01-29T00:00:00.000000"
        },
        {
         "Open": 133.75,
         "High": 135.3800048828125,
         "Low": 130.92999267578125,
         "Close": 134.13999938964844,
         "Adj Close": 133.7127227783203,
         "Volume": 106239800,
         "_deepnote_index_column": "2021-02-01T00:00:00.000000"
        },
        {
         "Open": 135.72999572753906,
         "High": 136.30999755859375,
         "Low": 134.61000061035156,
         "Close": 134.99000549316406,
         "Adj Close": 134.56002807617188,
         "Volume": 83305400,
         "_deepnote_index_column": "2021-02-02T00:00:00.000000"
        },
        {
         "Open": 135.75999450683594,
         "High": 135.77000427246094,
         "Low": 133.61000061035156,
         "Close": 133.94000244140625,
         "Adj Close": 133.5133819580078,
         "Volume": 89880900,
         "_deepnote_index_column": "2021-02-03T00:00:00.000000"
        },
        {
         "Open": 136.3000030517578,
         "High": 137.39999389648438,
         "Low": 134.58999633789062,
         "Close": 137.38999938964844,
         "Adj Close": 136.95237731933594,
         "Volume": 84183100,
         "_deepnote_index_column": "2021-02-04T00:00:00.000000"
        },
        {
         "Open": 137.35000610351562,
         "High": 137.4199981689453,
         "Low": 135.86000061035156,
         "Close": 136.75999450683594,
         "Adj Close": 136.52809143066406,
         "Volume": 75693800,
         "_deepnote_index_column": "2021-02-05T00:00:00.000000"
        },
        {
         "Open": 136.02999877929688,
         "High": 136.9600067138672,
         "Low": 134.9199981689453,
         "Close": 136.91000366210938,
         "Adj Close": 136.67784118652344,
         "Volume": 71297200,
         "_deepnote_index_column": "2021-02-08T00:00:00.000000"
        },
        {
         "Open": 136.6199951171875,
         "High": 137.8800048828125,
         "Low": 135.85000610351562,
         "Close": 136.00999450683594,
         "Adj Close": 135.77935791015625,
         "Volume": 76774200,
         "_deepnote_index_column": "2021-02-09T00:00:00.000000"
        },
        {
         "Open": 136.47999572753906,
         "High": 136.99000549316406,
         "Low": 134.39999389648438,
         "Close": 135.38999938964844,
         "Adj Close": 135.16041564941406,
         "Volume": 73046600,
         "_deepnote_index_column": "2021-02-10T00:00:00.000000"
        },
        {
         "Open": 135.89999389648438,
         "High": 136.38999938964844,
         "Low": 133.77000427246094,
         "Close": 135.1300048828125,
         "Adj Close": 134.90086364746094,
         "Volume": 64280000,
         "_deepnote_index_column": "2021-02-11T00:00:00.000000"
        },
        {
         "Open": 134.35000610351562,
         "High": 135.52999877929688,
         "Low": 133.69000244140625,
         "Close": 135.3699951171875,
         "Adj Close": 135.14044189453125,
         "Volume": 60145100,
         "_deepnote_index_column": "2021-02-12T00:00:00.000000"
        },
        {
         "Open": 135.49000549316406,
         "High": 136.00999450683594,
         "Low": 132.7899932861328,
         "Close": 133.19000244140625,
         "Adj Close": 132.9641571044922,
         "Volume": 80576300,
         "_deepnote_index_column": "2021-02-16T00:00:00.000000"
        },
        {
         "Open": 131.25,
         "High": 132.22000122070312,
         "Low": 129.47000122070312,
         "Close": 130.83999633789062,
         "Adj Close": 130.61813354492188,
         "Volume": 97918500,
         "_deepnote_index_column": "2021-02-17T00:00:00.000000"
        },
        {
         "Open": 129.1999969482422,
         "High": 130,
         "Low": 127.41000366210938,
         "Close": 129.7100067138672,
         "Adj Close": 129.49005126953125,
         "Volume": 96856700,
         "_deepnote_index_column": "2021-02-18T00:00:00.000000"
        },
        {
         "Open": 130.24000549316406,
         "High": 130.7100067138672,
         "Low": 128.8000030517578,
         "Close": 129.8699951171875,
         "Adj Close": 129.6497802734375,
         "Volume": 87668800,
         "_deepnote_index_column": "2021-02-19T00:00:00.000000"
        },
        {
         "Open": 128.00999450683594,
         "High": 129.72000122070312,
         "Low": 125.5999984741211,
         "Close": 126,
         "Adj Close": 125.78634643554688,
         "Volume": 103916400,
         "_deepnote_index_column": "2021-02-22T00:00:00.000000"
        },
        {
         "Open": 123.76000213623047,
         "High": 126.70999908447266,
         "Low": 118.38999938964844,
         "Close": 125.86000061035156,
         "Adj Close": 125.6465835571289,
         "Volume": 158273000,
         "_deepnote_index_column": "2021-02-23T00:00:00.000000"
        },
        {
         "Open": 124.94000244140625,
         "High": 125.55999755859375,
         "Low": 122.2300033569336,
         "Close": 125.3499984741211,
         "Adj Close": 125.13744354248047,
         "Volume": 111039900,
         "_deepnote_index_column": "2021-02-24T00:00:00.000000"
        },
        {
         "Open": 124.68000030517578,
         "High": 126.45999908447266,
         "Low": 120.54000091552734,
         "Close": 120.98999786376953,
         "Adj Close": 120.78483581542969,
         "Volume": 148199500,
         "_deepnote_index_column": "2021-02-25T00:00:00.000000"
        },
        {
         "Open": 122.58999633789062,
         "High": 124.8499984741211,
         "Low": 121.19999694824219,
         "Close": 121.26000213623047,
         "Adj Close": 121.05438232421875,
         "Volume": 164560400,
         "_deepnote_index_column": "2021-02-26T00:00:00.000000"
        },
        {
         "Open": 123.75,
         "High": 127.93000030517578,
         "Low": 122.79000091552734,
         "Close": 127.79000091552734,
         "Adj Close": 127.57331085205078,
         "Volume": 116307900,
         "_deepnote_index_column": "2021-03-01T00:00:00.000000"
        },
        {
         "Open": 128.41000366210938,
         "High": 128.72000122070312,
         "Low": 125.01000213623047,
         "Close": 125.12000274658203,
         "Adj Close": 124.9078369140625,
         "Volume": 102260900,
         "_deepnote_index_column": "2021-03-02T00:00:00.000000"
        },
        {
         "Open": 124.80999755859375,
         "High": 125.70999908447266,
         "Low": 121.83999633789062,
         "Close": 122.05999755859375,
         "Adj Close": 121.85301971435547,
         "Volume": 112966300,
         "_deepnote_index_column": "2021-03-03T00:00:00.000000"
        },
        {
         "Open": 121.75,
         "High": 123.5999984741211,
         "Low": 118.62000274658203,
         "Close": 120.12999725341797,
         "Adj Close": 119.9262924194336,
         "Volume": 178155000,
         "_deepnote_index_column": "2021-03-04T00:00:00.000000"
        },
        {
         "Open": 120.9800033569336,
         "High": 121.94000244140625,
         "Low": 117.56999969482422,
         "Close": 121.41999816894531,
         "Adj Close": 121.21410369873047,
         "Volume": 153766600,
         "_deepnote_index_column": "2021-03-05T00:00:00.000000"
        },
        {
         "Open": 120.93000030517578,
         "High": 121,
         "Low": 116.20999908447266,
         "Close": 116.36000061035156,
         "Adj Close": 116.16268920898438,
         "Volume": 154376600,
         "_deepnote_index_column": "2021-03-08T00:00:00.000000"
        },
        {
         "Open": 119.02999877929688,
         "High": 122.05999755859375,
         "Low": 118.79000091552734,
         "Close": 121.08999633789062,
         "Adj Close": 120.8846664428711,
         "Volume": 129525800,
         "_deepnote_index_column": "2021-03-09T00:00:00.000000"
        },
        {
         "Open": 121.69000244140625,
         "High": 122.16999816894531,
         "Low": 119.44999694824219,
         "Close": 119.9800033569336,
         "Adj Close": 119.77655792236328,
         "Volume": 111943300,
         "_deepnote_index_column": "2021-03-10T00:00:00.000000"
        },
        {
         "Open": 122.54000091552734,
         "High": 123.20999908447266,
         "Low": 121.26000213623047,
         "Close": 121.95999908447266,
         "Adj Close": 121.75318908691406,
         "Volume": 103026500,
         "_deepnote_index_column": "2021-03-11T00:00:00.000000"
        },
        {
         "Open": 120.4000015258789,
         "High": 121.16999816894531,
         "Low": 119.16000366210938,
         "Close": 121.02999877929688,
         "Adj Close": 120.82476806640625,
         "Volume": 88105100,
         "_deepnote_index_column": "2021-03-12T00:00:00.000000"
        },
        {
         "Open": 121.41000366210938,
         "High": 124,
         "Low": 120.41999816894531,
         "Close": 123.98999786376953,
         "Adj Close": 123.77974700927734,
         "Volume": 92403800,
         "_deepnote_index_column": "2021-03-15T00:00:00.000000"
        },
        {
         "Open": 125.69999694824219,
         "High": 127.22000122070312,
         "Low": 124.72000122070312,
         "Close": 125.56999969482422,
         "Adj Close": 125.35707092285156,
         "Volume": 115227900,
         "_deepnote_index_column": "2021-03-16T00:00:00.000000"
        },
        {
         "Open": 124.05000305175781,
         "High": 125.86000061035156,
         "Low": 122.33999633789062,
         "Close": 124.76000213623047,
         "Adj Close": 124.54844665527344,
         "Volume": 111932600,
         "_deepnote_index_column": "2021-03-17T00:00:00.000000"
        },
        {
         "Open": 122.87999725341797,
         "High": 123.18000030517578,
         "Low": 120.31999969482422,
         "Close": 120.52999877929688,
         "Adj Close": 120.32561492919922,
         "Volume": 121229700,
         "_deepnote_index_column": "2021-03-18T00:00:00.000000"
        },
        {
         "Open": 119.9000015258789,
         "High": 121.43000030517578,
         "Low": 119.68000030517578,
         "Close": 119.98999786376953,
         "Adj Close": 119.78652954101562,
         "Volume": 185549500,
         "_deepnote_index_column": "2021-03-19T00:00:00.000000"
        },
        {
         "Open": 120.33000183105469,
         "High": 123.87000274658203,
         "Low": 120.26000213623047,
         "Close": 123.38999938964844,
         "Adj Close": 123.18077087402344,
         "Volume": 111912300,
         "_deepnote_index_column": "2021-03-22T00:00:00.000000"
        },
        {
         "Open": 123.33000183105469,
         "High": 124.23999786376953,
         "Low": 122.13999938964844,
         "Close": 122.54000091552734,
         "Adj Close": 122.33221435546875,
         "Volume": 95467100,
         "_deepnote_index_column": "2021-03-23T00:00:00.000000"
        },
        {
         "Open": 122.81999969482422,
         "High": 122.9000015258789,
         "Low": 120.06999969482422,
         "Close": 120.08999633789062,
         "Adj Close": 119.88636016845703,
         "Volume": 88530500,
         "_deepnote_index_column": "2021-03-24T00:00:00.000000"
        },
        {
         "Open": 119.54000091552734,
         "High": 121.66000366210938,
         "Low": 119,
         "Close": 120.58999633789062,
         "Adj Close": 120.38551330566406,
         "Volume": 98844700,
         "_deepnote_index_column": "2021-03-25T00:00:00.000000"
        },
        {
         "Open": 120.3499984741211,
         "High": 121.4800033569336,
         "Low": 118.91999816894531,
         "Close": 121.20999908447266,
         "Adj Close": 121.00446319580078,
         "Volume": 94071200,
         "_deepnote_index_column": "2021-03-26T00:00:00.000000"
        },
        {
         "Open": 121.6500015258789,
         "High": 122.58000183105469,
         "Low": 120.7300033569336,
         "Close": 121.38999938964844,
         "Adj Close": 121.18415832519531,
         "Volume": 80819200,
         "_deepnote_index_column": "2021-03-29T00:00:00.000000"
        },
        {
         "Open": 120.11000061035156,
         "High": 120.4000015258789,
         "Low": 118.86000061035156,
         "Close": 119.9000015258789,
         "Adj Close": 119.69668579101562,
         "Volume": 85671900,
         "_deepnote_index_column": "2021-03-30T00:00:00.000000"
        },
        {
         "Open": 121.6500015258789,
         "High": 123.5199966430664,
         "Low": 121.1500015258789,
         "Close": 122.1500015258789,
         "Adj Close": 121.94287109375,
         "Volume": 118323800,
         "_deepnote_index_column": "2021-03-31T00:00:00.000000"
        },
        {
         "Open": 123.66000366210938,
         "High": 124.18000030517578,
         "Low": 122.48999786376953,
         "Close": 123,
         "Adj Close": 122.79142761230469,
         "Volume": 75089100,
         "_deepnote_index_column": "2021-04-01T00:00:00.000000"
        },
        {
         "Open": 123.87000274658203,
         "High": 126.16000366210938,
         "Low": 123.06999969482422,
         "Close": 125.9000015258789,
         "Adj Close": 125.68651580810547,
         "Volume": 88651200,
         "_deepnote_index_column": "2021-04-05T00:00:00.000000"
        },
        {
         "Open": 126.5,
         "High": 127.12999725341797,
         "Low": 125.6500015258789,
         "Close": 126.20999908447266,
         "Adj Close": 125.99598693847656,
         "Volume": 80171300,
         "_deepnote_index_column": "2021-04-06T00:00:00.000000"
        },
        {
         "Open": 125.83000183105469,
         "High": 127.91999816894531,
         "Low": 125.13999938964844,
         "Close": 127.9000015258789,
         "Adj Close": 127.68312072753906,
         "Volume": 83466700,
         "_deepnote_index_column": "2021-04-07T00:00:00.000000"
        },
        {
         "Open": 128.9499969482422,
         "High": 130.38999938964844,
         "Low": 128.52000427246094,
         "Close": 130.36000061035156,
         "Adj Close": 130.13894653320312,
         "Volume": 88844600,
         "_deepnote_index_column": "2021-04-08T00:00:00.000000"
        },
        {
         "Open": 129.8000030517578,
         "High": 133.0399932861328,
         "Low": 129.47000122070312,
         "Close": 133,
         "Adj Close": 132.77447509765625,
         "Volume": 106686700,
         "_deepnote_index_column": "2021-04-09T00:00:00.000000"
        },
        {
         "Open": 132.52000427246094,
         "High": 132.85000610351562,
         "Low": 130.6300048828125,
         "Close": 131.24000549316406,
         "Adj Close": 131.0174560546875,
         "Volume": 91420000,
         "_deepnote_index_column": "2021-04-12T00:00:00.000000"
        },
        {
         "Open": 132.44000244140625,
         "High": 134.66000366210938,
         "Low": 131.92999267578125,
         "Close": 134.42999267578125,
         "Adj Close": 134.20204162597656,
         "Volume": 91266500,
         "_deepnote_index_column": "2021-04-13T00:00:00.000000"
        },
        {
         "Open": 134.94000244140625,
         "High": 135,
         "Low": 131.66000366210938,
         "Close": 132.02999877929688,
         "Adj Close": 131.80612182617188,
         "Volume": 87222800,
         "_deepnote_index_column": "2021-04-14T00:00:00.000000"
        },
        {
         "Open": 133.82000732421875,
         "High": 135,
         "Low": 133.63999938964844,
         "Close": 134.5,
         "Adj Close": 134.2719268798828,
         "Volume": 89347100,
         "_deepnote_index_column": "2021-04-15T00:00:00.000000"
        },
        {
         "Open": 134.3000030517578,
         "High": 134.6699981689453,
         "Low": 133.27999877929688,
         "Close": 134.16000366210938,
         "Adj Close": 133.93251037597656,
         "Volume": 84922400,
         "_deepnote_index_column": "2021-04-16T00:00:00.000000"
        },
        {
         "Open": 133.50999450683594,
         "High": 135.47000122070312,
         "Low": 133.33999633789062,
         "Close": 134.83999633789062,
         "Adj Close": 134.61134338378906,
         "Volume": 94264200,
         "_deepnote_index_column": "2021-04-19T00:00:00.000000"
        },
        {
         "Open": 135.02000427246094,
         "High": 135.52999877929688,
         "Low": 131.80999755859375,
         "Close": 133.11000061035156,
         "Adj Close": 132.88429260253906,
         "Volume": 94812300,
         "_deepnote_index_column": "2021-04-20T00:00:00.000000"
        },
        {
         "Open": 132.36000061035156,
         "High": 133.75,
         "Low": 131.3000030517578,
         "Close": 133.5,
         "Adj Close": 133.27362060546875,
         "Volume": 68847100,
         "_deepnote_index_column": "2021-04-21T00:00:00.000000"
        },
        {
         "Open": 133.0399932861328,
         "High": 134.14999389648438,
         "Low": 131.41000366210938,
         "Close": 131.94000244140625,
         "Adj Close": 131.71627807617188,
         "Volume": 84566500,
         "_deepnote_index_column": "2021-04-22T00:00:00.000000"
        },
        {
         "Open": 132.16000366210938,
         "High": 135.1199951171875,
         "Low": 132.16000366210938,
         "Close": 134.32000732421875,
         "Adj Close": 134.0922393798828,
         "Volume": 78657500,
         "_deepnote_index_column": "2021-04-23T00:00:00.000000"
        },
        {
         "Open": 134.8300018310547,
         "High": 135.05999755859375,
         "Low": 133.55999755859375,
         "Close": 134.72000122070312,
         "Adj Close": 134.49156188964844,
         "Volume": 66905100,
         "_deepnote_index_column": "2021-04-26T00:00:00.000000"
        },
        {
         "Open": 135.00999450683594,
         "High": 135.41000366210938,
         "Low": 134.11000061035156,
         "Close": 134.38999938964844,
         "Adj Close": 134.162109375,
         "Volume": 66015800,
         "_deepnote_index_column": "2021-04-27T00:00:00.000000"
        },
        {
         "Open": 134.30999755859375,
         "High": 135.02000427246094,
         "Low": 133.0800018310547,
         "Close": 133.5800018310547,
         "Adj Close": 133.35348510742188,
         "Volume": 107760100,
         "_deepnote_index_column": "2021-04-28T00:00:00.000000"
        },
        {
         "Open": 136.47000122070312,
         "High": 137.07000732421875,
         "Low": 132.4499969482422,
         "Close": 133.47999572753906,
         "Adj Close": 133.253662109375,
         "Volume": 151101000,
         "_deepnote_index_column": "2021-04-29T00:00:00.000000"
        },
        {
         "Open": 131.77999877929688,
         "High": 133.55999755859375,
         "Low": 131.07000732421875,
         "Close": 131.4600067138672,
         "Adj Close": 131.23709106445312,
         "Volume": 109839500,
         "_deepnote_index_column": "2021-04-30T00:00:00.000000"
        },
        {
         "Open": 132.0399932861328,
         "High": 134.07000732421875,
         "Low": 131.8300018310547,
         "Close": 132.5399932861328,
         "Adj Close": 132.31524658203125,
         "Volume": 75135100,
         "_deepnote_index_column": "2021-05-03T00:00:00.000000"
        },
        {
         "Open": 131.19000244140625,
         "High": 131.49000549316406,
         "Low": 126.69999694824219,
         "Close": 127.8499984741211,
         "Adj Close": 127.6332015991211,
         "Volume": 137564700,
         "_deepnote_index_column": "2021-05-04T00:00:00.000000"
        },
        {
         "Open": 129.1999969482422,
         "High": 130.4499969482422,
         "Low": 127.97000122070312,
         "Close": 128.10000610351562,
         "Adj Close": 127.8827896118164,
         "Volume": 84000900,
         "_deepnote_index_column": "2021-05-05T00:00:00.000000"
        },
        {
         "Open": 127.88999938964844,
         "High": 129.75,
         "Low": 127.12999725341797,
         "Close": 129.74000549316406,
         "Adj Close": 129.52000427246094,
         "Volume": 78128300,
         "_deepnote_index_column": "2021-05-06T00:00:00.000000"
        },
        {
         "Open": 130.85000610351562,
         "High": 131.25999450683594,
         "Low": 129.47999572753906,
         "Close": 130.2100067138672,
         "Adj Close": 130.2100067138672,
         "Volume": 78973300,
         "_deepnote_index_column": "2021-05-07T00:00:00.000000"
        },
        {
         "Open": 129.41000366210938,
         "High": 129.5399932861328,
         "Low": 126.80999755859375,
         "Close": 126.8499984741211,
         "Adj Close": 126.8499984741211,
         "Volume": 88071200,
         "_deepnote_index_column": "2021-05-10T00:00:00.000000"
        },
        {
         "Open": 123.5,
         "High": 126.2699966430664,
         "Low": 122.7699966430664,
         "Close": 125.91000366210938,
         "Adj Close": 125.91000366210938,
         "Volume": 126142800,
         "_deepnote_index_column": "2021-05-11T00:00:00.000000"
        },
        {
         "Open": 123.4000015258789,
         "High": 124.63999938964844,
         "Low": 122.25,
         "Close": 122.7699966430664,
         "Adj Close": 122.7699966430664,
         "Volume": 112172300,
         "_deepnote_index_column": "2021-05-12T00:00:00.000000"
        },
        {
         "Open": 124.58000183105469,
         "High": 126.1500015258789,
         "Low": 124.26000213623047,
         "Close": 124.97000122070312,
         "Adj Close": 124.97000122070312,
         "Volume": 105861300,
         "_deepnote_index_column": "2021-05-13T00:00:00.000000"
        },
        {
         "Open": 126.25,
         "High": 127.88999938964844,
         "Low": 125.8499984741211,
         "Close": 127.44999694824219,
         "Adj Close": 127.44999694824219,
         "Volume": 81918000,
         "_deepnote_index_column": "2021-05-14T00:00:00.000000"
        },
        {
         "Open": 126.81999969482422,
         "High": 126.93000030517578,
         "Low": 125.16999816894531,
         "Close": 126.2699966430664,
         "Adj Close": 126.2699966430664,
         "Volume": 74244600,
         "_deepnote_index_column": "2021-05-17T00:00:00.000000"
        },
        {
         "Open": 126.55999755859375,
         "High": 126.98999786376953,
         "Low": 124.77999877929688,
         "Close": 124.8499984741211,
         "Adj Close": 124.8499984741211,
         "Volume": 63342900,
         "_deepnote_index_column": "2021-05-18T00:00:00.000000"
        },
        {
         "Open": 123.16000366210938,
         "High": 124.91999816894531,
         "Low": 122.86000061035156,
         "Close": 124.69000244140625,
         "Adj Close": 124.69000244140625,
         "Volume": 92612000,
         "_deepnote_index_column": "2021-05-19T00:00:00.000000"
        },
        {
         "Open": 125.2300033569336,
         "High": 127.72000122070312,
         "Low": 125.0999984741211,
         "Close": 127.30999755859375,
         "Adj Close": 127.30999755859375,
         "Volume": 76857100,
         "_deepnote_index_column": "2021-05-20T00:00:00.000000"
        },
        {
         "Open": 127.81999969482422,
         "High": 128,
         "Low": 125.20999908447266,
         "Close": 125.43000030517578,
         "Adj Close": 125.43000030517578,
         "Volume": 79295400,
         "_deepnote_index_column": "2021-05-21T00:00:00.000000"
        },
        {
         "Open": 126.01000213623047,
         "High": 127.94000244140625,
         "Low": 125.94000244140625,
         "Close": 127.0999984741211,
         "Adj Close": 127.0999984741211,
         "Volume": 63092900,
         "_deepnote_index_column": "2021-05-24T00:00:00.000000"
        },
        {
         "Open": 127.81999969482422,
         "High": 128.32000732421875,
         "Low": 126.31999969482422,
         "Close": 126.9000015258789,
         "Adj Close": 126.9000015258789,
         "Volume": 72009500,
         "_deepnote_index_column": "2021-05-25T00:00:00.000000"
        },
        {
         "Open": 126.95999908447266,
         "High": 127.38999938964844,
         "Low": 126.41999816894531,
         "Close": 126.8499984741211,
         "Adj Close": 126.8499984741211,
         "Volume": 56575900,
         "_deepnote_index_column": "2021-05-26T00:00:00.000000"
        },
        {
         "Open": 126.44000244140625,
         "High": 127.63999938964844,
         "Low": 125.08000183105469,
         "Close": 125.27999877929688,
         "Adj Close": 125.27999877929688,
         "Volume": 94625600,
         "_deepnote_index_column": "2021-05-27T00:00:00.000000"
        },
        {
         "Open": 125.56999969482422,
         "High": 125.80000305175781,
         "Low": 124.55000305175781,
         "Close": 124.61000061035156,
         "Adj Close": 124.61000061035156,
         "Volume": 71311100,
         "_deepnote_index_column": "2021-05-28T00:00:00.000000"
        },
        {
         "Open": 125.08000183105469,
         "High": 125.3499984741211,
         "Low": 123.94000244140625,
         "Close": 124.27999877929688,
         "Adj Close": 124.27999877929688,
         "Volume": 67637100,
         "_deepnote_index_column": "2021-06-01T00:00:00.000000"
        },
        {
         "Open": 124.27999877929688,
         "High": 125.23999786376953,
         "Low": 124.05000305175781,
         "Close": 125.05999755859375,
         "Adj Close": 125.05999755859375,
         "Volume": 59278900,
         "_deepnote_index_column": "2021-06-02T00:00:00.000000"
        },
        {
         "Open": 124.68000030517578,
         "High": 124.8499984741211,
         "Low": 123.12999725341797,
         "Close": 123.54000091552734,
         "Adj Close": 123.54000091552734,
         "Volume": 76229200,
         "_deepnote_index_column": "2021-06-03T00:00:00.000000"
        },
        {
         "Open": 124.06999969482422,
         "High": 126.16000366210938,
         "Low": 123.8499984741211,
         "Close": 125.88999938964844,
         "Adj Close": 125.88999938964844,
         "Volume": 75169300,
         "_deepnote_index_column": "2021-06-04T00:00:00.000000"
        },
        {
         "Open": 126.16999816894531,
         "High": 126.31999969482422,
         "Low": 124.83000183105469,
         "Close": 125.9000015258789,
         "Adj Close": 125.9000015258789,
         "Volume": 71057600,
         "_deepnote_index_column": "2021-06-07T00:00:00.000000"
        },
        {
         "Open": 126.5999984741211,
         "High": 128.4600067138672,
         "Low": 126.20999908447266,
         "Close": 126.73999786376953,
         "Adj Close": 126.73999786376953,
         "Volume": 74403800,
         "_deepnote_index_column": "2021-06-08T00:00:00.000000"
        },
        {
         "Open": 127.20999908447266,
         "High": 127.75,
         "Low": 126.5199966430664,
         "Close": 127.12999725341797,
         "Adj Close": 127.12999725341797,
         "Volume": 56877900,
         "_deepnote_index_column": "2021-06-09T00:00:00.000000"
        },
        {
         "Open": 127.0199966430664,
         "High": 128.19000244140625,
         "Low": 125.94000244140625,
         "Close": 126.11000061035156,
         "Adj Close": 126.11000061035156,
         "Volume": 71186400,
         "_deepnote_index_column": "2021-06-10T00:00:00.000000"
        },
        {
         "Open": 126.52999877929688,
         "High": 127.44000244140625,
         "Low": 126.0999984741211,
         "Close": 127.3499984741211,
         "Adj Close": 127.3499984741211,
         "Volume": 53522400,
         "_deepnote_index_column": "2021-06-11T00:00:00.000000"
        },
        {
         "Open": 127.81999969482422,
         "High": 130.5399932861328,
         "Low": 127.06999969482422,
         "Close": 130.47999572753906,
         "Adj Close": 130.47999572753906,
         "Volume": 96906500,
         "_deepnote_index_column": "2021-06-14T00:00:00.000000"
        },
        {
         "Open": 129.94000244140625,
         "High": 130.60000610351562,
         "Low": 129.38999938964844,
         "Close": 129.63999938964844,
         "Adj Close": 129.63999938964844,
         "Volume": 62746300,
         "_deepnote_index_column": "2021-06-15T00:00:00.000000"
        },
        {
         "Open": 130.3699951171875,
         "High": 130.88999938964844,
         "Low": 128.4600067138672,
         "Close": 130.14999389648438,
         "Adj Close": 130.14999389648438,
         "Volume": 91815000,
         "_deepnote_index_column": "2021-06-16T00:00:00.000000"
        },
        {
         "Open": 129.8000030517578,
         "High": 132.5500030517578,
         "Low": 129.64999389648438,
         "Close": 131.7899932861328,
         "Adj Close": 131.7899932861328,
         "Volume": 96721700,
         "_deepnote_index_column": "2021-06-17T00:00:00.000000"
        },
        {
         "Open": 130.7100067138672,
         "High": 131.50999450683594,
         "Low": 130.24000549316406,
         "Close": 130.4600067138672,
         "Adj Close": 130.4600067138672,
         "Volume": 108953300,
         "_deepnote_index_column": "2021-06-18T00:00:00.000000"
        },
        {
         "Open": 130.3000030517578,
         "High": 132.41000366210938,
         "Low": 129.2100067138672,
         "Close": 132.3000030517578,
         "Adj Close": 132.3000030517578,
         "Volume": 79663300,
         "_deepnote_index_column": "2021-06-21T00:00:00.000000"
        },
        {
         "Open": 132.1300048828125,
         "High": 134.0800018310547,
         "Low": 131.6199951171875,
         "Close": 133.97999572753906,
         "Adj Close": 133.97999572753906,
         "Volume": 74783600,
         "_deepnote_index_column": "2021-06-22T00:00:00.000000"
        },
        {
         "Open": 133.77000427246094,
         "High": 134.32000732421875,
         "Low": 133.22999572753906,
         "Close": 133.6999969482422,
         "Adj Close": 133.6999969482422,
         "Volume": 60214200,
         "_deepnote_index_column": "2021-06-23T00:00:00.000000"
        },
        {
         "Open": 134.4499969482422,
         "High": 134.63999938964844,
         "Low": 132.92999267578125,
         "Close": 133.41000366210938,
         "Adj Close": 133.41000366210938,
         "Volume": 68711000,
         "_deepnote_index_column": "2021-06-24T00:00:00.000000"
        },
        {
         "Open": 133.4600067138672,
         "High": 133.88999938964844,
         "Low": 132.80999755859375,
         "Close": 133.11000061035156,
         "Adj Close": 133.11000061035156,
         "Volume": 70783700,
         "_deepnote_index_column": "2021-06-25T00:00:00.000000"
        },
        {
         "Open": 133.41000366210938,
         "High": 135.25,
         "Low": 133.35000610351562,
         "Close": 134.77999877929688,
         "Adj Close": 134.77999877929688,
         "Volume": 62111300,
         "_deepnote_index_column": "2021-06-28T00:00:00.000000"
        },
        {
         "Open": 134.8000030517578,
         "High": 136.49000549316406,
         "Low": 134.35000610351562,
         "Close": 136.3300018310547,
         "Adj Close": 136.3300018310547,
         "Volume": 64556100,
         "_deepnote_index_column": "2021-06-29T00:00:00.000000"
        },
        {
         "Open": 136.1699981689453,
         "High": 137.41000366210938,
         "Low": 135.8699951171875,
         "Close": 136.9600067138672,
         "Adj Close": 136.9600067138672,
         "Volume": 63261400,
         "_deepnote_index_column": "2021-06-30T00:00:00.000000"
        },
        {
         "Open": 136.60000610351562,
         "High": 137.3300018310547,
         "Low": 135.75999450683594,
         "Close": 137.27000427246094,
         "Adj Close": 137.27000427246094,
         "Volume": 52485800,
         "_deepnote_index_column": "2021-07-01T00:00:00.000000"
        },
        {
         "Open": 137.89999389648438,
         "High": 140,
         "Low": 137.75,
         "Close": 139.9600067138672,
         "Adj Close": 139.9600067138672,
         "Volume": 78852600,
         "_deepnote_index_column": "2021-07-02T00:00:00.000000"
        },
        {
         "Open": 140.07000732421875,
         "High": 143.14999389648438,
         "Low": 140.07000732421875,
         "Close": 142.02000427246094,
         "Adj Close": 142.02000427246094,
         "Volume": 108181800,
         "_deepnote_index_column": "2021-07-06T00:00:00.000000"
        },
        {
         "Open": 143.5399932861328,
         "High": 144.88999938964844,
         "Low": 142.66000366210938,
         "Close": 144.57000732421875,
         "Adj Close": 144.57000732421875,
         "Volume": 104911600,
         "_deepnote_index_column": "2021-07-07T00:00:00.000000"
        },
        {
         "Open": 141.5800018310547,
         "High": 144.05999755859375,
         "Low": 140.6699981689453,
         "Close": 143.24000549316406,
         "Adj Close": 143.24000549316406,
         "Volume": 105575500,
         "_deepnote_index_column": "2021-07-08T00:00:00.000000"
        },
        {
         "Open": 142.75,
         "High": 145.64999389648438,
         "Low": 142.64999389648438,
         "Close": 145.11000061035156,
         "Adj Close": 145.11000061035156,
         "Volume": 99788400,
         "_deepnote_index_column": "2021-07-09T00:00:00.000000"
        },
        {
         "Open": 146.2100067138672,
         "High": 146.32000732421875,
         "Low": 144,
         "Close": 144.5,
         "Adj Close": 144.5,
         "Volume": 76299700,
         "_deepnote_index_column": "2021-07-12T00:00:00.000000"
        },
        {
         "Open": 144.02999877929688,
         "High": 147.4600067138672,
         "Low": 143.6300048828125,
         "Close": 145.63999938964844,
         "Adj Close": 145.63999938964844,
         "Volume": 100827100,
         "_deepnote_index_column": "2021-07-13T00:00:00.000000"
        },
        {
         "Open": 148.10000610351562,
         "High": 149.57000732421875,
         "Low": 147.67999267578125,
         "Close": 149.14999389648438,
         "Adj Close": 149.14999389648438,
         "Volume": 127050800,
         "_deepnote_index_column": "2021-07-14T00:00:00.000000"
        },
        {
         "Open": 149.24000549316406,
         "High": 150,
         "Low": 147.08999633789062,
         "Close": 148.47999572753906,
         "Adj Close": 148.47999572753906,
         "Volume": 106820300,
         "_deepnote_index_column": "2021-07-15T00:00:00.000000"
        },
        {
         "Open": 148.4600067138672,
         "High": 149.75999450683594,
         "Low": 145.8800048828125,
         "Close": 146.38999938964844,
         "Adj Close": 146.38999938964844,
         "Volume": 93100300,
         "_deepnote_index_column": "2021-07-16T00:00:00.000000"
        },
        {
         "Open": 143.75,
         "High": 144.07000732421875,
         "Low": 141.6699981689453,
         "Close": 142.4499969482422,
         "Adj Close": 142.4499969482422,
         "Volume": 121434600,
         "_deepnote_index_column": "2021-07-19T00:00:00.000000"
        },
        {
         "Open": 143.4600067138672,
         "High": 147.10000610351562,
         "Low": 142.9600067138672,
         "Close": 146.14999389648438,
         "Adj Close": 146.14999389648438,
         "Volume": 96350000,
         "_deepnote_index_column": "2021-07-20T00:00:00.000000"
        },
        {
         "Open": 145.52999877929688,
         "High": 146.1300048828125,
         "Low": 144.6300048828125,
         "Close": 145.39999389648438,
         "Adj Close": 145.39999389648438,
         "Volume": 74993500,
         "_deepnote_index_column": "2021-07-21T00:00:00.000000"
        },
        {
         "Open": 145.94000244140625,
         "High": 148.1999969482422,
         "Low": 145.80999755859375,
         "Close": 146.8000030517578,
         "Adj Close": 146.8000030517578,
         "Volume": 77338200,
         "_deepnote_index_column": "2021-07-22T00:00:00.000000"
        },
        {
         "Open": 147.5500030517578,
         "High": 148.72000122070312,
         "Low": 146.9199981689453,
         "Close": 148.55999755859375,
         "Adj Close": 148.55999755859375,
         "Volume": 71447400,
         "_deepnote_index_column": "2021-07-23T00:00:00.000000"
        },
        {
         "Open": 148.27000427246094,
         "High": 149.8300018310547,
         "Low": 147.6999969482422,
         "Close": 148.99000549316406,
         "Adj Close": 148.99000549316406,
         "Volume": 72434100,
         "_deepnote_index_column": "2021-07-26T00:00:00.000000"
        },
        {
         "Open": 149.1199951171875,
         "High": 149.2100067138672,
         "Low": 145.5500030517578,
         "Close": 146.77000427246094,
         "Adj Close": 146.77000427246094,
         "Volume": 104818600,
         "_deepnote_index_column": "2021-07-27T00:00:00.000000"
        },
        {
         "Open": 144.80999755859375,
         "High": 146.97000122070312,
         "Low": 142.5399932861328,
         "Close": 144.97999572753906,
         "Adj Close": 144.97999572753906,
         "Volume": 118931200,
         "_deepnote_index_column": "2021-07-28T00:00:00.000000"
        },
        {
         "Open": 144.69000244140625,
         "High": 146.5500030517578,
         "Low": 144.5800018310547,
         "Close": 145.63999938964844,
         "Adj Close": 145.63999938964844,
         "Volume": 56699500,
         "_deepnote_index_column": "2021-07-29T00:00:00.000000"
        },
        {
         "Open": 144.3800048828125,
         "High": 146.3300018310547,
         "Low": 144.11000061035156,
         "Close": 145.86000061035156,
         "Adj Close": 145.86000061035156,
         "Volume": 70382000,
         "_deepnote_index_column": "2021-07-30T00:00:00.000000"
        }
       ],
       "rows_bottom": null
      },
      "text/plain": "                  Open        High         Low       Close   Adj Close  \\\nDate                                                                     \n2021-01-04  133.520004  133.610001  126.760002  129.410004  128.997803   \n2021-01-05  128.889999  131.740005  128.429993  131.009995  130.592697   \n2021-01-06  127.720001  131.050003  126.379997  126.599998  126.196747   \n2021-01-07  128.360001  131.630005  127.860001  130.919998  130.502991   \n2021-01-08  132.429993  132.630005  130.229996  132.050003  131.629379   \n...                ...         ...         ...         ...         ...   \n2021-07-26  148.270004  149.830002  147.699997  148.990005  148.990005   \n2021-07-27  149.119995  149.210007  145.550003  146.770004  146.770004   \n2021-07-28  144.809998  146.970001  142.539993  144.979996  144.979996   \n2021-07-29  144.690002  146.550003  144.580002  145.639999  145.639999   \n2021-07-30  144.380005  146.330002  144.110001  145.860001  145.860001   \n\n               Volume  \nDate                   \n2021-01-04  143301900  \n2021-01-05   97664900  \n2021-01-06  155088000  \n2021-01-07  109578200  \n2021-01-08  105158200  \n...               ...  \n2021-07-26   72434100  \n2021-07-27  104818600  \n2021-07-28  118931200  \n2021-07-29   56699500  \n2021-07-30   70382000  \n\n[145 rows x 6 columns]",
      "text/html": "<div>\n<style scoped>\n    .dataframe tbody tr th:only-of-type {\n        vertical-align: middle;\n    }\n\n    .dataframe tbody tr th {\n        vertical-align: top;\n    }\n\n    .dataframe thead th {\n        text-align: right;\n    }\n</style>\n<table border=\"1\" class=\"dataframe\">\n  <thead>\n    <tr style=\"text-align: right;\">\n      <th></th>\n      <th>Open</th>\n      <th>High</th>\n      <th>Low</th>\n      <th>Close</th>\n      <th>Adj Close</th>\n      <th>Volume</th>\n    </tr>\n    <tr>\n      <th>Date</th>\n      <th></th>\n      <th></th>\n      <th></th>\n      <th></th>\n      <th></th>\n      <th></th>\n    </tr>\n  </thead>\n  <tbody>\n    <tr>\n      <th>2021-01-04</th>\n      <td>133.520004</td>\n      <td>133.610001</td>\n      <td>126.760002</td>\n      <td>129.410004</td>\n      <td>128.997803</td>\n      <td>143301900</td>\n    </tr>\n    <tr>\n      <th>2021-01-05</th>\n      <td>128.889999</td>\n      <td>131.740005</td>\n      <td>128.429993</td>\n      <td>131.009995</td>\n      <td>130.592697</td>\n      <td>97664900</td>\n    </tr>\n    <tr>\n      <th>2021-01-06</th>\n      <td>127.720001</td>\n      <td>131.050003</td>\n      <td>126.379997</td>\n      <td>126.599998</td>\n      <td>126.196747</td>\n      <td>155088000</td>\n    </tr>\n    <tr>\n      <th>2021-01-07</th>\n      <td>128.360001</td>\n      <td>131.630005</td>\n      <td>127.860001</td>\n      <td>130.919998</td>\n      <td>130.502991</td>\n      <td>109578200</td>\n    </tr>\n    <tr>\n      <th>2021-01-08</th>\n      <td>132.429993</td>\n      <td>132.630005</td>\n      <td>130.229996</td>\n      <td>132.050003</td>\n      <td>131.629379</td>\n      <td>105158200</td>\n    </tr>\n    <tr>\n      <th>...</th>\n      <td>...</td>\n      <td>...</td>\n      <td>...</td>\n      <td>...</td>\n      <td>...</td>\n      <td>...</td>\n    </tr>\n    <tr>\n      <th>2021-07-26</th>\n      <td>148.270004</td>\n      <td>149.830002</td>\n      <td>147.699997</td>\n      <td>148.990005</td>\n      <td>148.990005</td>\n      <td>72434100</td>\n    </tr>\n    <tr>\n      <th>2021-07-27</th>\n      <td>149.119995</td>\n      <td>149.210007</td>\n      <td>145.550003</td>\n      <td>146.770004</td>\n      <td>146.770004</td>\n      <td>104818600</td>\n    </tr>\n    <tr>\n      <th>2021-07-28</th>\n      <td>144.809998</td>\n      <td>146.970001</td>\n      <td>142.539993</td>\n      <td>144.979996</td>\n      <td>144.979996</td>\n      <td>118931200</td>\n    </tr>\n    <tr>\n      <th>2021-07-29</th>\n      <td>144.690002</td>\n      <td>146.550003</td>\n      <td>144.580002</td>\n      <td>145.639999</td>\n      <td>145.639999</td>\n      <td>56699500</td>\n    </tr>\n    <tr>\n      <th>2021-07-30</th>\n      <td>144.380005</td>\n      <td>146.330002</td>\n      <td>144.110001</td>\n      <td>145.860001</td>\n      <td>145.860001</td>\n      <td>70382000</td>\n    </tr>\n  </tbody>\n</table>\n<p>145 rows × 6 columns</p>\n</div>"
     },
     "metadata": {}
    }
   ],
   "execution_count": 26
  },
  {
   "cell_type": "code",
   "source": "a = np.array(df['Open'])\na",
   "metadata": {
    "tags": [],
    "cell_id": "00005-1fdf35af-1632-4727-99a2-4e2653749849",
    "deepnote_to_be_reexecuted": false,
    "source_hash": "4951f543",
    "execution_start": 1628009709727,
    "execution_millis": 13,
    "deepnote_cell_type": "code"
   },
   "outputs": [
    {
     "output_type": "execute_result",
     "execution_count": 28,
     "data": {
      "text/plain": "array([133.52000427, 128.88999939, 127.72000122, 128.36000061,\n       132.42999268, 129.19000244, 128.5       , 128.75999451,\n       130.80000305, 128.77999878, 127.77999878, 128.66000366,\n       133.80000305, 136.27999878, 143.07000732, 143.6000061 ,\n       143.42999268, 139.52000427, 135.83000183, 133.75      ,\n       135.72999573, 135.75999451, 136.30000305, 137.3500061 ,\n       136.02999878, 136.61999512, 136.47999573, 135.8999939 ,\n       134.3500061 , 135.49000549, 131.25      , 129.19999695,\n       130.24000549, 128.00999451, 123.76000214, 124.94000244,\n       124.68000031, 122.58999634, 123.75      , 128.41000366,\n       124.80999756, 121.75      , 120.98000336, 120.93000031,\n       119.02999878, 121.69000244, 122.54000092, 120.40000153,\n       121.41000366, 125.69999695, 124.05000305, 122.87999725,\n       119.90000153, 120.33000183, 123.33000183, 122.81999969,\n       119.54000092, 120.34999847, 121.65000153, 120.11000061,\n       121.65000153, 123.66000366, 123.87000275, 126.5       ,\n       125.83000183, 128.94999695, 129.80000305, 132.52000427,\n       132.44000244, 134.94000244, 133.82000732, 134.30000305,\n       133.50999451, 135.02000427, 132.36000061, 133.03999329,\n       132.16000366, 134.83000183, 135.00999451, 134.30999756,\n       136.47000122, 131.77999878, 132.03999329, 131.19000244,\n       129.19999695, 127.88999939, 130.8500061 , 129.41000366,\n       123.5       , 123.40000153, 124.58000183, 126.25      ,\n       126.81999969, 126.55999756, 123.16000366, 125.23000336,\n       127.81999969, 126.01000214, 127.81999969, 126.95999908,\n       126.44000244, 125.56999969, 125.08000183, 124.27999878,\n       124.68000031, 124.06999969, 126.16999817, 126.59999847,\n       127.20999908, 127.01999664, 126.52999878, 127.81999969,\n       129.94000244, 130.36999512, 129.80000305, 130.71000671,\n       130.30000305, 132.13000488, 133.77000427, 134.44999695,\n       133.46000671, 133.41000366, 134.80000305, 136.16999817,\n       136.6000061 , 137.8999939 , 140.07000732, 143.53999329,\n       141.58000183, 142.75      , 146.21000671, 144.02999878,\n       148.1000061 , 149.24000549, 148.46000671, 143.75      ,\n       143.46000671, 145.52999878, 145.94000244, 147.55000305,\n       148.27000427, 149.11999512, 144.80999756, 144.69000244,\n       144.38000488])"
     },
     "metadata": {}
    }
   ],
   "execution_count": 28
  },
  {
   "cell_type": "code",
   "source": "b = np.array(df['Close'])\nb",
   "metadata": {
    "tags": [],
    "cell_id": "00006-a7920faf-2fed-4b33-bbd4-4f177d1f1e4f",
    "deepnote_to_be_reexecuted": false,
    "source_hash": "d18f72ee",
    "execution_start": 1628009748323,
    "execution_millis": 8,
    "deepnote_cell_type": "code"
   },
   "outputs": [
    {
     "output_type": "execute_result",
     "execution_count": 29,
     "data": {
      "text/plain": "array([129.41000366, 131.00999451, 126.59999847, 130.91999817,\n       132.05000305, 128.97999573, 128.80000305, 130.88999939,\n       128.91000366, 127.13999939, 127.83000183, 132.02999878,\n       136.86999512, 139.07000732, 142.91999817, 143.16000366,\n       142.05999756, 137.08999634, 131.96000671, 134.13999939,\n       134.99000549, 133.94000244, 137.38999939, 136.75999451,\n       136.91000366, 136.00999451, 135.38999939, 135.13000488,\n       135.36999512, 133.19000244, 130.83999634, 129.71000671,\n       129.86999512, 126.        , 125.86000061, 125.34999847,\n       120.98999786, 121.26000214, 127.79000092, 125.12000275,\n       122.05999756, 120.12999725, 121.41999817, 116.36000061,\n       121.08999634, 119.98000336, 121.95999908, 121.02999878,\n       123.98999786, 125.56999969, 124.76000214, 120.52999878,\n       119.98999786, 123.38999939, 122.54000092, 120.08999634,\n       120.58999634, 121.20999908, 121.38999939, 119.90000153,\n       122.15000153, 123.        , 125.90000153, 126.20999908,\n       127.90000153, 130.36000061, 133.        , 131.24000549,\n       134.42999268, 132.02999878, 134.5       , 134.16000366,\n       134.83999634, 133.11000061, 133.5       , 131.94000244,\n       134.32000732, 134.72000122, 134.38999939, 133.58000183,\n       133.47999573, 131.46000671, 132.53999329, 127.84999847,\n       128.1000061 , 129.74000549, 130.21000671, 126.84999847,\n       125.91000366, 122.76999664, 124.97000122, 127.44999695,\n       126.26999664, 124.84999847, 124.69000244, 127.30999756,\n       125.43000031, 127.09999847, 126.90000153, 126.84999847,\n       125.27999878, 124.61000061, 124.27999878, 125.05999756,\n       123.54000092, 125.88999939, 125.90000153, 126.73999786,\n       127.12999725, 126.11000061, 127.34999847, 130.47999573,\n       129.63999939, 130.1499939 , 131.78999329, 130.46000671,\n       132.30000305, 133.97999573, 133.69999695, 133.41000366,\n       133.11000061, 134.77999878, 136.33000183, 136.96000671,\n       137.27000427, 139.96000671, 142.02000427, 144.57000732,\n       143.24000549, 145.11000061, 144.5       , 145.63999939,\n       149.1499939 , 148.47999573, 146.38999939, 142.44999695,\n       146.1499939 , 145.3999939 , 146.80000305, 148.55999756,\n       148.99000549, 146.77000427, 144.97999573, 145.63999939,\n       145.86000061])"
     },
     "metadata": {}
    }
   ],
   "execution_count": 29
  },
  {
   "cell_type": "code",
   "source": "plt.scatter(a, b)",
   "metadata": {
    "tags": [],
    "cell_id": "00007-6a739c30-3263-417f-b64d-0e1cb081d66b",
    "deepnote_to_be_reexecuted": false,
    "source_hash": "f77a3f3c",
    "execution_start": 1628009771181,
    "execution_millis": 178,
    "deepnote_cell_type": "code"
   },
   "outputs": [
    {
     "output_type": "execute_result",
     "execution_count": 31,
     "data": {
      "text/plain": "<matplotlib.collections.PathCollection at 0x7ff4e4fb1810>"
     },
     "metadata": {}
    },
    {
     "data": {
      "text/plain": "<Figure size 432x288 with 1 Axes>",
      "image/png": "[encoded data removed]"
     },
     "metadata": {
      "needs_background": "light",
      "image/png": {
       "width": 377,
       "height": 248
      }
     },
     "output_type": "display_data"
    }
   ],
   "execution_count": 31
  },
  {
   "cell_type": "code",
   "source": "class AppleStocks:\n\n    def __init__(self, X, Y, alpha, iterations):\n\n        self.x = X\n        self.y = Y\n        self.alpha = alpha\n        self.iterations = iterations\n        self.m = 1\n        self.c = 2\n        self.n = 1\n\n    def hypo(self, x, y):\n        return self.m + (self.c)*(x) + (self.n)*(y) \n\n    def J(self):\n        ",
   "metadata": {
    "tags": [],
    "cell_id": "00008-590e64f0-269d-4e0d-9d6b-12656035c38c",
    "deepnote_cell_type": "code"
   },
   "outputs": [],
   "execution_count": null
  },
  {
   "cell_type": "markdown",
   "source": "<a style='text-decoration:none;line-height:16px;display:flex;color:#5B5B62;padding:10px;justify-content:end;' href='https://deepnote.com?utm_source=created-in-deepnote-cell&projectId=8f6b175f-8efe-462f-b327-21866ec4ebff' target=\"_blank\">\n<img alt='Created in deepnote.com' style='display:inline;max-height:16px;margin:0px;margin-right:7.5px;' src='data:image/svg+xml;base64,PD94bWwgdmVyc2lvbj0iMS4wIiBlbmNvZGluZz0iVVRGLTgiPz4KPHN2ZyB3aWR0aD0iODBweCIgaGVpZ2h0PSI4MHB4IiB2aWV3Qm94PSIwIDAgODAgODAiIHZlcnNpb249IjEuMSIgeG1sbnM9Imh0dHA6Ly93d3cudzMub3JnLzIwMDAvc3ZnIiB4bWxuczp4bGluaz0iaHR0cDovL3d3dy53My5vcmcvMTk5OS94bGluayI+CiAgICA8IS0tIEdlbmVyYXRvcjogU2tldGNoIDU0LjEgKDc2NDkwKSAtIGh0dHBzOi8vc2tldGNoYXBwLmNvbSAtLT4KICAgIDx0aXRsZT5Hcm91cCAzPC90aXRsZT4KICAgIDxkZXNjPkNyZWF0ZWQgd2l0aCBTa2V0Y2guPC9kZXNjPgogICAgPGcgaWQ9IkxhbmRpbmciIHN0cm9rZT0ibm9uZSIgc3Ryb2tlLXdpZHRoPSIxIiBmaWxsPSJub25lIiBmaWxsLXJ1bGU9ImV2ZW5vZGQiPgogICAgICAgIDxnIGlkPSJBcnRib2FyZCIgdHJhbnNmb3JtPSJ0cmFuc2xhdGUoLTEyMzUuMDAwMDAwLCAtNzkuMDAwMDAwKSI+CiAgICAgICAgICAgIDxnIGlkPSJHcm91cC0zIiB0cmFuc2Zvcm09InRyYW5zbGF0ZSgxMjM1LjAwMDAwMCwgNzkuMDAwMDAwKSI+CiAgICAgICAgICAgICAgICA8cG9seWdvbiBpZD0iUGF0aC0yMCIgZmlsbD0iIzAyNjVCNCIgcG9pbnRzPSIyLjM3NjIzNzYyIDgwIDM4LjA0NzY2NjcgODAgNTcuODIxNzgyMiA3My44MDU3NTkyIDU3LjgyMTc4MjIgMzIuNzU5MjczOSAzOS4xNDAyMjc4IDMxLjY4MzE2ODMiPjwvcG9seWdvbj4KICAgICAgICAgICAgICAgIDxwYXRoIGQ9Ik0zNS4wMDc3MTgsODAgQzQyLjkwNjIwMDcsNzYuNDU0OTM1OCA0Ny41NjQ5MTY3LDcxLjU0MjI2NzEgNDguOTgzODY2LDY1LjI2MTk5MzkgQzUxLjExMjI4OTksNTUuODQxNTg0MiA0MS42NzcxNzk1LDQ5LjIxMjIyODQgMjUuNjIzOTg0Niw0OS4yMTIyMjg0IEMyNS40ODQ5Mjg5LDQ5LjEyNjg0NDggMjkuODI2MTI5Niw0My4yODM4MjQ4IDM4LjY0NzU4NjksMzEuNjgzMTY4MyBMNzIuODcxMjg3MSwzMi41NTQ0MjUgTDY1LjI4MDk3Myw2Ny42NzYzNDIxIEw1MS4xMTIyODk5LDc3LjM3NjE0NCBMMzUuMDA3NzE4LDgwIFoiIGlkPSJQYXRoLTIyIiBmaWxsPSIjMDAyODY4Ij48L3BhdGg+CiAgICAgICAgICAgICAgICA8cGF0aCBkPSJNMCwzNy43MzA0NDA1IEwyNy4xMTQ1MzcsMC4yNTcxMTE0MzYgQzYyLjM3MTUxMjMsLTEuOTkwNzE3MDEgODAsMTAuNTAwMzkyNyA4MCwzNy43MzA0NDA1IEM4MCw2NC45NjA0ODgyIDY0Ljc3NjUwMzgsNzkuMDUwMzQxNCAzNC4zMjk1MTEzLDgwIEM0Ny4wNTUzNDg5LDc3LjU2NzA4MDggNTMuNDE4MjY3Nyw3MC4zMTM2MTAzIDUzLjQxODI2NzcsNTguMjM5NTg4NSBDNTMuNDE4MjY3Nyw0MC4xMjg1NTU3IDM2LjMwMzk1NDQsMzcuNzMwNDQwNSAyNS4yMjc0MTcsMzcuNzMwNDQwNSBDMTcuODQzMDU4NiwzNy43MzA0NDA1IDkuNDMzOTE5NjYsMzcuNzMwNDQwNSAwLDM3LjczMDQ0MDUgWiIgaWQ9IlBhdGgtMTkiIGZpbGw9IiMzNzkzRUYiPjwvcGF0aD4KICAgICAgICAgICAgPC9nPgogICAgICAgIDwvZz4KICAgIDwvZz4KPC9zdmc+' > </img>\nCreated in <span style='font-weight:600;margin-left:4px;'>Deepnote</span></a>",
   "metadata": {
    "tags": [],
    "created_in_deepnote_cell": true,
    "deepnote_cell_type": "markdown"
   }
  }
 ],
 "nbformat": 4,
 "nbformat_minor": 5,
 "metadata": {
  "kernelspec": {
   "display_name": "Python 3 (ipykernel)",
   "language": "python",
   "name": "python3"
  },
  "language_info": {
   "codemirror_mode": {
    "name": "ipython",
    "version": 3
   },
   "file_extension": ".py",
   "mimetype": "text/x-python",
   "name": "python",
   "nbconvert_exporter": "python",
   "pygments_lexer": "ipython3",
   "version": "3.8.10"
  },
  "deepnote_notebook_id": "75fb490b-b649-4699-9319-68e07e807e05",
  "deepnote": {},
  "deepnote_execution_queue": []
 }
}